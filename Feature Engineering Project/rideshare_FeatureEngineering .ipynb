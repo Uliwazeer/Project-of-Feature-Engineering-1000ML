{
 "cells": [
  {
   "cell_type": "markdown",
   "metadata": {},
   "source": [
    "# Uber and Lyft Dataset Boston, MA - Feature Engineering "
   ]
  },
  {
   "cell_type": "markdown",
   "metadata": {},
   "source": [
    "#### Eng. Faten Salim"
   ]
  },
  {
   "cell_type": "code",
   "execution_count": 1,
   "metadata": {
    "ExecuteTime": {
     "end_time": "2023-02-17T20:35:38.887145Z",
     "start_time": "2023-02-17T20:35:37.711163Z"
    },
    "_cell_guid": "b1076ridesharec-b9ad-4769-8c92-a6c4dae69d19",
    "_uuid": "8f2839f25d086af736a60e9eeb907d3b93b6e0e5",
    "execution": {
     "iopub.execute_input": "2021-07-20T06:47:31.965909Z",
     "iopub.status.busy": "2021-07-20T06:47:31.965536Z",
     "iopub.status.idle": "2021-07-20T06:47:31.975051Z",
     "shell.execute_reply": "2021-07-20T06:47:31.974081Z",
     "shell.execute_reply.started": "2021-07-20T06:47:31.965877Z"
    },
    "id": "tjhBawRVWRaU"
   },
   "outputs": [],
   "source": [
    "# Work with Arrays and linear algebra\n",
    "import numpy as np \n",
    "\n",
    "# Data processing\n",
    "import pandas as pd \n",
    "\n",
    "# Data visualizations \n",
    "import matplotlib.pyplot as plt\n",
    "import seaborn as sb"
   ]
  },
  {
   "cell_type": "code",
   "execution_count": 2,
   "metadata": {
    "ExecuteTime": {
     "end_time": "2023-02-17T20:35:42.957121Z",
     "start_time": "2023-02-17T20:35:38.889153Z"
    },
    "colab": {
     "base_uri": "https://localhost:8080/"
    },
    "execution": {
     "iopub.execute_input": "2021-07-20T06:47:38.888683Z",
     "iopub.status.busy": "2021-07-20T06:47:38.888273Z",
     "iopub.status.idle": "2021-07-20T06:47:38.893979Z",
     "shell.execute_reply": "2021-07-20T06:47:38.893319Z",
     "shell.execute_reply.started": "2021-07-20T06:47:38.888635Z"
    },
    "id": "4Pu7BcAsWRaY",
    "outputId": "50a30b91-3de3-4b99-d3b9-83brideshare001b1d5"
   },
   "outputs": [
    {
     "data": {
      "text/plain": [
       "(693071, 57)"
      ]
     },
     "execution_count": 2,
     "metadata": {},
     "output_type": "execute_result"
    }
   ],
   "source": [
    "rideshare = pd.read_csv('rideshare_kaggle.csv')\n",
    "rideshare.shape\n",
    "#Data set has 693071 observations and 57 features."
   ]
  },
  {
   "cell_type": "code",
   "execution_count": 3,
   "metadata": {
    "ExecuteTime": {
     "end_time": "2023-02-17T20:35:43.749072Z",
     "start_time": "2023-02-17T20:35:42.959116Z"
    },
    "colab": {
     "base_uri": "https://localhost:8080/"
    },
    "execution": {
     "iopub.execute_input": "2021-07-20T06:47:38.895707Z",
     "iopub.status.busy": "2021-07-20T06:47:38.895305Z",
     "iopub.status.idle": "2021-07-20T06:47:39.704669Z",
     "shell.execute_reply": "2021-07-20T06:47:39.703736Z",
     "shell.execute_reply.started": "2021-07-20T06:47:38.895679Z"
    },
    "id": "b71cvokGWRaZ",
    "outputId": "083eda91-8006-4e09-da01-6ad580d9a023",
    "scrolled": false
   },
   "outputs": [
    {
     "name": "stdout",
     "output_type": "stream",
     "text": [
      "<class 'pandas.core.frame.DataFrame'>\n",
      "RangeIndex: 693071 entries, 0 to 693070\n",
      "Data columns (total 57 columns):\n",
      " #   Column                       Non-Null Count   Dtype  \n",
      "---  ------                       --------------   -----  \n",
      " 0   id                           693071 non-null  object \n",
      " 1   timestamp                    693071 non-null  float64\n",
      " 2   hour                         693071 non-null  int64  \n",
      " 3   day                          693071 non-null  int64  \n",
      " 4   month                        693071 non-null  int64  \n",
      " 5   datetime                     693071 non-null  object \n",
      " 6   timezone                     693071 non-null  object \n",
      " 7   source                       693071 non-null  object \n",
      " 8   destination                  693071 non-null  object \n",
      " 9   cab_type                     693071 non-null  object \n",
      " 10  product_id                   693071 non-null  object \n",
      " 11  name                         693071 non-null  object \n",
      " 12  price                        637976 non-null  float64\n",
      " 13  distance                     693071 non-null  float64\n",
      " 14  surge_multiplier             693071 non-null  float64\n",
      " 15  latitude                     693071 non-null  float64\n",
      " 16  longitude                    693071 non-null  float64\n",
      " 17  temperature                  693071 non-null  float64\n",
      " 18  apparentTemperature          693071 non-null  float64\n",
      " 19  short_summary                693071 non-null  object \n",
      " 20  long_summary                 693071 non-null  object \n",
      " 21  precipIntensity              693071 non-null  float64\n",
      " 22  precipProbability            693071 non-null  float64\n",
      " 23  humidity                     693071 non-null  float64\n",
      " 24  windSpeed                    693071 non-null  float64\n",
      " 25  windGust                     693071 non-null  float64\n",
      " 26  windGustTime                 693071 non-null  int64  \n",
      " 27  visibility                   693071 non-null  float64\n",
      " 28  temperatureHigh              693071 non-null  float64\n",
      " 29  temperatureHighTime          693071 non-null  int64  \n",
      " 30  temperatureLow               693071 non-null  float64\n",
      " 31  temperatureLowTime           693071 non-null  int64  \n",
      " 32  apparentTemperatureHigh      693071 non-null  float64\n",
      " 33  apparentTemperatureHighTime  693071 non-null  int64  \n",
      " 34  apparentTemperatureLow       693071 non-null  float64\n",
      " 35  apparentTemperatureLowTime   693071 non-null  int64  \n",
      " 36  icon                         693071 non-null  object \n",
      " 37  dewPoint                     693071 non-null  float64\n",
      " 38  pressure                     693071 non-null  float64\n",
      " 39  windBearing                  693071 non-null  int64  \n",
      " 40  cloudCover                   693071 non-null  float64\n",
      " 41  uvIndex                      693071 non-null  int64  \n",
      " 42  visibility.1                 693071 non-null  float64\n",
      " 43  ozone                        693071 non-null  float64\n",
      " 44  sunriseTime                  693071 non-null  int64  \n",
      " 45  sunsetTime                   693071 non-null  int64  \n",
      " 46  moonPhase                    693071 non-null  float64\n",
      " 47  precipIntensityMax           693071 non-null  float64\n",
      " 48  uvIndexTime                  693071 non-null  int64  \n",
      " 49  temperatureMin               693071 non-null  float64\n",
      " 50  temperatureMinTime           693071 non-null  int64  \n",
      " 51  temperatureMax               693071 non-null  float64\n",
      " 52  temperatureMaxTime           693071 non-null  int64  \n",
      " 53  apparentTemperatureMin       693071 non-null  float64\n",
      " 54  apparentTemperatureMinTime   693071 non-null  int64  \n",
      " 55  apparentTemperatureMax       693071 non-null  float64\n",
      " 56  apparentTemperatureMaxTime   693071 non-null  int64  \n",
      "dtypes: float64(29), int64(17), object(11)\n",
      "memory usage: 301.4+ MB\n"
     ]
    }
   ],
   "source": [
    "rideshare.info()"
   ]
  },
  {
   "cell_type": "markdown",
   "metadata": {
    "id": "hRinGpE1ZMzK"
   },
   "source": [
    "# Nulvalues or duplicated rows ?"
   ]
  },
  {
   "cell_type": "markdown",
   "metadata": {
    "id": "k2EGgVfCZMzN"
   },
   "source": [
    " Checking if there are duplicated rows"
   ]
  },
  {
   "cell_type": "code",
   "execution_count": 4,
   "metadata": {
    "ExecuteTime": {
     "end_time": "2023-02-17T20:35:45.131963Z",
     "start_time": "2023-02-17T20:35:43.751062Z"
    },
    "colab": {
     "base_uri": "https://localhost:8080/"
    },
    "id": "zHjruJRMZMzO",
    "outputId": "f0ecf1e5-a108-449b-f353-8703c8rideshare01b9"
   },
   "outputs": [
    {
     "name": "stdout",
     "output_type": "stream",
     "text": [
      "0.0% of data is duplicated rows\n"
     ]
    }
   ],
   "source": [
    "print('{} of data is duplicated rows'.format(\n",
    "    str(round(rideshare.duplicated().sum() / rideshare.size * 100,5))+'%'))"
   ]
  },
  {
   "cell_type": "markdown",
   "metadata": {
    "id": "BCS-YoCNZMzP"
   },
   "source": [
    "Checking if there are Nulvalues"
   ]
  },
  {
   "cell_type": "code",
   "execution_count": 5,
   "metadata": {
    "ExecuteTime": {
     "end_time": "2023-02-17T20:35:45.925052Z",
     "start_time": "2023-02-17T20:35:45.132960Z"
    },
    "colab": {
     "base_uri": "https://localhost:8080/"
    },
    "id": "8oA6M7HZZMzQ",
    "outputId": "bdb500c0-f14e-4d16-8f49-327c8569f957",
    "scrolled": true
   },
   "outputs": [
    {
     "name": "stdout",
     "output_type": "stream",
     "text": [
      "0.139% of data is NuLL\n"
     ]
    }
   ],
   "source": [
    "print('{} of data is NuLL'.format(\n",
    "    str(round(rideshare.isna().sum().sum() / rideshare.size * 100,3))+'%'))"
   ]
  },
  {
   "cell_type": "code",
   "execution_count": 6,
   "metadata": {
    "ExecuteTime": {
     "end_time": "2023-02-17T20:36:13.671027Z",
     "start_time": "2023-02-17T20:35:45.927050Z"
    },
    "colab": {
     "base_uri": "https://localhost:8080/",
     "height": 433
    },
    "id": "ZhrLmJDEqq_7",
    "outputId": "5122ba5a-ed5e-41a1-d9c9-87a385952a56"
   },
   "outputs": [
    {
     "data": {
      "text/plain": [
       "<AxesSubplot:>"
      ]
     },
     "execution_count": 6,
     "metadata": {},
     "output_type": "execute_result"
    },
    {
     "data": {
      "image/png": "[encoded data removed]",
      "text/plain": [
       "<Figure size 432x288 with 2 Axes>"
      ]
     },
     "metadata": {
      "needs_background": "light"
     },
     "output_type": "display_data"
    }
   ],
   "source": [
    "cols = rideshare.columns\n",
    "sb.heatmap(rideshare[cols].isnull())"
   ]
  },
  {
   "cell_type": "markdown",
   "metadata": {
    "id": "rtRmF-uhZMzR"
   },
   "source": [
    "### Drop Null Values"
   ]
  },
  {
   "cell_type": "code",
   "execution_count": 7,
   "metadata": {
    "ExecuteTime": {
     "end_time": "2023-02-17T20:36:14.575381Z",
     "start_time": "2023-02-17T20:36:13.672025Z"
    },
    "id": "nIzrZyXeZMzS"
   },
   "outputs": [],
   "source": [
    "rideshare.dropna(axis=0,inplace=True)"
   ]
  },
  {
   "cell_type": "code",
   "execution_count": 8,
   "metadata": {
    "ExecuteTime": {
     "end_time": "2023-02-17T20:36:15.322943Z",
     "start_time": "2023-02-17T20:36:14.576378Z"
    },
    "colab": {
     "base_uri": "https://localhost:8080/",
     "height": 408
    },
    "id": "6hCiI4jorlas",
    "outputId": "cb0863d1-7657-4436-e2f7-b90dc93097fb"
   },
   "outputs": [
    {
     "name": "stdout",
     "output_type": "stream",
     "text": [
      "0.0% of data is NuLL after dropping\n"
     ]
    }
   ],
   "source": [
    "print('{} of data is NuLL after dropping'.format(\n",
    "    str(round(rideshare.isna().sum().sum() / rideshare.size * 100,3))+'%'))"
   ]
  },
  {
   "cell_type": "markdown",
   "metadata": {
    "id": "1hZaMTuUZMzT"
   },
   "source": [
    "# Delete some features using Domain knowledge"
   ]
  },
  {
   "cell_type": "markdown",
   "metadata": {
    "id": "35tptCRNWRaZ"
   },
   "source": [
    "We want to prodict the (price) so we Remove the following features Because it has no effect on the price of the trip"
   ]
  },
  {
   "cell_type": "code",
   "execution_count": 9,
   "metadata": {
    "ExecuteTime": {
     "end_time": "2023-02-17T20:36:15.477822Z",
     "start_time": "2023-02-17T20:36:15.326064Z"
    },
    "colab": {
     "base_uri": "https://localhost:8080/",
     "height": 416
    },
    "execution": {
     "iopub.execute_input": "2021-07-20T06:47:39.706447Z",
     "iopub.status.busy": "2021-07-20T06:47:39.70614Z",
     "iopub.status.idle": "2021-07-20T06:47:39.844273Z",
     "shell.execute_reply": "2021-07-20T06:47:39.843215Z",
     "shell.execute_reply.started": "2021-07-20T06:47:39.706417Z"
    },
    "id": "boC19QQ6WRab",
    "outputId": "7c43ec16-fed4-4f1c-f3e0-dbcdef9b0f2d",
    "scrolled": false
   },
   "outputs": [
    {
     "name": "stdout",
     "output_type": "stream",
     "text": [
      "(637976, 40)\n"
     ]
    },
    {
     "data": {
      "text/html": [
       "<div>\n",
       "<style scoped>\n",
       "    .dataframe tbody tr th:only-of-type {\n",
       "        vertical-align: middle;\n",
       "    }\n",
       "\n",
       "    .dataframe tbody tr th {\n",
       "        vertical-align: top;\n",
       "    }\n",
       "\n",
       "    .dataframe thead th {\n",
       "        text-align: right;\n",
       "    }\n",
       "</style>\n",
       "<table border=\"1\" class=\"dataframe\">\n",
       "  <thead>\n",
       "    <tr style=\"text-align: right;\">\n",
       "      <th></th>\n",
       "      <th>hour</th>\n",
       "      <th>day</th>\n",
       "      <th>month</th>\n",
       "      <th>datetime</th>\n",
       "      <th>timezone</th>\n",
       "      <th>source</th>\n",
       "      <th>destination</th>\n",
       "      <th>cab_type</th>\n",
       "      <th>name</th>\n",
       "      <th>price</th>\n",
       "      <th>...</th>\n",
       "      <th>cloudCover</th>\n",
       "      <th>uvIndex</th>\n",
       "      <th>visibility.1</th>\n",
       "      <th>ozone</th>\n",
       "      <th>moonPhase</th>\n",
       "      <th>precipIntensityMax</th>\n",
       "      <th>temperatureMin</th>\n",
       "      <th>temperatureMax</th>\n",
       "      <th>apparentTemperatureMin</th>\n",
       "      <th>apparentTemperatureMax</th>\n",
       "    </tr>\n",
       "  </thead>\n",
       "  <tbody>\n",
       "    <tr>\n",
       "      <th>0</th>\n",
       "      <td>9</td>\n",
       "      <td>16</td>\n",
       "      <td>12</td>\n",
       "      <td>2018-12-16 09:30:07</td>\n",
       "      <td>America/New_York</td>\n",
       "      <td>Haymarket Square</td>\n",
       "      <td>North Station</td>\n",
       "      <td>Lyft</td>\n",
       "      <td>Shared</td>\n",
       "      <td>5.0</td>\n",
       "      <td>...</td>\n",
       "      <td>0.72</td>\n",
       "      <td>0</td>\n",
       "      <td>10.000</td>\n",
       "      <td>303.8</td>\n",
       "      <td>0.30</td>\n",
       "      <td>0.1276</td>\n",
       "      <td>39.89</td>\n",
       "      <td>43.68</td>\n",
       "      <td>33.73</td>\n",
       "      <td>38.07</td>\n",
       "    </tr>\n",
       "    <tr>\n",
       "      <th>1</th>\n",
       "      <td>2</td>\n",
       "      <td>27</td>\n",
       "      <td>11</td>\n",
       "      <td>2018-11-27 02:00:23</td>\n",
       "      <td>America/New_York</td>\n",
       "      <td>Haymarket Square</td>\n",
       "      <td>North Station</td>\n",
       "      <td>Lyft</td>\n",
       "      <td>Lux</td>\n",
       "      <td>11.0</td>\n",
       "      <td>...</td>\n",
       "      <td>1.00</td>\n",
       "      <td>0</td>\n",
       "      <td>4.786</td>\n",
       "      <td>291.1</td>\n",
       "      <td>0.64</td>\n",
       "      <td>0.1300</td>\n",
       "      <td>40.49</td>\n",
       "      <td>47.30</td>\n",
       "      <td>36.20</td>\n",
       "      <td>43.92</td>\n",
       "    </tr>\n",
       "    <tr>\n",
       "      <th>2</th>\n",
       "      <td>1</td>\n",
       "      <td>28</td>\n",
       "      <td>11</td>\n",
       "      <td>2018-11-28 01:00:22</td>\n",
       "      <td>America/New_York</td>\n",
       "      <td>Haymarket Square</td>\n",
       "      <td>North Station</td>\n",
       "      <td>Lyft</td>\n",
       "      <td>Lyft</td>\n",
       "      <td>7.0</td>\n",
       "      <td>...</td>\n",
       "      <td>0.03</td>\n",
       "      <td>0</td>\n",
       "      <td>10.000</td>\n",
       "      <td>315.7</td>\n",
       "      <td>0.68</td>\n",
       "      <td>0.1064</td>\n",
       "      <td>35.36</td>\n",
       "      <td>47.55</td>\n",
       "      <td>31.04</td>\n",
       "      <td>44.12</td>\n",
       "    </tr>\n",
       "    <tr>\n",
       "      <th>3</th>\n",
       "      <td>4</td>\n",
       "      <td>30</td>\n",
       "      <td>11</td>\n",
       "      <td>2018-11-30 04:53:02</td>\n",
       "      <td>America/New_York</td>\n",
       "      <td>Haymarket Square</td>\n",
       "      <td>North Station</td>\n",
       "      <td>Lyft</td>\n",
       "      <td>Lux Black XL</td>\n",
       "      <td>26.0</td>\n",
       "      <td>...</td>\n",
       "      <td>0.00</td>\n",
       "      <td>0</td>\n",
       "      <td>10.000</td>\n",
       "      <td>291.1</td>\n",
       "      <td>0.75</td>\n",
       "      <td>0.0000</td>\n",
       "      <td>34.67</td>\n",
       "      <td>45.03</td>\n",
       "      <td>30.30</td>\n",
       "      <td>38.53</td>\n",
       "    </tr>\n",
       "    <tr>\n",
       "      <th>4</th>\n",
       "      <td>3</td>\n",
       "      <td>29</td>\n",
       "      <td>11</td>\n",
       "      <td>2018-11-29 03:49:20</td>\n",
       "      <td>America/New_York</td>\n",
       "      <td>Haymarket Square</td>\n",
       "      <td>North Station</td>\n",
       "      <td>Lyft</td>\n",
       "      <td>Lyft XL</td>\n",
       "      <td>9.0</td>\n",
       "      <td>...</td>\n",
       "      <td>0.44</td>\n",
       "      <td>0</td>\n",
       "      <td>10.000</td>\n",
       "      <td>347.7</td>\n",
       "      <td>0.72</td>\n",
       "      <td>0.0001</td>\n",
       "      <td>33.10</td>\n",
       "      <td>42.18</td>\n",
       "      <td>29.11</td>\n",
       "      <td>35.75</td>\n",
       "    </tr>\n",
       "  </tbody>\n",
       "</table>\n",
       "<p>5 rows × 40 columns</p>\n",
       "</div>"
      ],
      "text/plain": [
       "   hour  day  month             datetime          timezone            source  \\\n",
       "0     9   16     12  2018-12-16 09:30:07  America/New_York  Haymarket Square   \n",
       "1     2   27     11  2018-11-27 02:00:23  America/New_York  Haymarket Square   \n",
       "2     1   28     11  2018-11-28 01:00:22  America/New_York  Haymarket Square   \n",
       "3     4   30     11  2018-11-30 04:53:02  America/New_York  Haymarket Square   \n",
       "4     3   29     11  2018-11-29 03:49:20  America/New_York  Haymarket Square   \n",
       "\n",
       "     destination cab_type          name  price  ...  cloudCover  uvIndex  \\\n",
       "0  North Station     Lyft        Shared    5.0  ...        0.72        0   \n",
       "1  North Station     Lyft           Lux   11.0  ...        1.00        0   \n",
       "2  North Station     Lyft          Lyft    7.0  ...        0.03        0   \n",
       "3  North Station     Lyft  Lux Black XL   26.0  ...        0.00        0   \n",
       "4  North Station     Lyft       Lyft XL    9.0  ...        0.44        0   \n",
       "\n",
       "   visibility.1  ozone moonPhase  precipIntensityMax  temperatureMin  \\\n",
       "0        10.000  303.8      0.30              0.1276           39.89   \n",
       "1         4.786  291.1      0.64              0.1300           40.49   \n",
       "2        10.000  315.7      0.68              0.1064           35.36   \n",
       "3        10.000  291.1      0.75              0.0000           34.67   \n",
       "4        10.000  347.7      0.72              0.0001           33.10   \n",
       "\n",
       "   temperatureMax  apparentTemperatureMin  apparentTemperatureMax  \n",
       "0           43.68                   33.73                   38.07  \n",
       "1           47.30                   36.20                   43.92  \n",
       "2           47.55                   31.04                   44.12  \n",
       "3           45.03                   30.30                   38.53  \n",
       "4           42.18                   29.11                   35.75  \n",
       "\n",
       "[5 rows x 40 columns]"
      ]
     },
     "execution_count": 9,
     "metadata": {},
     "output_type": "execute_result"
    }
   ],
   "source": [
    "rideshare = rideshare.drop(['id','timestamp','long_summary','apparentTemperatureHighTime','apparentTemperatureLowTime',\n",
    "                  'apparentTemperatureLowTime','windGustTime','sunriseTime','sunsetTime','uvIndexTime','temperatureMinTime',\n",
    "                 'temperatureMaxTime','apparentTemperatureMinTime','temperatureLowTime','apparentTemperatureMaxTime'\n",
    "                 ,'latitude','longitude','product_id'],axis = 1)\n",
    "print(rideshare.shape)\n",
    "rideshare.head()"
   ]
  },
  {
   "cell_type": "code",
   "execution_count": 10,
   "metadata": {
    "ExecuteTime": {
     "end_time": "2023-02-17T20:36:15.664030Z",
     "start_time": "2023-02-17T20:36:15.478820Z"
    },
    "id": "vCIaF0-XZMzV"
   },
   "outputs": [],
   "source": [
    "rideshare['year'] = rideshare['datetime'].apply(lambda x: x.split('-')[0])"
   ]
  },
  {
   "cell_type": "code",
   "execution_count": 11,
   "metadata": {
    "ExecuteTime": {
     "end_time": "2023-02-17T20:36:15.694897Z",
     "start_time": "2023-02-17T20:36:15.665029Z"
    },
    "id": "wvoZ7dFCZMzV"
   },
   "outputs": [
    {
     "data": {
      "text/plain": [
       "array(['2018'], dtype=object)"
      ]
     },
     "execution_count": 11,
     "metadata": {},
     "output_type": "execute_result"
    }
   ],
   "source": [
    "rideshare[\"year\"].unique()"
   ]
  },
  {
   "cell_type": "markdown",
   "metadata": {
    "id": "XcwaR8_WZMzW"
   },
   "source": [
    "Delete data time and Year because all data in the same year"
   ]
  },
  {
   "cell_type": "code",
   "execution_count": 12,
   "metadata": {
    "ExecuteTime": {
     "end_time": "2023-02-17T20:36:15.850182Z",
     "start_time": "2023-02-17T20:36:15.696358Z"
    },
    "colab": {
     "base_uri": "https://localhost:8080/",
     "height": 421
    },
    "id": "AVzFjlbzZMzW",
    "outputId": "d6071968-fa11-41e6-8b3b-fa1597be7673"
   },
   "outputs": [
    {
     "name": "stdout",
     "output_type": "stream",
     "text": [
      "(637976, 39)\n"
     ]
    },
    {
     "data": {
      "text/html": [
       "<div>\n",
       "<style scoped>\n",
       "    .dataframe tbody tr th:only-of-type {\n",
       "        vertical-align: middle;\n",
       "    }\n",
       "\n",
       "    .dataframe tbody tr th {\n",
       "        vertical-align: top;\n",
       "    }\n",
       "\n",
       "    .dataframe thead th {\n",
       "        text-align: right;\n",
       "    }\n",
       "</style>\n",
       "<table border=\"1\" class=\"dataframe\">\n",
       "  <thead>\n",
       "    <tr style=\"text-align: right;\">\n",
       "      <th></th>\n",
       "      <th>hour</th>\n",
       "      <th>day</th>\n",
       "      <th>month</th>\n",
       "      <th>timezone</th>\n",
       "      <th>source</th>\n",
       "      <th>destination</th>\n",
       "      <th>cab_type</th>\n",
       "      <th>name</th>\n",
       "      <th>price</th>\n",
       "      <th>distance</th>\n",
       "      <th>...</th>\n",
       "      <th>cloudCover</th>\n",
       "      <th>uvIndex</th>\n",
       "      <th>visibility.1</th>\n",
       "      <th>ozone</th>\n",
       "      <th>moonPhase</th>\n",
       "      <th>precipIntensityMax</th>\n",
       "      <th>temperatureMin</th>\n",
       "      <th>temperatureMax</th>\n",
       "      <th>apparentTemperatureMin</th>\n",
       "      <th>apparentTemperatureMax</th>\n",
       "    </tr>\n",
       "  </thead>\n",
       "  <tbody>\n",
       "    <tr>\n",
       "      <th>0</th>\n",
       "      <td>9</td>\n",
       "      <td>16</td>\n",
       "      <td>12</td>\n",
       "      <td>America/New_York</td>\n",
       "      <td>Haymarket Square</td>\n",
       "      <td>North Station</td>\n",
       "      <td>Lyft</td>\n",
       "      <td>Shared</td>\n",
       "      <td>5.0</td>\n",
       "      <td>0.44</td>\n",
       "      <td>...</td>\n",
       "      <td>0.72</td>\n",
       "      <td>0</td>\n",
       "      <td>10.000</td>\n",
       "      <td>303.8</td>\n",
       "      <td>0.30</td>\n",
       "      <td>0.1276</td>\n",
       "      <td>39.89</td>\n",
       "      <td>43.68</td>\n",
       "      <td>33.73</td>\n",
       "      <td>38.07</td>\n",
       "    </tr>\n",
       "    <tr>\n",
       "      <th>1</th>\n",
       "      <td>2</td>\n",
       "      <td>27</td>\n",
       "      <td>11</td>\n",
       "      <td>America/New_York</td>\n",
       "      <td>Haymarket Square</td>\n",
       "      <td>North Station</td>\n",
       "      <td>Lyft</td>\n",
       "      <td>Lux</td>\n",
       "      <td>11.0</td>\n",
       "      <td>0.44</td>\n",
       "      <td>...</td>\n",
       "      <td>1.00</td>\n",
       "      <td>0</td>\n",
       "      <td>4.786</td>\n",
       "      <td>291.1</td>\n",
       "      <td>0.64</td>\n",
       "      <td>0.1300</td>\n",
       "      <td>40.49</td>\n",
       "      <td>47.30</td>\n",
       "      <td>36.20</td>\n",
       "      <td>43.92</td>\n",
       "    </tr>\n",
       "    <tr>\n",
       "      <th>2</th>\n",
       "      <td>1</td>\n",
       "      <td>28</td>\n",
       "      <td>11</td>\n",
       "      <td>America/New_York</td>\n",
       "      <td>Haymarket Square</td>\n",
       "      <td>North Station</td>\n",
       "      <td>Lyft</td>\n",
       "      <td>Lyft</td>\n",
       "      <td>7.0</td>\n",
       "      <td>0.44</td>\n",
       "      <td>...</td>\n",
       "      <td>0.03</td>\n",
       "      <td>0</td>\n",
       "      <td>10.000</td>\n",
       "      <td>315.7</td>\n",
       "      <td>0.68</td>\n",
       "      <td>0.1064</td>\n",
       "      <td>35.36</td>\n",
       "      <td>47.55</td>\n",
       "      <td>31.04</td>\n",
       "      <td>44.12</td>\n",
       "    </tr>\n",
       "    <tr>\n",
       "      <th>3</th>\n",
       "      <td>4</td>\n",
       "      <td>30</td>\n",
       "      <td>11</td>\n",
       "      <td>America/New_York</td>\n",
       "      <td>Haymarket Square</td>\n",
       "      <td>North Station</td>\n",
       "      <td>Lyft</td>\n",
       "      <td>Lux Black XL</td>\n",
       "      <td>26.0</td>\n",
       "      <td>0.44</td>\n",
       "      <td>...</td>\n",
       "      <td>0.00</td>\n",
       "      <td>0</td>\n",
       "      <td>10.000</td>\n",
       "      <td>291.1</td>\n",
       "      <td>0.75</td>\n",
       "      <td>0.0000</td>\n",
       "      <td>34.67</td>\n",
       "      <td>45.03</td>\n",
       "      <td>30.30</td>\n",
       "      <td>38.53</td>\n",
       "    </tr>\n",
       "    <tr>\n",
       "      <th>4</th>\n",
       "      <td>3</td>\n",
       "      <td>29</td>\n",
       "      <td>11</td>\n",
       "      <td>America/New_York</td>\n",
       "      <td>Haymarket Square</td>\n",
       "      <td>North Station</td>\n",
       "      <td>Lyft</td>\n",
       "      <td>Lyft XL</td>\n",
       "      <td>9.0</td>\n",
       "      <td>0.44</td>\n",
       "      <td>...</td>\n",
       "      <td>0.44</td>\n",
       "      <td>0</td>\n",
       "      <td>10.000</td>\n",
       "      <td>347.7</td>\n",
       "      <td>0.72</td>\n",
       "      <td>0.0001</td>\n",
       "      <td>33.10</td>\n",
       "      <td>42.18</td>\n",
       "      <td>29.11</td>\n",
       "      <td>35.75</td>\n",
       "    </tr>\n",
       "  </tbody>\n",
       "</table>\n",
       "<p>5 rows × 39 columns</p>\n",
       "</div>"
      ],
      "text/plain": [
       "   hour  day  month          timezone            source    destination  \\\n",
       "0     9   16     12  America/New_York  Haymarket Square  North Station   \n",
       "1     2   27     11  America/New_York  Haymarket Square  North Station   \n",
       "2     1   28     11  America/New_York  Haymarket Square  North Station   \n",
       "3     4   30     11  America/New_York  Haymarket Square  North Station   \n",
       "4     3   29     11  America/New_York  Haymarket Square  North Station   \n",
       "\n",
       "  cab_type          name  price  distance  ...  cloudCover  uvIndex  \\\n",
       "0     Lyft        Shared    5.0      0.44  ...        0.72        0   \n",
       "1     Lyft           Lux   11.0      0.44  ...        1.00        0   \n",
       "2     Lyft          Lyft    7.0      0.44  ...        0.03        0   \n",
       "3     Lyft  Lux Black XL   26.0      0.44  ...        0.00        0   \n",
       "4     Lyft       Lyft XL    9.0      0.44  ...        0.44        0   \n",
       "\n",
       "   visibility.1  ozone  moonPhase  precipIntensityMax  temperatureMin  \\\n",
       "0        10.000  303.8       0.30              0.1276           39.89   \n",
       "1         4.786  291.1       0.64              0.1300           40.49   \n",
       "2        10.000  315.7       0.68              0.1064           35.36   \n",
       "3        10.000  291.1       0.75              0.0000           34.67   \n",
       "4        10.000  347.7       0.72              0.0001           33.10   \n",
       "\n",
       "   temperatureMax  apparentTemperatureMin  apparentTemperatureMax  \n",
       "0           43.68                   33.73                   38.07  \n",
       "1           47.30                   36.20                   43.92  \n",
       "2           47.55                   31.04                   44.12  \n",
       "3           45.03                   30.30                   38.53  \n",
       "4           42.18                   29.11                   35.75  \n",
       "\n",
       "[5 rows x 39 columns]"
      ]
     },
     "execution_count": 12,
     "metadata": {},
     "output_type": "execute_result"
    }
   ],
   "source": [
    "rideshare = rideshare.drop(['datetime','year'],axis = 1)\n",
    "print(rideshare.shape)\n",
    "rideshare.head()"
   ]
  },
  {
   "cell_type": "markdown",
   "metadata": {},
   "source": [
    "#### Eng. Al-Hussein Ahmed"
   ]
  },
  {
   "cell_type": "markdown",
   "metadata": {
    "id": "ugygFJXvWRab"
   },
   "source": [
    "# Checking the correlation between Price and Temperature related features"
   ]
  },
  {
   "cell_type": "code",
   "execution_count": 13,
   "metadata": {
    "ExecuteTime": {
     "end_time": "2023-02-17T20:36:15.896768Z",
     "start_time": "2023-02-17T20:36:15.851152Z"
    },
    "colab": {
     "base_uri": "https://localhost:8080/",
     "height": 270
    },
    "execution": {
     "iopub.execute_input": "2021-07-20T06:47:39.845837Z",
     "iopub.status.busy": "2021-07-20T06:47:39.845557Z",
     "iopub.status.idle": "2021-07-20T06:47:39.894399Z",
     "shell.execute_reply": "2021-07-20T06:47:39.893412Z",
     "shell.execute_reply.started": "2021-07-20T06:47:39.84581Z"
    },
    "id": "_I3iYg-1WRac",
    "outputId": "036bfd8c-afc4-4db7-c862-005647f784b3"
   },
   "outputs": [
    {
     "data": {
      "text/html": [
       "<div>\n",
       "<style scoped>\n",
       "    .dataframe tbody tr th:only-of-type {\n",
       "        vertical-align: middle;\n",
       "    }\n",
       "\n",
       "    .dataframe tbody tr th {\n",
       "        vertical-align: top;\n",
       "    }\n",
       "\n",
       "    .dataframe thead th {\n",
       "        text-align: right;\n",
       "    }\n",
       "</style>\n",
       "<table border=\"1\" class=\"dataframe\">\n",
       "  <thead>\n",
       "    <tr style=\"text-align: right;\">\n",
       "      <th></th>\n",
       "      <th>price</th>\n",
       "      <th>temperature</th>\n",
       "      <th>apparentTemperature</th>\n",
       "      <th>temperatureHigh</th>\n",
       "      <th>temperatureLow</th>\n",
       "      <th>apparentTemperatureHigh</th>\n",
       "      <th>apparentTemperatureLow</th>\n",
       "      <th>temperatureMin</th>\n",
       "      <th>temperatureHighTime</th>\n",
       "      <th>temperatureMax</th>\n",
       "      <th>apparentTemperatureMin</th>\n",
       "      <th>apparentTemperatureMax</th>\n",
       "    </tr>\n",
       "  </thead>\n",
       "  <tbody>\n",
       "    <tr>\n",
       "      <th>0</th>\n",
       "      <td>5.0</td>\n",
       "      <td>42.34</td>\n",
       "      <td>37.12</td>\n",
       "      <td>43.68</td>\n",
       "      <td>34.19</td>\n",
       "      <td>37.95</td>\n",
       "      <td>27.39</td>\n",
       "      <td>39.89</td>\n",
       "      <td>1544968800</td>\n",
       "      <td>43.68</td>\n",
       "      <td>33.73</td>\n",
       "      <td>38.07</td>\n",
       "    </tr>\n",
       "    <tr>\n",
       "      <th>1</th>\n",
       "      <td>11.0</td>\n",
       "      <td>43.58</td>\n",
       "      <td>37.35</td>\n",
       "      <td>47.30</td>\n",
       "      <td>42.10</td>\n",
       "      <td>43.92</td>\n",
       "      <td>36.20</td>\n",
       "      <td>40.49</td>\n",
       "      <td>1543251600</td>\n",
       "      <td>47.30</td>\n",
       "      <td>36.20</td>\n",
       "      <td>43.92</td>\n",
       "    </tr>\n",
       "    <tr>\n",
       "      <th>2</th>\n",
       "      <td>7.0</td>\n",
       "      <td>38.33</td>\n",
       "      <td>32.93</td>\n",
       "      <td>47.55</td>\n",
       "      <td>33.10</td>\n",
       "      <td>44.12</td>\n",
       "      <td>29.11</td>\n",
       "      <td>35.36</td>\n",
       "      <td>1543320000</td>\n",
       "      <td>47.55</td>\n",
       "      <td>31.04</td>\n",
       "      <td>44.12</td>\n",
       "    </tr>\n",
       "    <tr>\n",
       "      <th>3</th>\n",
       "      <td>26.0</td>\n",
       "      <td>34.38</td>\n",
       "      <td>29.63</td>\n",
       "      <td>45.03</td>\n",
       "      <td>28.90</td>\n",
       "      <td>38.53</td>\n",
       "      <td>26.20</td>\n",
       "      <td>34.67</td>\n",
       "      <td>1543510800</td>\n",
       "      <td>45.03</td>\n",
       "      <td>30.30</td>\n",
       "      <td>38.53</td>\n",
       "    </tr>\n",
       "    <tr>\n",
       "      <th>4</th>\n",
       "      <td>9.0</td>\n",
       "      <td>37.44</td>\n",
       "      <td>30.88</td>\n",
       "      <td>42.18</td>\n",
       "      <td>36.71</td>\n",
       "      <td>35.75</td>\n",
       "      <td>30.29</td>\n",
       "      <td>33.10</td>\n",
       "      <td>1543420800</td>\n",
       "      <td>42.18</td>\n",
       "      <td>29.11</td>\n",
       "      <td>35.75</td>\n",
       "    </tr>\n",
       "  </tbody>\n",
       "</table>\n",
       "</div>"
      ],
      "text/plain": [
       "   price  temperature  apparentTemperature  temperatureHigh  temperatureLow  \\\n",
       "0    5.0        42.34                37.12            43.68           34.19   \n",
       "1   11.0        43.58                37.35            47.30           42.10   \n",
       "2    7.0        38.33                32.93            47.55           33.10   \n",
       "3   26.0        34.38                29.63            45.03           28.90   \n",
       "4    9.0        37.44                30.88            42.18           36.71   \n",
       "\n",
       "   apparentTemperatureHigh  apparentTemperatureLow  temperatureMin  \\\n",
       "0                    37.95                   27.39           39.89   \n",
       "1                    43.92                   36.20           40.49   \n",
       "2                    44.12                   29.11           35.36   \n",
       "3                    38.53                   26.20           34.67   \n",
       "4                    35.75                   30.29           33.10   \n",
       "\n",
       "   temperatureHighTime  temperatureMax  apparentTemperatureMin  \\\n",
       "0           1544968800           43.68                   33.73   \n",
       "1           1543251600           47.30                   36.20   \n",
       "2           1543320000           47.55                   31.04   \n",
       "3           1543510800           45.03                   30.30   \n",
       "4           1543420800           42.18                   29.11   \n",
       "\n",
       "   apparentTemperatureMax  \n",
       "0                   38.07  \n",
       "1                   43.92  \n",
       "2                   44.12  \n",
       "3                   38.53  \n",
       "4                   35.75  "
      ]
     },
     "execution_count": 13,
     "metadata": {},
     "output_type": "execute_result"
    }
   ],
   "source": [
    "rideshare_new = rideshare[['price','temperature','apparentTemperature','temperatureHigh','temperatureLow','apparentTemperatureHigh',\n",
    "                'apparentTemperatureLow','temperatureMin','temperatureHighTime','temperatureMax','apparentTemperatureMin','apparentTemperatureMax']]\n",
    "rideshare_new.head()"
   ]
  },
  {
   "cell_type": "code",
   "execution_count": 14,
   "metadata": {
    "ExecuteTime": {
     "end_time": "2023-02-17T20:36:16.285361Z",
     "start_time": "2023-02-17T20:36:15.898763Z"
    },
    "colab": {
     "base_uri": "https://localhost:8080/",
     "height": 403
    },
    "id": "kkx8lQHNZMzZ",
    "outputId": "193ddd1d-51d9-412a-86ab-33542b2bf927",
    "scrolled": false
   },
   "outputs": [
    {
     "data": {
      "text/plain": [
       "<AxesSubplot:>"
      ]
     },
     "execution_count": 14,
     "metadata": {},
     "output_type": "execute_result"
    },
    {
     "data": {
      "image/png": "[encoded data removed]",
      "text/plain": [
       "<Figure size 432x288 with 1 Axes>"
      ]
     },
     "metadata": {
      "needs_background": "light"
     },
     "output_type": "display_data"
    }
   ],
   "source": [
    "#plotting relation between correlation and rideshare_new dataframe\n",
    "correlation=rideshare_new.corr()[['price']]\n",
    "price_corr=correlation[(correlation['price']>0.0001)|(correlation['price']<-0.0001)] #OR\n",
    "price_corr.plot.bar() "
   ]
  },
  {
   "cell_type": "markdown",
   "metadata": {
    "id": "xkitURGtWRad"
   },
   "source": [
    "### Removing all the temperature related features from the dataframe as they have very weak correlation with the predictand (price)"
   ]
  },
  {
   "cell_type": "code",
   "execution_count": 15,
   "metadata": {
    "ExecuteTime": {
     "end_time": "2023-02-17T20:36:16.364660Z",
     "start_time": "2023-02-17T20:36:16.287361Z"
    },
    "colab": {
     "base_uri": "https://localhost:8080/",
     "height": 258
    },
    "execution": {
     "iopub.execute_input": "2021-07-20T06:47:41.398758Z",
     "iopub.status.busy": "2021-07-20T06:47:41.398458Z",
     "iopub.status.idle": "2021-07-20T06:47:41.575193Z",
     "shell.execute_reply": "2021-07-20T06:47:41.574234Z",
     "shell.execute_reply.started": "2021-07-20T06:47:41.398729Z"
    },
    "id": "HJOuP5ZkWRad",
    "outputId": "824fb39d-5d2d-4174-9e4c-2dc135e1c382"
   },
   "outputs": [
    {
     "data": {
      "text/html": [
       "<div>\n",
       "<style scoped>\n",
       "    .dataframe tbody tr th:only-of-type {\n",
       "        vertical-align: middle;\n",
       "    }\n",
       "\n",
       "    .dataframe tbody tr th {\n",
       "        vertical-align: top;\n",
       "    }\n",
       "\n",
       "    .dataframe thead th {\n",
       "        text-align: right;\n",
       "    }\n",
       "</style>\n",
       "<table border=\"1\" class=\"dataframe\">\n",
       "  <thead>\n",
       "    <tr style=\"text-align: right;\">\n",
       "      <th></th>\n",
       "      <th>hour</th>\n",
       "      <th>day</th>\n",
       "      <th>month</th>\n",
       "      <th>timezone</th>\n",
       "      <th>source</th>\n",
       "      <th>destination</th>\n",
       "      <th>cab_type</th>\n",
       "      <th>name</th>\n",
       "      <th>price</th>\n",
       "      <th>distance</th>\n",
       "      <th>...</th>\n",
       "      <th>icon</th>\n",
       "      <th>dewPoint</th>\n",
       "      <th>pressure</th>\n",
       "      <th>windBearing</th>\n",
       "      <th>cloudCover</th>\n",
       "      <th>uvIndex</th>\n",
       "      <th>visibility.1</th>\n",
       "      <th>ozone</th>\n",
       "      <th>moonPhase</th>\n",
       "      <th>precipIntensityMax</th>\n",
       "    </tr>\n",
       "  </thead>\n",
       "  <tbody>\n",
       "    <tr>\n",
       "      <th>0</th>\n",
       "      <td>9</td>\n",
       "      <td>16</td>\n",
       "      <td>12</td>\n",
       "      <td>America/New_York</td>\n",
       "      <td>Haymarket Square</td>\n",
       "      <td>North Station</td>\n",
       "      <td>Lyft</td>\n",
       "      <td>Shared</td>\n",
       "      <td>5.0</td>\n",
       "      <td>0.44</td>\n",
       "      <td>...</td>\n",
       "      <td>partly-cloudy-night</td>\n",
       "      <td>32.70</td>\n",
       "      <td>1021.98</td>\n",
       "      <td>57</td>\n",
       "      <td>0.72</td>\n",
       "      <td>0</td>\n",
       "      <td>10.000</td>\n",
       "      <td>303.8</td>\n",
       "      <td>0.30</td>\n",
       "      <td>0.1276</td>\n",
       "    </tr>\n",
       "    <tr>\n",
       "      <th>1</th>\n",
       "      <td>2</td>\n",
       "      <td>27</td>\n",
       "      <td>11</td>\n",
       "      <td>America/New_York</td>\n",
       "      <td>Haymarket Square</td>\n",
       "      <td>North Station</td>\n",
       "      <td>Lyft</td>\n",
       "      <td>Lux</td>\n",
       "      <td>11.0</td>\n",
       "      <td>0.44</td>\n",
       "      <td>...</td>\n",
       "      <td>rain</td>\n",
       "      <td>41.83</td>\n",
       "      <td>1003.97</td>\n",
       "      <td>90</td>\n",
       "      <td>1.00</td>\n",
       "      <td>0</td>\n",
       "      <td>4.786</td>\n",
       "      <td>291.1</td>\n",
       "      <td>0.64</td>\n",
       "      <td>0.1300</td>\n",
       "    </tr>\n",
       "  </tbody>\n",
       "</table>\n",
       "<p>2 rows × 28 columns</p>\n",
       "</div>"
      ],
      "text/plain": [
       "   hour  day  month          timezone            source    destination  \\\n",
       "0     9   16     12  America/New_York  Haymarket Square  North Station   \n",
       "1     2   27     11  America/New_York  Haymarket Square  North Station   \n",
       "\n",
       "  cab_type    name  price  distance  ...                   icon dewPoint  \\\n",
       "0     Lyft  Shared    5.0      0.44  ...   partly-cloudy-night     32.70   \n",
       "1     Lyft     Lux   11.0      0.44  ...                  rain     41.83   \n",
       "\n",
       "   pressure  windBearing  cloudCover  uvIndex  visibility.1  ozone moonPhase  \\\n",
       "0   1021.98           57        0.72        0        10.000  303.8      0.30   \n",
       "1   1003.97           90        1.00        0         4.786  291.1      0.64   \n",
       "\n",
       "   precipIntensityMax  \n",
       "0              0.1276  \n",
       "1              0.1300  \n",
       "\n",
       "[2 rows x 28 columns]"
      ]
     },
     "execution_count": 15,
     "metadata": {},
     "output_type": "execute_result"
    }
   ],
   "source": [
    "rideshare = rideshare.drop(rideshare_new.columns[1:],axis=1)\n",
    "rideshare.head(2)"
   ]
  },
  {
   "cell_type": "markdown",
   "metadata": {
    "id": "HBXrF_8tWRaf"
   },
   "source": [
    "# Analyzing features with numeric data types"
   ]
  },
  {
   "cell_type": "code",
   "execution_count": 16,
   "metadata": {
    "ExecuteTime": {
     "end_time": "2023-02-17T20:36:16.411536Z",
     "start_time": "2023-02-17T20:36:16.365659Z"
    },
    "colab": {
     "base_uri": "https://localhost:8080/"
    },
    "execution": {
     "iopub.execute_input": "2021-07-20T06:47:42.889928Z",
     "iopub.status.busy": "2021-07-20T06:47:42.889606Z",
     "iopub.status.idle": "2021-07-20T06:47:43.040906Z",
     "shell.execute_reply": "2021-07-20T06:47:43.03998Z",
     "shell.execute_reply.started": "2021-07-20T06:47:42.889896Z"
    },
    "id": "uf82yyehWRag",
    "outputId": "ce2fe676-b955-427e-87a9-28ea90e7b304"
   },
   "outputs": [
    {
     "data": {
      "text/plain": [
       "Index(['hour', 'day', 'month', 'price', 'distance', 'surge_multiplier',\n",
       "       'precipIntensity', 'precipProbability', 'humidity', 'windSpeed',\n",
       "       'windGust', 'visibility', 'dewPoint', 'pressure', 'windBearing',\n",
       "       'cloudCover', 'uvIndex', 'visibility.1', 'ozone', 'moonPhase',\n",
       "       'precipIntensityMax'],\n",
       "      dtype='object')"
      ]
     },
     "execution_count": 16,
     "metadata": {},
     "output_type": "execute_result"
    }
   ],
   "source": [
    "num_col = rideshare.select_dtypes(include=['int64','float64']).columns.tolist()\n",
    "rideshare_new = rideshare[num_col]\n",
    "rideshare_new.columns"
   ]
  },
  {
   "cell_type": "markdown",
   "metadata": {
    "id": "OCDMc3n8WRag"
   },
   "source": [
    "## Analyzing climate related features with price column"
   ]
  },
  {
   "cell_type": "code",
   "execution_count": 17,
   "metadata": {
    "ExecuteTime": {
     "end_time": "2023-02-17T20:36:16.458926Z",
     "start_time": "2023-02-17T20:36:16.412534Z"
    },
    "colab": {
     "base_uri": "https://localhost:8080/",
     "height": 270
    },
    "execution": {
     "iopub.execute_input": "2021-07-20T06:47:43.042864Z",
     "iopub.status.busy": "2021-07-20T06:47:43.04245Z",
     "iopub.status.idle": "2021-07-20T06:47:43.199352Z",
     "shell.execute_reply": "2021-07-20T06:47:43.198259Z",
     "shell.execute_reply.started": "2021-07-20T06:47:43.042822Z"
    },
    "id": "pAilF6HHWRag",
    "outputId": "5ef9a5ad-8f8a-4465-8d99-e9ab1a2a2e70"
   },
   "outputs": [
    {
     "data": {
      "text/html": [
       "<div>\n",
       "<style scoped>\n",
       "    .dataframe tbody tr th:only-of-type {\n",
       "        vertical-align: middle;\n",
       "    }\n",
       "\n",
       "    .dataframe tbody tr th {\n",
       "        vertical-align: top;\n",
       "    }\n",
       "\n",
       "    .dataframe thead th {\n",
       "        text-align: right;\n",
       "    }\n",
       "</style>\n",
       "<table border=\"1\" class=\"dataframe\">\n",
       "  <thead>\n",
       "    <tr style=\"text-align: right;\">\n",
       "      <th></th>\n",
       "      <th>price</th>\n",
       "      <th>precipIntensity</th>\n",
       "      <th>precipProbability</th>\n",
       "      <th>humidity</th>\n",
       "      <th>windSpeed</th>\n",
       "      <th>windGust</th>\n",
       "      <th>visibility</th>\n",
       "      <th>dewPoint</th>\n",
       "      <th>pressure</th>\n",
       "      <th>windBearing</th>\n",
       "      <th>cloudCover</th>\n",
       "      <th>uvIndex</th>\n",
       "      <th>visibility.1</th>\n",
       "      <th>ozone</th>\n",
       "      <th>moonPhase</th>\n",
       "      <th>precipIntensityMax</th>\n",
       "    </tr>\n",
       "  </thead>\n",
       "  <tbody>\n",
       "    <tr>\n",
       "      <th>0</th>\n",
       "      <td>5.0</td>\n",
       "      <td>0.0000</td>\n",
       "      <td>0.0</td>\n",
       "      <td>0.68</td>\n",
       "      <td>8.66</td>\n",
       "      <td>9.17</td>\n",
       "      <td>10.000</td>\n",
       "      <td>32.70</td>\n",
       "      <td>1021.98</td>\n",
       "      <td>57</td>\n",
       "      <td>0.72</td>\n",
       "      <td>0</td>\n",
       "      <td>10.000</td>\n",
       "      <td>303.8</td>\n",
       "      <td>0.30</td>\n",
       "      <td>0.1276</td>\n",
       "    </tr>\n",
       "    <tr>\n",
       "      <th>1</th>\n",
       "      <td>11.0</td>\n",
       "      <td>0.1299</td>\n",
       "      <td>1.0</td>\n",
       "      <td>0.94</td>\n",
       "      <td>11.98</td>\n",
       "      <td>11.98</td>\n",
       "      <td>4.786</td>\n",
       "      <td>41.83</td>\n",
       "      <td>1003.97</td>\n",
       "      <td>90</td>\n",
       "      <td>1.00</td>\n",
       "      <td>0</td>\n",
       "      <td>4.786</td>\n",
       "      <td>291.1</td>\n",
       "      <td>0.64</td>\n",
       "      <td>0.1300</td>\n",
       "    </tr>\n",
       "    <tr>\n",
       "      <th>2</th>\n",
       "      <td>7.0</td>\n",
       "      <td>0.0000</td>\n",
       "      <td>0.0</td>\n",
       "      <td>0.75</td>\n",
       "      <td>7.33</td>\n",
       "      <td>7.33</td>\n",
       "      <td>10.000</td>\n",
       "      <td>31.10</td>\n",
       "      <td>992.28</td>\n",
       "      <td>240</td>\n",
       "      <td>0.03</td>\n",
       "      <td>0</td>\n",
       "      <td>10.000</td>\n",
       "      <td>315.7</td>\n",
       "      <td>0.68</td>\n",
       "      <td>0.1064</td>\n",
       "    </tr>\n",
       "    <tr>\n",
       "      <th>3</th>\n",
       "      <td>26.0</td>\n",
       "      <td>0.0000</td>\n",
       "      <td>0.0</td>\n",
       "      <td>0.73</td>\n",
       "      <td>5.28</td>\n",
       "      <td>5.28</td>\n",
       "      <td>10.000</td>\n",
       "      <td>26.64</td>\n",
       "      <td>1013.73</td>\n",
       "      <td>310</td>\n",
       "      <td>0.00</td>\n",
       "      <td>0</td>\n",
       "      <td>10.000</td>\n",
       "      <td>291.1</td>\n",
       "      <td>0.75</td>\n",
       "      <td>0.0000</td>\n",
       "    </tr>\n",
       "    <tr>\n",
       "      <th>4</th>\n",
       "      <td>9.0</td>\n",
       "      <td>0.0000</td>\n",
       "      <td>0.0</td>\n",
       "      <td>0.70</td>\n",
       "      <td>9.14</td>\n",
       "      <td>9.14</td>\n",
       "      <td>10.000</td>\n",
       "      <td>28.61</td>\n",
       "      <td>998.36</td>\n",
       "      <td>303</td>\n",
       "      <td>0.44</td>\n",
       "      <td>0</td>\n",
       "      <td>10.000</td>\n",
       "      <td>347.7</td>\n",
       "      <td>0.72</td>\n",
       "      <td>0.0001</td>\n",
       "    </tr>\n",
       "  </tbody>\n",
       "</table>\n",
       "</div>"
      ],
      "text/plain": [
       "   price  precipIntensity  precipProbability  humidity  windSpeed  windGust  \\\n",
       "0    5.0           0.0000                0.0      0.68       8.66      9.17   \n",
       "1   11.0           0.1299                1.0      0.94      11.98     11.98   \n",
       "2    7.0           0.0000                0.0      0.75       7.33      7.33   \n",
       "3   26.0           0.0000                0.0      0.73       5.28      5.28   \n",
       "4    9.0           0.0000                0.0      0.70       9.14      9.14   \n",
       "\n",
       "   visibility  dewPoint  pressure  windBearing  cloudCover  uvIndex  \\\n",
       "0      10.000     32.70   1021.98           57        0.72        0   \n",
       "1       4.786     41.83   1003.97           90        1.00        0   \n",
       "2      10.000     31.10    992.28          240        0.03        0   \n",
       "3      10.000     26.64   1013.73          310        0.00        0   \n",
       "4      10.000     28.61    998.36          303        0.44        0   \n",
       "\n",
       "   visibility.1  ozone  moonPhase  precipIntensityMax  \n",
       "0        10.000  303.8       0.30              0.1276  \n",
       "1         4.786  291.1       0.64              0.1300  \n",
       "2        10.000  315.7       0.68              0.1064  \n",
       "3        10.000  291.1       0.75              0.0000  \n",
       "4        10.000  347.7       0.72              0.0001  "
      ]
     },
     "execution_count": 17,
     "metadata": {},
     "output_type": "execute_result"
    }
   ],
   "source": [
    "cli_col = ['price','precipIntensity', 'precipProbability', 'humidity', 'windSpeed',\n",
    "       'windGust', 'visibility', 'dewPoint', 'pressure', 'windBearing',\n",
    "       'cloudCover', 'uvIndex', 'visibility.1', 'ozone', 'moonPhase',\n",
    "       'precipIntensityMax']\n",
    "rideshare_new = rideshare[cli_col]\n",
    "rideshare_new.head()"
   ]
  },
  {
   "cell_type": "code",
   "execution_count": 18,
   "metadata": {
    "ExecuteTime": {
     "end_time": "2023-02-17T20:36:17.109458Z",
     "start_time": "2023-02-17T20:36:16.460922Z"
    },
    "colab": {
     "base_uri": "https://localhost:8080/",
     "height": 367
    },
    "id": "oDHUDE2gZMze",
    "outputId": "5c72b45f-f099-4f2c-d221-327398f82d94"
   },
   "outputs": [
    {
     "data": {
      "text/plain": [
       "<AxesSubplot:>"
      ]
     },
     "execution_count": 18,
     "metadata": {},
     "output_type": "execute_result"
    },
    {
     "data": {
      "image/png": "[encoded data removed]",
      "text/plain": [
       "<Figure size 432x288 with 1 Axes>"
      ]
     },
     "metadata": {
      "needs_background": "light"
     },
     "output_type": "display_data"
    }
   ],
   "source": [
    "#plotting relation between correlation and rideshare_new dataframe\n",
    "correlation=rideshare_new.corr()[['price']]\n",
    "price_corr=correlation[(correlation['price']>0.0001)|(correlation['price']<-0.0001)] #OR\n",
    "price_corr.plot.bar() "
   ]
  },
  {
   "cell_type": "markdown",
   "metadata": {
    "id": "Pwvo1A3PWRag"
   },
   "source": [
    "### Removing all the climate related features from the dataframe as they have very weak correlation with the predictand (price)"
   ]
  },
  {
   "cell_type": "code",
   "execution_count": 19,
   "metadata": {
    "ExecuteTime": {
     "end_time": "2023-02-17T20:36:17.187765Z",
     "start_time": "2023-02-17T20:36:17.111449Z"
    },
    "colab": {
     "base_uri": "https://localhost:8080/",
     "height": 206
    },
    "execution": {
     "iopub.execute_input": "2021-07-20T06:47:45.455963Z",
     "iopub.status.busy": "2021-07-20T06:47:45.45555Z",
     "iopub.status.idle": "2021-07-20T06:47:45.521666Z",
     "shell.execute_reply": "2021-07-20T06:47:45.520768Z",
     "shell.execute_reply.started": "2021-07-20T06:47:45.455921Z"
    },
    "id": "TjysjiOdWRag",
    "outputId": "d140155c-2c66-4c69-c505-d273afa16837",
    "scrolled": true
   },
   "outputs": [
    {
     "data": {
      "text/html": [
       "<div>\n",
       "<style scoped>\n",
       "    .dataframe tbody tr th:only-of-type {\n",
       "        vertical-align: middle;\n",
       "    }\n",
       "\n",
       "    .dataframe tbody tr th {\n",
       "        vertical-align: top;\n",
       "    }\n",
       "\n",
       "    .dataframe thead th {\n",
       "        text-align: right;\n",
       "    }\n",
       "</style>\n",
       "<table border=\"1\" class=\"dataframe\">\n",
       "  <thead>\n",
       "    <tr style=\"text-align: right;\">\n",
       "      <th></th>\n",
       "      <th>hour</th>\n",
       "      <th>day</th>\n",
       "      <th>month</th>\n",
       "      <th>timezone</th>\n",
       "      <th>source</th>\n",
       "      <th>destination</th>\n",
       "      <th>cab_type</th>\n",
       "      <th>name</th>\n",
       "      <th>price</th>\n",
       "      <th>distance</th>\n",
       "      <th>surge_multiplier</th>\n",
       "      <th>short_summary</th>\n",
       "      <th>icon</th>\n",
       "    </tr>\n",
       "  </thead>\n",
       "  <tbody>\n",
       "    <tr>\n",
       "      <th>0</th>\n",
       "      <td>9</td>\n",
       "      <td>16</td>\n",
       "      <td>12</td>\n",
       "      <td>America/New_York</td>\n",
       "      <td>Haymarket Square</td>\n",
       "      <td>North Station</td>\n",
       "      <td>Lyft</td>\n",
       "      <td>Shared</td>\n",
       "      <td>5.0</td>\n",
       "      <td>0.44</td>\n",
       "      <td>1.0</td>\n",
       "      <td>Mostly Cloudy</td>\n",
       "      <td>partly-cloudy-night</td>\n",
       "    </tr>\n",
       "    <tr>\n",
       "      <th>1</th>\n",
       "      <td>2</td>\n",
       "      <td>27</td>\n",
       "      <td>11</td>\n",
       "      <td>America/New_York</td>\n",
       "      <td>Haymarket Square</td>\n",
       "      <td>North Station</td>\n",
       "      <td>Lyft</td>\n",
       "      <td>Lux</td>\n",
       "      <td>11.0</td>\n",
       "      <td>0.44</td>\n",
       "      <td>1.0</td>\n",
       "      <td>Rain</td>\n",
       "      <td>rain</td>\n",
       "    </tr>\n",
       "    <tr>\n",
       "      <th>2</th>\n",
       "      <td>1</td>\n",
       "      <td>28</td>\n",
       "      <td>11</td>\n",
       "      <td>America/New_York</td>\n",
       "      <td>Haymarket Square</td>\n",
       "      <td>North Station</td>\n",
       "      <td>Lyft</td>\n",
       "      <td>Lyft</td>\n",
       "      <td>7.0</td>\n",
       "      <td>0.44</td>\n",
       "      <td>1.0</td>\n",
       "      <td>Clear</td>\n",
       "      <td>clear-night</td>\n",
       "    </tr>\n",
       "    <tr>\n",
       "      <th>3</th>\n",
       "      <td>4</td>\n",
       "      <td>30</td>\n",
       "      <td>11</td>\n",
       "      <td>America/New_York</td>\n",
       "      <td>Haymarket Square</td>\n",
       "      <td>North Station</td>\n",
       "      <td>Lyft</td>\n",
       "      <td>Lux Black XL</td>\n",
       "      <td>26.0</td>\n",
       "      <td>0.44</td>\n",
       "      <td>1.0</td>\n",
       "      <td>Clear</td>\n",
       "      <td>clear-night</td>\n",
       "    </tr>\n",
       "    <tr>\n",
       "      <th>4</th>\n",
       "      <td>3</td>\n",
       "      <td>29</td>\n",
       "      <td>11</td>\n",
       "      <td>America/New_York</td>\n",
       "      <td>Haymarket Square</td>\n",
       "      <td>North Station</td>\n",
       "      <td>Lyft</td>\n",
       "      <td>Lyft XL</td>\n",
       "      <td>9.0</td>\n",
       "      <td>0.44</td>\n",
       "      <td>1.0</td>\n",
       "      <td>Partly Cloudy</td>\n",
       "      <td>partly-cloudy-night</td>\n",
       "    </tr>\n",
       "  </tbody>\n",
       "</table>\n",
       "</div>"
      ],
      "text/plain": [
       "   hour  day  month          timezone            source    destination  \\\n",
       "0     9   16     12  America/New_York  Haymarket Square  North Station   \n",
       "1     2   27     11  America/New_York  Haymarket Square  North Station   \n",
       "2     1   28     11  America/New_York  Haymarket Square  North Station   \n",
       "3     4   30     11  America/New_York  Haymarket Square  North Station   \n",
       "4     3   29     11  America/New_York  Haymarket Square  North Station   \n",
       "\n",
       "  cab_type          name  price  distance  surge_multiplier    short_summary  \\\n",
       "0     Lyft        Shared    5.0      0.44               1.0   Mostly Cloudy    \n",
       "1     Lyft           Lux   11.0      0.44               1.0            Rain    \n",
       "2     Lyft          Lyft    7.0      0.44               1.0           Clear    \n",
       "3     Lyft  Lux Black XL   26.0      0.44               1.0           Clear    \n",
       "4     Lyft       Lyft XL    9.0      0.44               1.0   Partly Cloudy    \n",
       "\n",
       "                    icon  \n",
       "0   partly-cloudy-night   \n",
       "1                  rain   \n",
       "2           clear-night   \n",
       "3           clear-night   \n",
       "4   partly-cloudy-night   "
      ]
     },
     "execution_count": 19,
     "metadata": {},
     "output_type": "execute_result"
    }
   ],
   "source": [
    "rideshare = rideshare.drop(cli_col[1:],axis=1)\n",
    "rideshare.head()"
   ]
  },
  {
   "cell_type": "code",
   "execution_count": 20,
   "metadata": {
    "ExecuteTime": {
     "end_time": "2023-02-17T20:36:17.203724Z",
     "start_time": "2023-02-17T20:36:17.188762Z"
    },
    "colab": {
     "base_uri": "https://localhost:8080/"
    },
    "execution": {
     "iopub.execute_input": "2021-07-20T06:47:45.523186Z",
     "iopub.status.busy": "2021-07-20T06:47:45.522879Z",
     "iopub.status.idle": "2021-07-20T06:47:45.529197Z",
     "shell.execute_reply": "2021-07-20T06:47:45.528237Z",
     "shell.execute_reply.started": "2021-07-20T06:47:45.523158Z"
    },
    "id": "2EZe0tOEWRah",
    "outputId": "44c91391-96ef-486a-856a-2259e58381f1"
   },
   "outputs": [
    {
     "data": {
      "text/plain": [
       "(637976, 13)"
      ]
     },
     "execution_count": 20,
     "metadata": {},
     "output_type": "execute_result"
    }
   ],
   "source": [
    "rideshare.shape"
   ]
  },
  {
   "cell_type": "markdown",
   "metadata": {
    "id": "j7V_JuZbZMzg"
   },
   "source": [
    "# Analyzing data in the categorical features"
   ]
  },
  {
   "cell_type": "code",
   "execution_count": 21,
   "metadata": {
    "ExecuteTime": {
     "end_time": "2023-02-17T20:36:17.251142Z",
     "start_time": "2023-02-17T20:36:17.204721Z"
    },
    "colab": {
     "base_uri": "https://localhost:8080/",
     "height": 206
    },
    "id": "_z-2OZGVZMzg",
    "outputId": "cafd8710-4c25-46e6-8d69-a01a8c92b693"
   },
   "outputs": [
    {
     "data": {
      "text/html": [
       "<div>\n",
       "<style scoped>\n",
       "    .dataframe tbody tr th:only-of-type {\n",
       "        vertical-align: middle;\n",
       "    }\n",
       "\n",
       "    .dataframe tbody tr th {\n",
       "        vertical-align: top;\n",
       "    }\n",
       "\n",
       "    .dataframe thead th {\n",
       "        text-align: right;\n",
       "    }\n",
       "</style>\n",
       "<table border=\"1\" class=\"dataframe\">\n",
       "  <thead>\n",
       "    <tr style=\"text-align: right;\">\n",
       "      <th></th>\n",
       "      <th>timezone</th>\n",
       "      <th>source</th>\n",
       "      <th>destination</th>\n",
       "      <th>cab_type</th>\n",
       "      <th>name</th>\n",
       "      <th>short_summary</th>\n",
       "      <th>icon</th>\n",
       "    </tr>\n",
       "  </thead>\n",
       "  <tbody>\n",
       "    <tr>\n",
       "      <th>0</th>\n",
       "      <td>America/New_York</td>\n",
       "      <td>Haymarket Square</td>\n",
       "      <td>North Station</td>\n",
       "      <td>Lyft</td>\n",
       "      <td>Shared</td>\n",
       "      <td>Mostly Cloudy</td>\n",
       "      <td>partly-cloudy-night</td>\n",
       "    </tr>\n",
       "    <tr>\n",
       "      <th>1</th>\n",
       "      <td>America/New_York</td>\n",
       "      <td>Haymarket Square</td>\n",
       "      <td>North Station</td>\n",
       "      <td>Lyft</td>\n",
       "      <td>Lux</td>\n",
       "      <td>Rain</td>\n",
       "      <td>rain</td>\n",
       "    </tr>\n",
       "    <tr>\n",
       "      <th>2</th>\n",
       "      <td>America/New_York</td>\n",
       "      <td>Haymarket Square</td>\n",
       "      <td>North Station</td>\n",
       "      <td>Lyft</td>\n",
       "      <td>Lyft</td>\n",
       "      <td>Clear</td>\n",
       "      <td>clear-night</td>\n",
       "    </tr>\n",
       "    <tr>\n",
       "      <th>3</th>\n",
       "      <td>America/New_York</td>\n",
       "      <td>Haymarket Square</td>\n",
       "      <td>North Station</td>\n",
       "      <td>Lyft</td>\n",
       "      <td>Lux Black XL</td>\n",
       "      <td>Clear</td>\n",
       "      <td>clear-night</td>\n",
       "    </tr>\n",
       "    <tr>\n",
       "      <th>4</th>\n",
       "      <td>America/New_York</td>\n",
       "      <td>Haymarket Square</td>\n",
       "      <td>North Station</td>\n",
       "      <td>Lyft</td>\n",
       "      <td>Lyft XL</td>\n",
       "      <td>Partly Cloudy</td>\n",
       "      <td>partly-cloudy-night</td>\n",
       "    </tr>\n",
       "  </tbody>\n",
       "</table>\n",
       "</div>"
      ],
      "text/plain": [
       "           timezone            source    destination cab_type          name  \\\n",
       "0  America/New_York  Haymarket Square  North Station     Lyft        Shared   \n",
       "1  America/New_York  Haymarket Square  North Station     Lyft           Lux   \n",
       "2  America/New_York  Haymarket Square  North Station     Lyft          Lyft   \n",
       "3  America/New_York  Haymarket Square  North Station     Lyft  Lux Black XL   \n",
       "4  America/New_York  Haymarket Square  North Station     Lyft       Lyft XL   \n",
       "\n",
       "     short_summary                   icon  \n",
       "0   Mostly Cloudy    partly-cloudy-night   \n",
       "1            Rain                   rain   \n",
       "2           Clear            clear-night   \n",
       "3           Clear            clear-night   \n",
       "4   Partly Cloudy    partly-cloudy-night   "
      ]
     },
     "execution_count": 21,
     "metadata": {},
     "output_type": "execute_result"
    }
   ],
   "source": [
    "cat_col = rideshare.select_dtypes(include=['object','category']).columns.tolist()\n",
    "rideshare_new = rideshare[cat_col]\n",
    "rideshare_new.head()"
   ]
  },
  {
   "cell_type": "code",
   "execution_count": 22,
   "metadata": {
    "ExecuteTime": {
     "end_time": "2023-02-17T20:36:17.456597Z",
     "start_time": "2023-02-17T20:36:17.253104Z"
    },
    "colab": {
     "base_uri": "https://localhost:8080/"
    },
    "id": "9auz8Ag7ZMzh",
    "outputId": "c7a9f527-4096-4a77-c5e7-b9cd9604f46f"
   },
   "outputs": [
    {
     "name": "stdout",
     "output_type": "stream",
     "text": [
      "timezone : ['America/New_York']\n",
      "\n",
      "source : ['Haymarket Square' 'Back Bay' 'North End' 'North Station' 'Beacon Hill'\n",
      " 'Boston University' 'Fenway' 'South Station' 'Theatre District'\n",
      " 'West End' 'Financial District' 'Northeastern University']\n",
      "\n",
      "destination : ['North Station' 'Northeastern University' 'West End' 'Haymarket Square'\n",
      " 'South Station' 'Fenway' 'Theatre District' 'Beacon Hill' 'Back Bay'\n",
      " 'North End' 'Financial District' 'Boston University']\n",
      "\n",
      "cab_type : ['Lyft' 'Uber']\n",
      "\n",
      "name : ['Shared' 'Lux' 'Lyft' 'Lux Black XL' 'Lyft XL' 'Lux Black' 'UberXL'\n",
      " 'Black' 'UberX' 'WAV' 'Black SUV' 'UberPool']\n",
      "\n",
      "short_summary : [' Mostly Cloudy ' ' Rain ' ' Clear ' ' Partly Cloudy ' ' Overcast '\n",
      " ' Light Rain ' ' Foggy ' ' Possible Drizzle ' ' Drizzle ']\n",
      "\n",
      "icon : [' partly-cloudy-night ' ' rain ' ' clear-night ' ' cloudy ' ' fog '\n",
      " ' clear-day ' ' partly-cloudy-day ']\n",
      "\n"
     ]
    }
   ],
   "source": [
    "#Checking for unique values in all categorical columns\n",
    "for col in rideshare_new:\n",
    "    print(f'{col} : {rideshare_new[col].unique()}')\n",
    "    print()"
   ]
  },
  {
   "cell_type": "code",
   "execution_count": 23,
   "metadata": {
    "ExecuteTime": {
     "end_time": "2023-02-17T20:36:17.504563Z",
     "start_time": "2023-02-17T20:36:17.458592Z"
    },
    "id": "UIOg2-xjZMzi"
   },
   "outputs": [],
   "source": [
    "# Removing timezone column as it has only value across all data\n",
    "rideshare = rideshare.drop(['timezone'],axis=1)"
   ]
  },
  {
   "cell_type": "markdown",
   "metadata": {},
   "source": [
    "#### Eng. Ahmed Zaki"
   ]
  },
  {
   "cell_type": "markdown",
   "metadata": {
    "id": "Veigqd4kWRah"
   },
   "source": [
    "## Encoding all the category columns with the Onehot Encoder"
   ]
  },
  {
   "cell_type": "markdown",
   "metadata": {
    "ExecuteTime": {
     "end_time": "2023-02-17T19:40:13.617754Z",
     "start_time": "2023-02-17T19:40:13.611501Z"
    }
   },
   "source": [
    "<p align=\"center\"><img src='https://miro.medium.com/max/1400/1*ggtP4a5YaRx6l09KQaYOnw.png' width=\"600\"/>"
   ]
  },
  {
   "cell_type": "code",
   "execution_count": 24,
   "metadata": {
    "ExecuteTime": {
     "end_time": "2023-02-17T20:36:17.535990Z",
     "start_time": "2023-02-17T20:36:17.505560Z"
    },
    "id": "XrJWLG1TZMzi"
   },
   "outputs": [],
   "source": [
    "# Reset index before using Onehot Encoder\n",
    "rideshare = rideshare.reset_index(drop=True)"
   ]
  },
  {
   "cell_type": "code",
   "execution_count": 25,
   "metadata": {
    "ExecuteTime": {
     "end_time": "2023-02-17T20:36:17.597186Z",
     "start_time": "2023-02-17T20:36:17.537987Z"
    }
   },
   "outputs": [
    {
     "name": "stdout",
     "output_type": "stream",
     "text": [
      "['source', 'destination', 'cab_type', 'name', 'short_summary', 'icon']\n"
     ]
    }
   ],
   "source": [
    "from sklearn.preprocessing import OneHotEncoder\n",
    "cat_col = rideshare.select_dtypes(include=['object','category']).columns.tolist()\n",
    "print(cat_col)"
   ]
  },
  {
   "cell_type": "code",
   "execution_count": 26,
   "metadata": {
    "ExecuteTime": {
     "end_time": "2023-02-17T20:36:19.486487Z",
     "start_time": "2023-02-17T20:36:17.598183Z"
    },
    "colab": {
     "base_uri": "https://localhost:8080/"
    },
    "execution": {
     "iopub.execute_input": "2021-07-20T06:47:45.530694Z",
     "iopub.status.busy": "2021-07-20T06:47:45.53041Z",
     "iopub.status.idle": "2021-07-20T06:47:51.630302Z",
     "shell.execute_reply": "2021-07-20T06:47:51.629262Z",
     "shell.execute_reply.started": "2021-07-20T06:47:45.530666Z"
    },
    "id": "hwXF_DsfWRah",
    "outputId": "4f913502-f0a9-4854-8386-571344ef6ebb",
    "scrolled": true
   },
   "outputs": [],
   "source": [
    "#intiate OneHotEncoder and concatinating original rideshare with encoded column rideshare's\n",
    "for col in cat_col:\n",
    "    encoder = OneHotEncoder(handle_unknown='ignore')\n",
    "    \n",
    "    enc_rideshare = pd.DataFrame(encoder.fit_transform(rideshare[[col]]).toarray())\n",
    "    enc_rideshare.columns = encoder.get_feature_names_out([col])\n",
    "    \n",
    "    rideshare = rideshare.drop(col, axis=1)\n",
    "    \n",
    "    rideshare = pd.concat([rideshare, enc_rideshare], axis=1)"
   ]
  },
  {
   "cell_type": "code",
   "execution_count": 27,
   "metadata": {
    "ExecuteTime": {
     "end_time": "2023-02-17T20:36:19.501632Z",
     "start_time": "2023-02-17T20:36:19.490476Z"
    },
    "colab": {
     "base_uri": "https://localhost:8080/"
    },
    "execution": {
     "iopub.execute_input": "2021-07-20T06:47:51.63226Z",
     "iopub.status.busy": "2021-07-20T06:47:51.631799Z",
     "iopub.status.idle": "2021-07-20T06:47:51.640126Z",
     "shell.execute_reply": "2021-07-20T06:47:51.639018Z",
     "shell.execute_reply.started": "2021-07-20T06:47:51.632194Z"
    },
    "id": "c8vpX3PMWRah",
    "outputId": "f597637e-7646-4a25-e6c0-rideshare2ab6103889"
   },
   "outputs": [
    {
     "data": {
      "text/plain": [
       "Index(['hour', 'day', 'month', 'price', 'distance', 'surge_multiplier',\n",
       "       'source_Back Bay', 'source_Beacon Hill', 'source_Boston University',\n",
       "       'source_Fenway', 'source_Financial District', 'source_Haymarket Square',\n",
       "       'source_North End', 'source_North Station',\n",
       "       'source_Northeastern University', 'source_South Station',\n",
       "       'source_Theatre District', 'source_West End', 'destination_Back Bay',\n",
       "       'destination_Beacon Hill', 'destination_Boston University',\n",
       "       'destination_Fenway', 'destination_Financial District',\n",
       "       'destination_Haymarket Square', 'destination_North End',\n",
       "       'destination_North Station', 'destination_Northeastern University',\n",
       "       'destination_South Station', 'destination_Theatre District',\n",
       "       'destination_West End', 'cab_type_Lyft', 'cab_type_Uber', 'name_Black',\n",
       "       'name_Black SUV', 'name_Lux', 'name_Lux Black', 'name_Lux Black XL',\n",
       "       'name_Lyft', 'name_Lyft XL', 'name_Shared', 'name_UberPool',\n",
       "       'name_UberX', 'name_UberXL', 'name_WAV', 'short_summary_ Clear ',\n",
       "       'short_summary_ Drizzle ', 'short_summary_ Foggy ',\n",
       "       'short_summary_ Light Rain ', 'short_summary_ Mostly Cloudy ',\n",
       "       'short_summary_ Overcast ', 'short_summary_ Partly Cloudy ',\n",
       "       'short_summary_ Possible Drizzle ', 'short_summary_ Rain ',\n",
       "       'icon_ clear-day ', 'icon_ clear-night ', 'icon_ cloudy ', 'icon_ fog ',\n",
       "       'icon_ partly-cloudy-day ', 'icon_ partly-cloudy-night ',\n",
       "       'icon_ rain '],\n",
       "      dtype='object')"
      ]
     },
     "execution_count": 27,
     "metadata": {},
     "output_type": "execute_result"
    }
   ],
   "source": [
    "rideshare.columns"
   ]
  },
  {
   "cell_type": "code",
   "execution_count": 28,
   "metadata": {
    "ExecuteTime": {
     "end_time": "2023-02-17T20:36:19.532081Z",
     "start_time": "2023-02-17T20:36:19.503642Z"
    },
    "colab": {
     "base_uri": "https://localhost:8080/",
     "height": 352
    },
    "execution": {
     "iopub.execute_input": "2021-07-20T06:47:51.641895Z",
     "iopub.status.busy": "2021-07-20T06:47:51.641584Z",
     "iopub.status.idle": "2021-07-20T06:47:51.681915Z",
     "shell.execute_reply": "2021-07-20T06:47:51.680891Z",
     "shell.execute_reply.started": "2021-07-20T06:47:51.641865Z"
    },
    "id": "3EWGJ0v1WRah",
    "outputId": "4d1f066d-904c-4598-c3a4-d3c2370db163"
   },
   "outputs": [
    {
     "data": {
      "text/html": [
       "<div>\n",
       "<style scoped>\n",
       "    .dataframe tbody tr th:only-of-type {\n",
       "        vertical-align: middle;\n",
       "    }\n",
       "\n",
       "    .dataframe tbody tr th {\n",
       "        vertical-align: top;\n",
       "    }\n",
       "\n",
       "    .dataframe thead th {\n",
       "        text-align: right;\n",
       "    }\n",
       "</style>\n",
       "<table border=\"1\" class=\"dataframe\">\n",
       "  <thead>\n",
       "    <tr style=\"text-align: right;\">\n",
       "      <th></th>\n",
       "      <th>hour</th>\n",
       "      <th>day</th>\n",
       "      <th>month</th>\n",
       "      <th>price</th>\n",
       "      <th>distance</th>\n",
       "      <th>surge_multiplier</th>\n",
       "      <th>source_Back Bay</th>\n",
       "      <th>source_Beacon Hill</th>\n",
       "      <th>source_Boston University</th>\n",
       "      <th>source_Fenway</th>\n",
       "      <th>...</th>\n",
       "      <th>short_summary_ Partly Cloudy</th>\n",
       "      <th>short_summary_ Possible Drizzle</th>\n",
       "      <th>short_summary_ Rain</th>\n",
       "      <th>icon_ clear-day</th>\n",
       "      <th>icon_ clear-night</th>\n",
       "      <th>icon_ cloudy</th>\n",
       "      <th>icon_ fog</th>\n",
       "      <th>icon_ partly-cloudy-day</th>\n",
       "      <th>icon_ partly-cloudy-night</th>\n",
       "      <th>icon_ rain</th>\n",
       "    </tr>\n",
       "  </thead>\n",
       "  <tbody>\n",
       "    <tr>\n",
       "      <th>0</th>\n",
       "      <td>9</td>\n",
       "      <td>16</td>\n",
       "      <td>12</td>\n",
       "      <td>5.0</td>\n",
       "      <td>0.44</td>\n",
       "      <td>1.0</td>\n",
       "      <td>0.0</td>\n",
       "      <td>0.0</td>\n",
       "      <td>0.0</td>\n",
       "      <td>0.0</td>\n",
       "      <td>...</td>\n",
       "      <td>0.0</td>\n",
       "      <td>0.0</td>\n",
       "      <td>0.0</td>\n",
       "      <td>0.0</td>\n",
       "      <td>0.0</td>\n",
       "      <td>0.0</td>\n",
       "      <td>0.0</td>\n",
       "      <td>0.0</td>\n",
       "      <td>1.0</td>\n",
       "      <td>0.0</td>\n",
       "    </tr>\n",
       "    <tr>\n",
       "      <th>1</th>\n",
       "      <td>2</td>\n",
       "      <td>27</td>\n",
       "      <td>11</td>\n",
       "      <td>11.0</td>\n",
       "      <td>0.44</td>\n",
       "      <td>1.0</td>\n",
       "      <td>0.0</td>\n",
       "      <td>0.0</td>\n",
       "      <td>0.0</td>\n",
       "      <td>0.0</td>\n",
       "      <td>...</td>\n",
       "      <td>0.0</td>\n",
       "      <td>0.0</td>\n",
       "      <td>1.0</td>\n",
       "      <td>0.0</td>\n",
       "      <td>0.0</td>\n",
       "      <td>0.0</td>\n",
       "      <td>0.0</td>\n",
       "      <td>0.0</td>\n",
       "      <td>0.0</td>\n",
       "      <td>1.0</td>\n",
       "    </tr>\n",
       "    <tr>\n",
       "      <th>2</th>\n",
       "      <td>1</td>\n",
       "      <td>28</td>\n",
       "      <td>11</td>\n",
       "      <td>7.0</td>\n",
       "      <td>0.44</td>\n",
       "      <td>1.0</td>\n",
       "      <td>0.0</td>\n",
       "      <td>0.0</td>\n",
       "      <td>0.0</td>\n",
       "      <td>0.0</td>\n",
       "      <td>...</td>\n",
       "      <td>0.0</td>\n",
       "      <td>0.0</td>\n",
       "      <td>0.0</td>\n",
       "      <td>0.0</td>\n",
       "      <td>1.0</td>\n",
       "      <td>0.0</td>\n",
       "      <td>0.0</td>\n",
       "      <td>0.0</td>\n",
       "      <td>0.0</td>\n",
       "      <td>0.0</td>\n",
       "    </tr>\n",
       "    <tr>\n",
       "      <th>3</th>\n",
       "      <td>4</td>\n",
       "      <td>30</td>\n",
       "      <td>11</td>\n",
       "      <td>26.0</td>\n",
       "      <td>0.44</td>\n",
       "      <td>1.0</td>\n",
       "      <td>0.0</td>\n",
       "      <td>0.0</td>\n",
       "      <td>0.0</td>\n",
       "      <td>0.0</td>\n",
       "      <td>...</td>\n",
       "      <td>0.0</td>\n",
       "      <td>0.0</td>\n",
       "      <td>0.0</td>\n",
       "      <td>0.0</td>\n",
       "      <td>1.0</td>\n",
       "      <td>0.0</td>\n",
       "      <td>0.0</td>\n",
       "      <td>0.0</td>\n",
       "      <td>0.0</td>\n",
       "      <td>0.0</td>\n",
       "    </tr>\n",
       "    <tr>\n",
       "      <th>4</th>\n",
       "      <td>3</td>\n",
       "      <td>29</td>\n",
       "      <td>11</td>\n",
       "      <td>9.0</td>\n",
       "      <td>0.44</td>\n",
       "      <td>1.0</td>\n",
       "      <td>0.0</td>\n",
       "      <td>0.0</td>\n",
       "      <td>0.0</td>\n",
       "      <td>0.0</td>\n",
       "      <td>...</td>\n",
       "      <td>1.0</td>\n",
       "      <td>0.0</td>\n",
       "      <td>0.0</td>\n",
       "      <td>0.0</td>\n",
       "      <td>0.0</td>\n",
       "      <td>0.0</td>\n",
       "      <td>0.0</td>\n",
       "      <td>0.0</td>\n",
       "      <td>1.0</td>\n",
       "      <td>0.0</td>\n",
       "    </tr>\n",
       "  </tbody>\n",
       "</table>\n",
       "<p>5 rows × 60 columns</p>\n",
       "</div>"
      ],
      "text/plain": [
       "   hour  day  month  price  distance  surge_multiplier  source_Back Bay  \\\n",
       "0     9   16     12    5.0      0.44               1.0              0.0   \n",
       "1     2   27     11   11.0      0.44               1.0              0.0   \n",
       "2     1   28     11    7.0      0.44               1.0              0.0   \n",
       "3     4   30     11   26.0      0.44               1.0              0.0   \n",
       "4     3   29     11    9.0      0.44               1.0              0.0   \n",
       "\n",
       "   source_Beacon Hill  source_Boston University  source_Fenway  ...  \\\n",
       "0                 0.0                       0.0            0.0  ...   \n",
       "1                 0.0                       0.0            0.0  ...   \n",
       "2                 0.0                       0.0            0.0  ...   \n",
       "3                 0.0                       0.0            0.0  ...   \n",
       "4                 0.0                       0.0            0.0  ...   \n",
       "\n",
       "   short_summary_ Partly Cloudy   short_summary_ Possible Drizzle   \\\n",
       "0                            0.0                               0.0   \n",
       "1                            0.0                               0.0   \n",
       "2                            0.0                               0.0   \n",
       "3                            0.0                               0.0   \n",
       "4                            1.0                               0.0   \n",
       "\n",
       "   short_summary_ Rain   icon_ clear-day   icon_ clear-night   icon_ cloudy   \\\n",
       "0                   0.0               0.0                 0.0            0.0   \n",
       "1                   1.0               0.0                 0.0            0.0   \n",
       "2                   0.0               0.0                 1.0            0.0   \n",
       "3                   0.0               0.0                 1.0            0.0   \n",
       "4                   0.0               0.0                 0.0            0.0   \n",
       "\n",
       "   icon_ fog   icon_ partly-cloudy-day   icon_ partly-cloudy-night   \\\n",
       "0         0.0                       0.0                         1.0   \n",
       "1         0.0                       0.0                         0.0   \n",
       "2         0.0                       0.0                         0.0   \n",
       "3         0.0                       0.0                         0.0   \n",
       "4         0.0                       0.0                         1.0   \n",
       "\n",
       "   icon_ rain   \n",
       "0          0.0  \n",
       "1          1.0  \n",
       "2          0.0  \n",
       "3          0.0  \n",
       "4          0.0  \n",
       "\n",
       "[5 rows x 60 columns]"
      ]
     },
     "execution_count": 28,
     "metadata": {},
     "output_type": "execute_result"
    }
   ],
   "source": [
    "rideshare.head()"
   ]
  },
  {
   "cell_type": "markdown",
   "metadata": {
    "id": "LyLHm5ywWRah"
   },
   "source": [
    "### Analyzing source column values with price"
   ]
  },
  {
   "cell_type": "code",
   "execution_count": 29,
   "metadata": {
    "ExecuteTime": {
     "end_time": "2023-02-17T20:36:19.705059Z",
     "start_time": "2023-02-17T20:36:19.533074Z"
    },
    "colab": {
     "base_uri": "https://localhost:8080/",
     "height": 288
    },
    "execution": {
     "iopub.execute_input": "2021-07-20T06:47:51.683492Z",
     "iopub.status.busy": "2021-07-20T06:47:51.683171Z",
     "iopub.status.idle": "2021-07-20T06:47:52.262848Z",
     "shell.execute_reply": "2021-07-20T06:47:52.261779Z",
     "shell.execute_reply.started": "2021-07-20T06:47:51.683461Z"
    },
    "id": "6UwU9uGeWRai",
    "outputId": "a3eda2bf-a785-415f-dbc1-5b358ac2a480"
   },
   "outputs": [
    {
     "data": {
      "text/html": [
       "<div>\n",
       "<style scoped>\n",
       "    .dataframe tbody tr th:only-of-type {\n",
       "        vertical-align: middle;\n",
       "    }\n",
       "\n",
       "    .dataframe tbody tr th {\n",
       "        vertical-align: top;\n",
       "    }\n",
       "\n",
       "    .dataframe thead th {\n",
       "        text-align: right;\n",
       "    }\n",
       "</style>\n",
       "<table border=\"1\" class=\"dataframe\">\n",
       "  <thead>\n",
       "    <tr style=\"text-align: right;\">\n",
       "      <th></th>\n",
       "      <th>price</th>\n",
       "      <th>source_Back Bay</th>\n",
       "      <th>source_Beacon Hill</th>\n",
       "      <th>source_Boston University</th>\n",
       "      <th>source_Fenway</th>\n",
       "      <th>source_Financial District</th>\n",
       "      <th>source_Haymarket Square</th>\n",
       "      <th>source_North End</th>\n",
       "      <th>source_North Station</th>\n",
       "      <th>source_Northeastern University</th>\n",
       "      <th>source_South Station</th>\n",
       "      <th>source_Theatre District</th>\n",
       "      <th>source_West End</th>\n",
       "    </tr>\n",
       "  </thead>\n",
       "  <tbody>\n",
       "    <tr>\n",
       "      <th>0</th>\n",
       "      <td>5.0</td>\n",
       "      <td>0.0</td>\n",
       "      <td>0.0</td>\n",
       "      <td>0.0</td>\n",
       "      <td>0.0</td>\n",
       "      <td>0.0</td>\n",
       "      <td>1.0</td>\n",
       "      <td>0.0</td>\n",
       "      <td>0.0</td>\n",
       "      <td>0.0</td>\n",
       "      <td>0.0</td>\n",
       "      <td>0.0</td>\n",
       "      <td>0.0</td>\n",
       "    </tr>\n",
       "    <tr>\n",
       "      <th>1</th>\n",
       "      <td>11.0</td>\n",
       "      <td>0.0</td>\n",
       "      <td>0.0</td>\n",
       "      <td>0.0</td>\n",
       "      <td>0.0</td>\n",
       "      <td>0.0</td>\n",
       "      <td>1.0</td>\n",
       "      <td>0.0</td>\n",
       "      <td>0.0</td>\n",
       "      <td>0.0</td>\n",
       "      <td>0.0</td>\n",
       "      <td>0.0</td>\n",
       "      <td>0.0</td>\n",
       "    </tr>\n",
       "    <tr>\n",
       "      <th>2</th>\n",
       "      <td>7.0</td>\n",
       "      <td>0.0</td>\n",
       "      <td>0.0</td>\n",
       "      <td>0.0</td>\n",
       "      <td>0.0</td>\n",
       "      <td>0.0</td>\n",
       "      <td>1.0</td>\n",
       "      <td>0.0</td>\n",
       "      <td>0.0</td>\n",
       "      <td>0.0</td>\n",
       "      <td>0.0</td>\n",
       "      <td>0.0</td>\n",
       "      <td>0.0</td>\n",
       "    </tr>\n",
       "    <tr>\n",
       "      <th>3</th>\n",
       "      <td>26.0</td>\n",
       "      <td>0.0</td>\n",
       "      <td>0.0</td>\n",
       "      <td>0.0</td>\n",
       "      <td>0.0</td>\n",
       "      <td>0.0</td>\n",
       "      <td>1.0</td>\n",
       "      <td>0.0</td>\n",
       "      <td>0.0</td>\n",
       "      <td>0.0</td>\n",
       "      <td>0.0</td>\n",
       "      <td>0.0</td>\n",
       "      <td>0.0</td>\n",
       "    </tr>\n",
       "    <tr>\n",
       "      <th>4</th>\n",
       "      <td>9.0</td>\n",
       "      <td>0.0</td>\n",
       "      <td>0.0</td>\n",
       "      <td>0.0</td>\n",
       "      <td>0.0</td>\n",
       "      <td>0.0</td>\n",
       "      <td>1.0</td>\n",
       "      <td>0.0</td>\n",
       "      <td>0.0</td>\n",
       "      <td>0.0</td>\n",
       "      <td>0.0</td>\n",
       "      <td>0.0</td>\n",
       "      <td>0.0</td>\n",
       "    </tr>\n",
       "  </tbody>\n",
       "</table>\n",
       "</div>"
      ],
      "text/plain": [
       "   price  source_Back Bay  source_Beacon Hill  source_Boston University  \\\n",
       "0    5.0              0.0                 0.0                       0.0   \n",
       "1   11.0              0.0                 0.0                       0.0   \n",
       "2    7.0              0.0                 0.0                       0.0   \n",
       "3   26.0              0.0                 0.0                       0.0   \n",
       "4    9.0              0.0                 0.0                       0.0   \n",
       "\n",
       "   source_Fenway  source_Financial District  source_Haymarket Square  \\\n",
       "0            0.0                        0.0                      1.0   \n",
       "1            0.0                        0.0                      1.0   \n",
       "2            0.0                        0.0                      1.0   \n",
       "3            0.0                        0.0                      1.0   \n",
       "4            0.0                        0.0                      1.0   \n",
       "\n",
       "   source_North End  source_North Station  source_Northeastern University  \\\n",
       "0               0.0                   0.0                             0.0   \n",
       "1               0.0                   0.0                             0.0   \n",
       "2               0.0                   0.0                             0.0   \n",
       "3               0.0                   0.0                             0.0   \n",
       "4               0.0                   0.0                             0.0   \n",
       "\n",
       "   source_South Station  source_Theatre District  source_West End  \n",
       "0                   0.0                      0.0              0.0  \n",
       "1                   0.0                      0.0              0.0  \n",
       "2                   0.0                      0.0              0.0  \n",
       "3                   0.0                      0.0              0.0  \n",
       "4                   0.0                      0.0              0.0  "
      ]
     },
     "execution_count": 29,
     "metadata": {},
     "output_type": "execute_result"
    }
   ],
   "source": [
    "src_col = ['price','source_Back Bay', 'source_Beacon Hill', 'source_Boston University',\n",
    "       'source_Fenway', 'source_Financial District', 'source_Haymarket Square',\n",
    "       'source_North End', 'source_North Station',\n",
    "       'source_Northeastern University', 'source_South Station',\n",
    "       'source_Theatre District', 'source_West End']\n",
    "rideshare_new = rideshare[src_col]\n",
    "rideshare_new.head()"
   ]
  },
  {
   "cell_type": "code",
   "execution_count": 30,
   "metadata": {
    "ExecuteTime": {
     "end_time": "2023-02-17T20:36:20.112440Z",
     "start_time": "2023-02-17T20:36:19.706056Z"
    },
    "colab": {
     "base_uri": "https://localhost:8080/",
     "height": 430
    },
    "execution": {
     "iopub.execute_input": "2021-07-20T06:47:52.264243Z",
     "iopub.status.busy": "2021-07-20T06:47:52.263952Z",
     "iopub.status.idle": "2021-07-20T06:47:54.22065Z",
     "shell.execute_reply": "2021-07-20T06:47:54.219687Z",
     "shell.execute_reply.started": "2021-07-20T06:47:52.264201Z"
    },
    "id": "-2pym90LWRai",
    "outputId": "49fa2b1a-101c-4bae-ee60-4547ae02f59a"
   },
   "outputs": [
    {
     "data": {
      "text/plain": [
       "<AxesSubplot:>"
      ]
     },
     "execution_count": 30,
     "metadata": {},
     "output_type": "execute_result"
    },
    {
     "data": {
      "image/png": "[encoded data removed]",
      "text/plain": [
       "<Figure size 432x288 with 1 Axes>"
      ]
     },
     "metadata": {
      "needs_background": "light"
     },
     "output_type": "display_data"
    }
   ],
   "source": [
    "#plotting relation between correlation and rideshare_new dataframe\n",
    "correlation=rideshare_new.corr()[['price']]\n",
    "price_corr=correlation[(correlation['price']>0.0001)|(correlation['price']<-0.0001)] #OR\n",
    "price_corr.plot.bar() "
   ]
  },
  {
   "cell_type": "markdown",
   "metadata": {
    "id": "_qeVDWTPWRai"
   },
   "source": [
    "### Source have small impact on the price, so we will drop it"
   ]
  },
  {
   "cell_type": "code",
   "execution_count": 31,
   "metadata": {
    "ExecuteTime": {
     "end_time": "2023-02-17T20:36:20.207099Z",
     "start_time": "2023-02-17T20:36:20.114448Z"
    },
    "id": "a5Jh7xhkZMzn",
    "outputId": "eae58539-7626-432b-a876-d159e0ac7973"
   },
   "outputs": [
    {
     "name": "stdout",
     "output_type": "stream",
     "text": [
      "(637976, 48)\n"
     ]
    },
    {
     "data": {
      "text/html": [
       "<div>\n",
       "<style scoped>\n",
       "    .dataframe tbody tr th:only-of-type {\n",
       "        vertical-align: middle;\n",
       "    }\n",
       "\n",
       "    .dataframe tbody tr th {\n",
       "        vertical-align: top;\n",
       "    }\n",
       "\n",
       "    .dataframe thead th {\n",
       "        text-align: right;\n",
       "    }\n",
       "</style>\n",
       "<table border=\"1\" class=\"dataframe\">\n",
       "  <thead>\n",
       "    <tr style=\"text-align: right;\">\n",
       "      <th></th>\n",
       "      <th>hour</th>\n",
       "      <th>day</th>\n",
       "      <th>month</th>\n",
       "      <th>price</th>\n",
       "      <th>distance</th>\n",
       "      <th>surge_multiplier</th>\n",
       "      <th>destination_Back Bay</th>\n",
       "      <th>destination_Beacon Hill</th>\n",
       "      <th>destination_Boston University</th>\n",
       "      <th>destination_Fenway</th>\n",
       "      <th>...</th>\n",
       "      <th>short_summary_ Partly Cloudy</th>\n",
       "      <th>short_summary_ Possible Drizzle</th>\n",
       "      <th>short_summary_ Rain</th>\n",
       "      <th>icon_ clear-day</th>\n",
       "      <th>icon_ clear-night</th>\n",
       "      <th>icon_ cloudy</th>\n",
       "      <th>icon_ fog</th>\n",
       "      <th>icon_ partly-cloudy-day</th>\n",
       "      <th>icon_ partly-cloudy-night</th>\n",
       "      <th>icon_ rain</th>\n",
       "    </tr>\n",
       "  </thead>\n",
       "  <tbody>\n",
       "    <tr>\n",
       "      <th>0</th>\n",
       "      <td>9</td>\n",
       "      <td>16</td>\n",
       "      <td>12</td>\n",
       "      <td>5.0</td>\n",
       "      <td>0.44</td>\n",
       "      <td>1.0</td>\n",
       "      <td>0.0</td>\n",
       "      <td>0.0</td>\n",
       "      <td>0.0</td>\n",
       "      <td>0.0</td>\n",
       "      <td>...</td>\n",
       "      <td>0.0</td>\n",
       "      <td>0.0</td>\n",
       "      <td>0.0</td>\n",
       "      <td>0.0</td>\n",
       "      <td>0.0</td>\n",
       "      <td>0.0</td>\n",
       "      <td>0.0</td>\n",
       "      <td>0.0</td>\n",
       "      <td>1.0</td>\n",
       "      <td>0.0</td>\n",
       "    </tr>\n",
       "    <tr>\n",
       "      <th>1</th>\n",
       "      <td>2</td>\n",
       "      <td>27</td>\n",
       "      <td>11</td>\n",
       "      <td>11.0</td>\n",
       "      <td>0.44</td>\n",
       "      <td>1.0</td>\n",
       "      <td>0.0</td>\n",
       "      <td>0.0</td>\n",
       "      <td>0.0</td>\n",
       "      <td>0.0</td>\n",
       "      <td>...</td>\n",
       "      <td>0.0</td>\n",
       "      <td>0.0</td>\n",
       "      <td>1.0</td>\n",
       "      <td>0.0</td>\n",
       "      <td>0.0</td>\n",
       "      <td>0.0</td>\n",
       "      <td>0.0</td>\n",
       "      <td>0.0</td>\n",
       "      <td>0.0</td>\n",
       "      <td>1.0</td>\n",
       "    </tr>\n",
       "    <tr>\n",
       "      <th>2</th>\n",
       "      <td>1</td>\n",
       "      <td>28</td>\n",
       "      <td>11</td>\n",
       "      <td>7.0</td>\n",
       "      <td>0.44</td>\n",
       "      <td>1.0</td>\n",
       "      <td>0.0</td>\n",
       "      <td>0.0</td>\n",
       "      <td>0.0</td>\n",
       "      <td>0.0</td>\n",
       "      <td>...</td>\n",
       "      <td>0.0</td>\n",
       "      <td>0.0</td>\n",
       "      <td>0.0</td>\n",
       "      <td>0.0</td>\n",
       "      <td>1.0</td>\n",
       "      <td>0.0</td>\n",
       "      <td>0.0</td>\n",
       "      <td>0.0</td>\n",
       "      <td>0.0</td>\n",
       "      <td>0.0</td>\n",
       "    </tr>\n",
       "    <tr>\n",
       "      <th>3</th>\n",
       "      <td>4</td>\n",
       "      <td>30</td>\n",
       "      <td>11</td>\n",
       "      <td>26.0</td>\n",
       "      <td>0.44</td>\n",
       "      <td>1.0</td>\n",
       "      <td>0.0</td>\n",
       "      <td>0.0</td>\n",
       "      <td>0.0</td>\n",
       "      <td>0.0</td>\n",
       "      <td>...</td>\n",
       "      <td>0.0</td>\n",
       "      <td>0.0</td>\n",
       "      <td>0.0</td>\n",
       "      <td>0.0</td>\n",
       "      <td>1.0</td>\n",
       "      <td>0.0</td>\n",
       "      <td>0.0</td>\n",
       "      <td>0.0</td>\n",
       "      <td>0.0</td>\n",
       "      <td>0.0</td>\n",
       "    </tr>\n",
       "    <tr>\n",
       "      <th>4</th>\n",
       "      <td>3</td>\n",
       "      <td>29</td>\n",
       "      <td>11</td>\n",
       "      <td>9.0</td>\n",
       "      <td>0.44</td>\n",
       "      <td>1.0</td>\n",
       "      <td>0.0</td>\n",
       "      <td>0.0</td>\n",
       "      <td>0.0</td>\n",
       "      <td>0.0</td>\n",
       "      <td>...</td>\n",
       "      <td>1.0</td>\n",
       "      <td>0.0</td>\n",
       "      <td>0.0</td>\n",
       "      <td>0.0</td>\n",
       "      <td>0.0</td>\n",
       "      <td>0.0</td>\n",
       "      <td>0.0</td>\n",
       "      <td>0.0</td>\n",
       "      <td>1.0</td>\n",
       "      <td>0.0</td>\n",
       "    </tr>\n",
       "  </tbody>\n",
       "</table>\n",
       "<p>5 rows × 48 columns</p>\n",
       "</div>"
      ],
      "text/plain": [
       "   hour  day  month  price  distance  surge_multiplier  destination_Back Bay  \\\n",
       "0     9   16     12    5.0      0.44               1.0                   0.0   \n",
       "1     2   27     11   11.0      0.44               1.0                   0.0   \n",
       "2     1   28     11    7.0      0.44               1.0                   0.0   \n",
       "3     4   30     11   26.0      0.44               1.0                   0.0   \n",
       "4     3   29     11    9.0      0.44               1.0                   0.0   \n",
       "\n",
       "   destination_Beacon Hill  destination_Boston University  destination_Fenway  \\\n",
       "0                      0.0                            0.0                 0.0   \n",
       "1                      0.0                            0.0                 0.0   \n",
       "2                      0.0                            0.0                 0.0   \n",
       "3                      0.0                            0.0                 0.0   \n",
       "4                      0.0                            0.0                 0.0   \n",
       "\n",
       "   ...  short_summary_ Partly Cloudy   short_summary_ Possible Drizzle   \\\n",
       "0  ...                            0.0                               0.0   \n",
       "1  ...                            0.0                               0.0   \n",
       "2  ...                            0.0                               0.0   \n",
       "3  ...                            0.0                               0.0   \n",
       "4  ...                            1.0                               0.0   \n",
       "\n",
       "   short_summary_ Rain   icon_ clear-day   icon_ clear-night   icon_ cloudy   \\\n",
       "0                   0.0               0.0                 0.0            0.0   \n",
       "1                   1.0               0.0                 0.0            0.0   \n",
       "2                   0.0               0.0                 1.0            0.0   \n",
       "3                   0.0               0.0                 1.0            0.0   \n",
       "4                   0.0               0.0                 0.0            0.0   \n",
       "\n",
       "   icon_ fog   icon_ partly-cloudy-day   icon_ partly-cloudy-night   \\\n",
       "0         0.0                       0.0                         1.0   \n",
       "1         0.0                       0.0                         0.0   \n",
       "2         0.0                       0.0                         0.0   \n",
       "3         0.0                       0.0                         0.0   \n",
       "4         0.0                       0.0                         1.0   \n",
       "\n",
       "   icon_ rain   \n",
       "0          0.0  \n",
       "1          1.0  \n",
       "2          0.0  \n",
       "3          0.0  \n",
       "4          0.0  \n",
       "\n",
       "[5 rows x 48 columns]"
      ]
     },
     "execution_count": 31,
     "metadata": {},
     "output_type": "execute_result"
    }
   ],
   "source": [
    "rideshare = rideshare.drop(src_col[1:],axis=1)\n",
    "print(rideshare.shape)\n",
    "rideshare.head()"
   ]
  },
  {
   "cell_type": "markdown",
   "metadata": {
    "id": "DK45Be3VZMzo"
   },
   "source": [
    "### Analyzing destination column values with price"
   ]
  },
  {
   "cell_type": "code",
   "execution_count": 32,
   "metadata": {
    "ExecuteTime": {
     "end_time": "2023-02-17T20:36:20.255205Z",
     "start_time": "2023-02-17T20:36:20.209107Z"
    },
    "colab": {
     "base_uri": "https://localhost:8080/",
     "height": 288
    },
    "execution": {
     "iopub.execute_input": "2021-07-20T06:47:54.222101Z",
     "iopub.status.busy": "2021-07-20T06:47:54.221836Z",
     "iopub.status.idle": "2021-07-20T06:47:54.277326Z",
     "shell.execute_reply": "2021-07-20T06:47:54.276271Z",
     "shell.execute_reply.started": "2021-07-20T06:47:54.222074Z"
    },
    "id": "E9i7f1JlWRai",
    "outputId": "a4f1752f-d1c1-4978-82a7-500f6c78efd0"
   },
   "outputs": [
    {
     "data": {
      "text/html": [
       "<div>\n",
       "<style scoped>\n",
       "    .dataframe tbody tr th:only-of-type {\n",
       "        vertical-align: middle;\n",
       "    }\n",
       "\n",
       "    .dataframe tbody tr th {\n",
       "        vertical-align: top;\n",
       "    }\n",
       "\n",
       "    .dataframe thead th {\n",
       "        text-align: right;\n",
       "    }\n",
       "</style>\n",
       "<table border=\"1\" class=\"dataframe\">\n",
       "  <thead>\n",
       "    <tr style=\"text-align: right;\">\n",
       "      <th></th>\n",
       "      <th>price</th>\n",
       "      <th>destination_Back Bay</th>\n",
       "      <th>destination_Beacon Hill</th>\n",
       "      <th>destination_Boston University</th>\n",
       "      <th>destination_Fenway</th>\n",
       "      <th>destination_Financial District</th>\n",
       "      <th>destination_Haymarket Square</th>\n",
       "      <th>destination_North End</th>\n",
       "      <th>destination_North Station</th>\n",
       "      <th>destination_Northeastern University</th>\n",
       "      <th>destination_South Station</th>\n",
       "      <th>destination_Theatre District</th>\n",
       "      <th>destination_West End</th>\n",
       "    </tr>\n",
       "  </thead>\n",
       "  <tbody>\n",
       "    <tr>\n",
       "      <th>0</th>\n",
       "      <td>5.0</td>\n",
       "      <td>0.0</td>\n",
       "      <td>0.0</td>\n",
       "      <td>0.0</td>\n",
       "      <td>0.0</td>\n",
       "      <td>0.0</td>\n",
       "      <td>0.0</td>\n",
       "      <td>0.0</td>\n",
       "      <td>1.0</td>\n",
       "      <td>0.0</td>\n",
       "      <td>0.0</td>\n",
       "      <td>0.0</td>\n",
       "      <td>0.0</td>\n",
       "    </tr>\n",
       "    <tr>\n",
       "      <th>1</th>\n",
       "      <td>11.0</td>\n",
       "      <td>0.0</td>\n",
       "      <td>0.0</td>\n",
       "      <td>0.0</td>\n",
       "      <td>0.0</td>\n",
       "      <td>0.0</td>\n",
       "      <td>0.0</td>\n",
       "      <td>0.0</td>\n",
       "      <td>1.0</td>\n",
       "      <td>0.0</td>\n",
       "      <td>0.0</td>\n",
       "      <td>0.0</td>\n",
       "      <td>0.0</td>\n",
       "    </tr>\n",
       "    <tr>\n",
       "      <th>2</th>\n",
       "      <td>7.0</td>\n",
       "      <td>0.0</td>\n",
       "      <td>0.0</td>\n",
       "      <td>0.0</td>\n",
       "      <td>0.0</td>\n",
       "      <td>0.0</td>\n",
       "      <td>0.0</td>\n",
       "      <td>0.0</td>\n",
       "      <td>1.0</td>\n",
       "      <td>0.0</td>\n",
       "      <td>0.0</td>\n",
       "      <td>0.0</td>\n",
       "      <td>0.0</td>\n",
       "    </tr>\n",
       "    <tr>\n",
       "      <th>3</th>\n",
       "      <td>26.0</td>\n",
       "      <td>0.0</td>\n",
       "      <td>0.0</td>\n",
       "      <td>0.0</td>\n",
       "      <td>0.0</td>\n",
       "      <td>0.0</td>\n",
       "      <td>0.0</td>\n",
       "      <td>0.0</td>\n",
       "      <td>1.0</td>\n",
       "      <td>0.0</td>\n",
       "      <td>0.0</td>\n",
       "      <td>0.0</td>\n",
       "      <td>0.0</td>\n",
       "    </tr>\n",
       "    <tr>\n",
       "      <th>4</th>\n",
       "      <td>9.0</td>\n",
       "      <td>0.0</td>\n",
       "      <td>0.0</td>\n",
       "      <td>0.0</td>\n",
       "      <td>0.0</td>\n",
       "      <td>0.0</td>\n",
       "      <td>0.0</td>\n",
       "      <td>0.0</td>\n",
       "      <td>1.0</td>\n",
       "      <td>0.0</td>\n",
       "      <td>0.0</td>\n",
       "      <td>0.0</td>\n",
       "      <td>0.0</td>\n",
       "    </tr>\n",
       "  </tbody>\n",
       "</table>\n",
       "</div>"
      ],
      "text/plain": [
       "   price  destination_Back Bay  destination_Beacon Hill  \\\n",
       "0    5.0                   0.0                      0.0   \n",
       "1   11.0                   0.0                      0.0   \n",
       "2    7.0                   0.0                      0.0   \n",
       "3   26.0                   0.0                      0.0   \n",
       "4    9.0                   0.0                      0.0   \n",
       "\n",
       "   destination_Boston University  destination_Fenway  \\\n",
       "0                            0.0                 0.0   \n",
       "1                            0.0                 0.0   \n",
       "2                            0.0                 0.0   \n",
       "3                            0.0                 0.0   \n",
       "4                            0.0                 0.0   \n",
       "\n",
       "   destination_Financial District  destination_Haymarket Square  \\\n",
       "0                             0.0                           0.0   \n",
       "1                             0.0                           0.0   \n",
       "2                             0.0                           0.0   \n",
       "3                             0.0                           0.0   \n",
       "4                             0.0                           0.0   \n",
       "\n",
       "   destination_North End  destination_North Station  \\\n",
       "0                    0.0                        1.0   \n",
       "1                    0.0                        1.0   \n",
       "2                    0.0                        1.0   \n",
       "3                    0.0                        1.0   \n",
       "4                    0.0                        1.0   \n",
       "\n",
       "   destination_Northeastern University  destination_South Station  \\\n",
       "0                                  0.0                        0.0   \n",
       "1                                  0.0                        0.0   \n",
       "2                                  0.0                        0.0   \n",
       "3                                  0.0                        0.0   \n",
       "4                                  0.0                        0.0   \n",
       "\n",
       "   destination_Theatre District  destination_West End  \n",
       "0                           0.0                   0.0  \n",
       "1                           0.0                   0.0  \n",
       "2                           0.0                   0.0  \n",
       "3                           0.0                   0.0  \n",
       "4                           0.0                   0.0  "
      ]
     },
     "execution_count": 32,
     "metadata": {},
     "output_type": "execute_result"
    }
   ],
   "source": [
    "dst_col = ['price','destination_Back Bay',\n",
    "       'destination_Beacon Hill', 'destination_Boston University',\n",
    "       'destination_Fenway', 'destination_Financial District',\n",
    "       'destination_Haymarket Square', 'destination_North End',\n",
    "       'destination_North Station', 'destination_Northeastern University',\n",
    "       'destination_South Station', 'destination_Theatre District',\n",
    "       'destination_West End']\n",
    "rideshare_new = rideshare[dst_col]\n",
    "rideshare_new.head()"
   ]
  },
  {
   "cell_type": "code",
   "execution_count": 33,
   "metadata": {
    "ExecuteTime": {
     "end_time": "2023-02-17T20:36:20.672605Z",
     "start_time": "2023-02-17T20:36:20.257177Z"
    },
    "colab": {
     "base_uri": "https://localhost:8080/",
     "height": 453
    },
    "execution": {
     "iopub.execute_input": "2021-07-20T06:47:54.283052Z",
     "iopub.status.busy": "2021-07-20T06:47:54.282749Z",
     "iopub.status.idle": "2021-07-20T06:47:56.232865Z",
     "shell.execute_reply": "2021-07-20T06:47:56.231819Z",
     "shell.execute_reply.started": "2021-07-20T06:47:54.283022Z"
    },
    "id": "wwFNRqfbWRai",
    "outputId": "3f4cd2a5-bdbc-4848-fa24-634fbf9c0415"
   },
   "outputs": [
    {
     "data": {
      "text/plain": [
       "<AxesSubplot:>"
      ]
     },
     "execution_count": 33,
     "metadata": {},
     "output_type": "execute_result"
    },
    {
     "data": {
      "image/png": "[encoded data removed]",
      "text/plain": [
       "<Figure size 432x288 with 1 Axes>"
      ]
     },
     "metadata": {
      "needs_background": "light"
     },
     "output_type": "display_data"
    }
   ],
   "source": [
    "#plotting relation between correlation and rideshare_new dataframe\n",
    "correlation=rideshare_new.corr()[['price']]\n",
    "price_corr=correlation[(correlation['price']>0.0001)|(correlation['price']<-0.0001)] #OR\n",
    "price_corr.plot.bar() "
   ]
  },
  {
   "cell_type": "markdown",
   "metadata": {
    "id": "yqJWrxm9WRai"
   },
   "source": [
    "### Correlation values of Destination are very low(almost 0), So removing them."
   ]
  },
  {
   "cell_type": "code",
   "execution_count": 34,
   "metadata": {
    "ExecuteTime": {
     "end_time": "2023-02-17T20:36:20.734953Z",
     "start_time": "2023-02-17T20:36:20.673602Z"
    },
    "colab": {
     "base_uri": "https://localhost:8080/",
     "height": 369
    },
    "execution": {
     "iopub.execute_input": "2021-07-20T06:47:56.23531Z",
     "iopub.status.busy": "2021-07-20T06:47:56.234967Z",
     "iopub.status.idle": "2021-07-20T06:47:56.374915Z",
     "shell.execute_reply": "2021-07-20T06:47:56.373839Z",
     "shell.execute_reply.started": "2021-07-20T06:47:56.235277Z"
    },
    "id": "aoLf-5BWWRaj",
    "outputId": "03182f7d-e048-494e-937c-3a1a21b508d7"
   },
   "outputs": [
    {
     "name": "stdout",
     "output_type": "stream",
     "text": [
      "(637976, 36)\n"
     ]
    },
    {
     "data": {
      "text/html": [
       "<div>\n",
       "<style scoped>\n",
       "    .dataframe tbody tr th:only-of-type {\n",
       "        vertical-align: middle;\n",
       "    }\n",
       "\n",
       "    .dataframe tbody tr th {\n",
       "        vertical-align: top;\n",
       "    }\n",
       "\n",
       "    .dataframe thead th {\n",
       "        text-align: right;\n",
       "    }\n",
       "</style>\n",
       "<table border=\"1\" class=\"dataframe\">\n",
       "  <thead>\n",
       "    <tr style=\"text-align: right;\">\n",
       "      <th></th>\n",
       "      <th>hour</th>\n",
       "      <th>day</th>\n",
       "      <th>month</th>\n",
       "      <th>price</th>\n",
       "      <th>distance</th>\n",
       "      <th>surge_multiplier</th>\n",
       "      <th>cab_type_Lyft</th>\n",
       "      <th>cab_type_Uber</th>\n",
       "      <th>name_Black</th>\n",
       "      <th>name_Black SUV</th>\n",
       "      <th>...</th>\n",
       "      <th>short_summary_ Partly Cloudy</th>\n",
       "      <th>short_summary_ Possible Drizzle</th>\n",
       "      <th>short_summary_ Rain</th>\n",
       "      <th>icon_ clear-day</th>\n",
       "      <th>icon_ clear-night</th>\n",
       "      <th>icon_ cloudy</th>\n",
       "      <th>icon_ fog</th>\n",
       "      <th>icon_ partly-cloudy-day</th>\n",
       "      <th>icon_ partly-cloudy-night</th>\n",
       "      <th>icon_ rain</th>\n",
       "    </tr>\n",
       "  </thead>\n",
       "  <tbody>\n",
       "    <tr>\n",
       "      <th>0</th>\n",
       "      <td>9</td>\n",
       "      <td>16</td>\n",
       "      <td>12</td>\n",
       "      <td>5.0</td>\n",
       "      <td>0.44</td>\n",
       "      <td>1.0</td>\n",
       "      <td>1.0</td>\n",
       "      <td>0.0</td>\n",
       "      <td>0.0</td>\n",
       "      <td>0.0</td>\n",
       "      <td>...</td>\n",
       "      <td>0.0</td>\n",
       "      <td>0.0</td>\n",
       "      <td>0.0</td>\n",
       "      <td>0.0</td>\n",
       "      <td>0.0</td>\n",
       "      <td>0.0</td>\n",
       "      <td>0.0</td>\n",
       "      <td>0.0</td>\n",
       "      <td>1.0</td>\n",
       "      <td>0.0</td>\n",
       "    </tr>\n",
       "    <tr>\n",
       "      <th>1</th>\n",
       "      <td>2</td>\n",
       "      <td>27</td>\n",
       "      <td>11</td>\n",
       "      <td>11.0</td>\n",
       "      <td>0.44</td>\n",
       "      <td>1.0</td>\n",
       "      <td>1.0</td>\n",
       "      <td>0.0</td>\n",
       "      <td>0.0</td>\n",
       "      <td>0.0</td>\n",
       "      <td>...</td>\n",
       "      <td>0.0</td>\n",
       "      <td>0.0</td>\n",
       "      <td>1.0</td>\n",
       "      <td>0.0</td>\n",
       "      <td>0.0</td>\n",
       "      <td>0.0</td>\n",
       "      <td>0.0</td>\n",
       "      <td>0.0</td>\n",
       "      <td>0.0</td>\n",
       "      <td>1.0</td>\n",
       "    </tr>\n",
       "    <tr>\n",
       "      <th>2</th>\n",
       "      <td>1</td>\n",
       "      <td>28</td>\n",
       "      <td>11</td>\n",
       "      <td>7.0</td>\n",
       "      <td>0.44</td>\n",
       "      <td>1.0</td>\n",
       "      <td>1.0</td>\n",
       "      <td>0.0</td>\n",
       "      <td>0.0</td>\n",
       "      <td>0.0</td>\n",
       "      <td>...</td>\n",
       "      <td>0.0</td>\n",
       "      <td>0.0</td>\n",
       "      <td>0.0</td>\n",
       "      <td>0.0</td>\n",
       "      <td>1.0</td>\n",
       "      <td>0.0</td>\n",
       "      <td>0.0</td>\n",
       "      <td>0.0</td>\n",
       "      <td>0.0</td>\n",
       "      <td>0.0</td>\n",
       "    </tr>\n",
       "    <tr>\n",
       "      <th>3</th>\n",
       "      <td>4</td>\n",
       "      <td>30</td>\n",
       "      <td>11</td>\n",
       "      <td>26.0</td>\n",
       "      <td>0.44</td>\n",
       "      <td>1.0</td>\n",
       "      <td>1.0</td>\n",
       "      <td>0.0</td>\n",
       "      <td>0.0</td>\n",
       "      <td>0.0</td>\n",
       "      <td>...</td>\n",
       "      <td>0.0</td>\n",
       "      <td>0.0</td>\n",
       "      <td>0.0</td>\n",
       "      <td>0.0</td>\n",
       "      <td>1.0</td>\n",
       "      <td>0.0</td>\n",
       "      <td>0.0</td>\n",
       "      <td>0.0</td>\n",
       "      <td>0.0</td>\n",
       "      <td>0.0</td>\n",
       "    </tr>\n",
       "    <tr>\n",
       "      <th>4</th>\n",
       "      <td>3</td>\n",
       "      <td>29</td>\n",
       "      <td>11</td>\n",
       "      <td>9.0</td>\n",
       "      <td>0.44</td>\n",
       "      <td>1.0</td>\n",
       "      <td>1.0</td>\n",
       "      <td>0.0</td>\n",
       "      <td>0.0</td>\n",
       "      <td>0.0</td>\n",
       "      <td>...</td>\n",
       "      <td>1.0</td>\n",
       "      <td>0.0</td>\n",
       "      <td>0.0</td>\n",
       "      <td>0.0</td>\n",
       "      <td>0.0</td>\n",
       "      <td>0.0</td>\n",
       "      <td>0.0</td>\n",
       "      <td>0.0</td>\n",
       "      <td>1.0</td>\n",
       "      <td>0.0</td>\n",
       "    </tr>\n",
       "  </tbody>\n",
       "</table>\n",
       "<p>5 rows × 36 columns</p>\n",
       "</div>"
      ],
      "text/plain": [
       "   hour  day  month  price  distance  surge_multiplier  cab_type_Lyft  \\\n",
       "0     9   16     12    5.0      0.44               1.0            1.0   \n",
       "1     2   27     11   11.0      0.44               1.0            1.0   \n",
       "2     1   28     11    7.0      0.44               1.0            1.0   \n",
       "3     4   30     11   26.0      0.44               1.0            1.0   \n",
       "4     3   29     11    9.0      0.44               1.0            1.0   \n",
       "\n",
       "   cab_type_Uber  name_Black  name_Black SUV  ...  \\\n",
       "0            0.0         0.0             0.0  ...   \n",
       "1            0.0         0.0             0.0  ...   \n",
       "2            0.0         0.0             0.0  ...   \n",
       "3            0.0         0.0             0.0  ...   \n",
       "4            0.0         0.0             0.0  ...   \n",
       "\n",
       "   short_summary_ Partly Cloudy   short_summary_ Possible Drizzle   \\\n",
       "0                            0.0                               0.0   \n",
       "1                            0.0                               0.0   \n",
       "2                            0.0                               0.0   \n",
       "3                            0.0                               0.0   \n",
       "4                            1.0                               0.0   \n",
       "\n",
       "   short_summary_ Rain   icon_ clear-day   icon_ clear-night   icon_ cloudy   \\\n",
       "0                   0.0               0.0                 0.0            0.0   \n",
       "1                   1.0               0.0                 0.0            0.0   \n",
       "2                   0.0               0.0                 1.0            0.0   \n",
       "3                   0.0               0.0                 1.0            0.0   \n",
       "4                   0.0               0.0                 0.0            0.0   \n",
       "\n",
       "   icon_ fog   icon_ partly-cloudy-day   icon_ partly-cloudy-night   \\\n",
       "0         0.0                       0.0                         1.0   \n",
       "1         0.0                       0.0                         0.0   \n",
       "2         0.0                       0.0                         0.0   \n",
       "3         0.0                       0.0                         0.0   \n",
       "4         0.0                       0.0                         1.0   \n",
       "\n",
       "   icon_ rain   \n",
       "0          0.0  \n",
       "1          1.0  \n",
       "2          0.0  \n",
       "3          0.0  \n",
       "4          0.0  \n",
       "\n",
       "[5 rows x 36 columns]"
      ]
     },
     "execution_count": 34,
     "metadata": {},
     "output_type": "execute_result"
    }
   ],
   "source": [
    "rideshare = rideshare.drop(dst_col[1:],axis=1)\n",
    "print(rideshare.shape)\n",
    "rideshare.head()"
   ]
  },
  {
   "cell_type": "markdown",
   "metadata": {},
   "source": [
    "#### Eng. Ali Wazeer"
   ]
  },
  {
   "cell_type": "code",
   "execution_count": 35,
   "metadata": {
    "ExecuteTime": {
     "end_time": "2023-02-17T20:36:20.750937Z",
     "start_time": "2023-02-17T20:36:20.735953Z"
    },
    "colab": {
     "base_uri": "https://localhost:8080/"
    },
    "execution": {
     "iopub.execute_input": "2021-07-20T06:47:56.377019Z",
     "iopub.status.busy": "2021-07-20T06:47:56.376565Z",
     "iopub.status.idle": "2021-07-20T06:47:56.384719Z",
     "shell.execute_reply": "2021-07-20T06:47:56.383424Z",
     "shell.execute_reply.started": "2021-07-20T06:47:56.376958Z"
    },
    "id": "Evz20EfUWRaj",
    "outputId": "4e62fd77-688e-4864-865e-6118a4ca5a8c"
   },
   "outputs": [
    {
     "data": {
      "text/plain": [
       "Index(['hour', 'day', 'month', 'price', 'distance', 'surge_multiplier',\n",
       "       'cab_type_Lyft', 'cab_type_Uber', 'name_Black', 'name_Black SUV',\n",
       "       'name_Lux', 'name_Lux Black', 'name_Lux Black XL', 'name_Lyft',\n",
       "       'name_Lyft XL', 'name_Shared', 'name_UberPool', 'name_UberX',\n",
       "       'name_UberXL', 'name_WAV', 'short_summary_ Clear ',\n",
       "       'short_summary_ Drizzle ', 'short_summary_ Foggy ',\n",
       "       'short_summary_ Light Rain ', 'short_summary_ Mostly Cloudy ',\n",
       "       'short_summary_ Overcast ', 'short_summary_ Partly Cloudy ',\n",
       "       'short_summary_ Possible Drizzle ', 'short_summary_ Rain ',\n",
       "       'icon_ clear-day ', 'icon_ clear-night ', 'icon_ cloudy ', 'icon_ fog ',\n",
       "       'icon_ partly-cloudy-day ', 'icon_ partly-cloudy-night ',\n",
       "       'icon_ rain '],\n",
       "      dtype='object')"
      ]
     },
     "execution_count": 35,
     "metadata": {},
     "output_type": "execute_result"
    }
   ],
   "source": [
    "rideshare.columns"
   ]
  },
  {
   "cell_type": "markdown",
   "metadata": {
    "id": "JeyzOLnxWRaj"
   },
   "source": [
    "### Checking correlation of summary column with price"
   ]
  },
  {
   "cell_type": "code",
   "execution_count": 36,
   "metadata": {
    "ExecuteTime": {
     "end_time": "2023-02-17T20:36:20.782338Z",
     "start_time": "2023-02-17T20:36:20.752419Z"
    },
    "colab": {
     "base_uri": "https://localhost:8080/",
     "height": 285
    },
    "execution": {
     "iopub.execute_input": "2021-07-20T06:47:56.386537Z",
     "iopub.status.busy": "2021-07-20T06:47:56.386273Z",
     "iopub.status.idle": "2021-07-20T06:47:56.432457Z",
     "shell.execute_reply": "2021-07-20T06:47:56.431478Z",
     "shell.execute_reply.started": "2021-07-20T06:47:56.386514Z"
    },
    "id": "Q3NQQuW7WRaj",
    "outputId": "41f928cd-7866-4c40-ffff-958befa9d887"
   },
   "outputs": [
    {
     "data": {
      "text/html": [
       "<div>\n",
       "<style scoped>\n",
       "    .dataframe tbody tr th:only-of-type {\n",
       "        vertical-align: middle;\n",
       "    }\n",
       "\n",
       "    .dataframe tbody tr th {\n",
       "        vertical-align: top;\n",
       "    }\n",
       "\n",
       "    .dataframe thead th {\n",
       "        text-align: right;\n",
       "    }\n",
       "</style>\n",
       "<table border=\"1\" class=\"dataframe\">\n",
       "  <thead>\n",
       "    <tr style=\"text-align: right;\">\n",
       "      <th></th>\n",
       "      <th>price</th>\n",
       "      <th>short_summary_ Drizzle</th>\n",
       "      <th>short_summary_ Foggy</th>\n",
       "      <th>short_summary_ Light Rain</th>\n",
       "      <th>short_summary_ Mostly Cloudy</th>\n",
       "      <th>short_summary_ Overcast</th>\n",
       "      <th>short_summary_ Partly Cloudy</th>\n",
       "      <th>short_summary_ Possible Drizzle</th>\n",
       "      <th>short_summary_ Rain</th>\n",
       "      <th>short_summary_ Clear</th>\n",
       "    </tr>\n",
       "  </thead>\n",
       "  <tbody>\n",
       "    <tr>\n",
       "      <th>0</th>\n",
       "      <td>5.0</td>\n",
       "      <td>0.0</td>\n",
       "      <td>0.0</td>\n",
       "      <td>0.0</td>\n",
       "      <td>1.0</td>\n",
       "      <td>0.0</td>\n",
       "      <td>0.0</td>\n",
       "      <td>0.0</td>\n",
       "      <td>0.0</td>\n",
       "      <td>0.0</td>\n",
       "    </tr>\n",
       "    <tr>\n",
       "      <th>1</th>\n",
       "      <td>11.0</td>\n",
       "      <td>0.0</td>\n",
       "      <td>0.0</td>\n",
       "      <td>0.0</td>\n",
       "      <td>0.0</td>\n",
       "      <td>0.0</td>\n",
       "      <td>0.0</td>\n",
       "      <td>0.0</td>\n",
       "      <td>1.0</td>\n",
       "      <td>0.0</td>\n",
       "    </tr>\n",
       "    <tr>\n",
       "      <th>2</th>\n",
       "      <td>7.0</td>\n",
       "      <td>0.0</td>\n",
       "      <td>0.0</td>\n",
       "      <td>0.0</td>\n",
       "      <td>0.0</td>\n",
       "      <td>0.0</td>\n",
       "      <td>0.0</td>\n",
       "      <td>0.0</td>\n",
       "      <td>0.0</td>\n",
       "      <td>1.0</td>\n",
       "    </tr>\n",
       "    <tr>\n",
       "      <th>3</th>\n",
       "      <td>26.0</td>\n",
       "      <td>0.0</td>\n",
       "      <td>0.0</td>\n",
       "      <td>0.0</td>\n",
       "      <td>0.0</td>\n",
       "      <td>0.0</td>\n",
       "      <td>0.0</td>\n",
       "      <td>0.0</td>\n",
       "      <td>0.0</td>\n",
       "      <td>1.0</td>\n",
       "    </tr>\n",
       "    <tr>\n",
       "      <th>4</th>\n",
       "      <td>9.0</td>\n",
       "      <td>0.0</td>\n",
       "      <td>0.0</td>\n",
       "      <td>0.0</td>\n",
       "      <td>0.0</td>\n",
       "      <td>0.0</td>\n",
       "      <td>1.0</td>\n",
       "      <td>0.0</td>\n",
       "      <td>0.0</td>\n",
       "      <td>0.0</td>\n",
       "    </tr>\n",
       "  </tbody>\n",
       "</table>\n",
       "</div>"
      ],
      "text/plain": [
       "   price  short_summary_ Drizzle   short_summary_ Foggy   \\\n",
       "0    5.0                      0.0                    0.0   \n",
       "1   11.0                      0.0                    0.0   \n",
       "2    7.0                      0.0                    0.0   \n",
       "3   26.0                      0.0                    0.0   \n",
       "4    9.0                      0.0                    0.0   \n",
       "\n",
       "   short_summary_ Light Rain   short_summary_ Mostly Cloudy   \\\n",
       "0                         0.0                            1.0   \n",
       "1                         0.0                            0.0   \n",
       "2                         0.0                            0.0   \n",
       "3                         0.0                            0.0   \n",
       "4                         0.0                            0.0   \n",
       "\n",
       "   short_summary_ Overcast   short_summary_ Partly Cloudy   \\\n",
       "0                       0.0                            0.0   \n",
       "1                       0.0                            0.0   \n",
       "2                       0.0                            0.0   \n",
       "3                       0.0                            0.0   \n",
       "4                       0.0                            1.0   \n",
       "\n",
       "   short_summary_ Possible Drizzle   short_summary_ Rain   \\\n",
       "0                               0.0                   0.0   \n",
       "1                               0.0                   1.0   \n",
       "2                               0.0                   0.0   \n",
       "3                               0.0                   0.0   \n",
       "4                               0.0                   0.0   \n",
       "\n",
       "   short_summary_ Clear   \n",
       "0                    0.0  \n",
       "1                    0.0  \n",
       "2                    1.0  \n",
       "3                    1.0  \n",
       "4                    0.0  "
      ]
     },
     "execution_count": 36,
     "metadata": {},
     "output_type": "execute_result"
    }
   ],
   "source": [
    "summ_cols = ['price','short_summary_ Drizzle ', 'short_summary_ Foggy ',\n",
    "       'short_summary_ Light Rain ', 'short_summary_ Mostly Cloudy ',\n",
    "       'short_summary_ Overcast ', 'short_summary_ Partly Cloudy ',\n",
    "       'short_summary_ Possible Drizzle ', 'short_summary_ Rain ','short_summary_ Clear ']\n",
    "rideshare_new = rideshare[summ_cols]\n",
    "rideshare_new.head()"
   ]
  },
  {
   "cell_type": "code",
   "execution_count": 37,
   "metadata": {
    "ExecuteTime": {
     "end_time": "2023-02-17T20:36:21.156629Z",
     "start_time": "2023-02-17T20:36:20.783337Z"
    },
    "colab": {
     "base_uri": "https://localhost:8080/",
     "height": 439
    },
    "execution": {
     "iopub.execute_input": "2021-07-20T06:47:56.434273Z",
     "iopub.status.busy": "2021-07-20T06:47:56.433669Z",
     "iopub.status.idle": "2021-07-20T06:47:57.749988Z",
     "shell.execute_reply": "2021-07-20T06:47:57.748995Z",
     "shell.execute_reply.started": "2021-07-20T06:47:56.434216Z"
    },
    "id": "4BSkMTbBWRaj",
    "outputId": "3037377a-79ee-4ba5-c538-d45e0c74f00f"
   },
   "outputs": [
    {
     "data": {
      "text/plain": [
       "<AxesSubplot:>"
      ]
     },
     "execution_count": 37,
     "metadata": {},
     "output_type": "execute_result"
    },
    {
     "data": {
      "image/png": "[encoded data removed]",
      "text/plain": [
       "<Figure size 432x288 with 1 Axes>"
      ]
     },
     "metadata": {
      "needs_background": "light"
     },
     "output_type": "display_data"
    }
   ],
   "source": [
    "#plotting relation between correlation and rideshare_new dataframe\n",
    "correlation=rideshare_new.corr()[['price']]\n",
    "price_corr=correlation[(correlation['price']>0.0001)|(correlation['price']<-0.0001)] #OR\n",
    "price_corr.plot.bar() "
   ]
  },
  {
   "cell_type": "markdown",
   "metadata": {
    "id": "-UbWyXMtWRaj"
   },
   "source": [
    "### Summary has no impact on Price, so removing them from data frame"
   ]
  },
  {
   "cell_type": "code",
   "execution_count": 38,
   "metadata": {
    "ExecuteTime": {
     "end_time": "2023-02-17T20:36:21.220462Z",
     "start_time": "2023-02-17T20:36:21.157627Z"
    },
    "colab": {
     "base_uri": "https://localhost:8080/",
     "height": 369
    },
    "execution": {
     "iopub.execute_input": "2021-07-20T06:47:57.752029Z",
     "iopub.status.busy": "2021-07-20T06:47:57.751453Z",
     "iopub.status.idle": "2021-07-20T06:47:57.837378Z",
     "shell.execute_reply": "2021-07-20T06:47:57.836405Z",
     "shell.execute_reply.started": "2021-07-20T06:47:57.751982Z"
    },
    "id": "3D-J5ke8WRaj",
    "outputId": "44863aeb-24cd-4e21-b791-b112bc6b856c"
   },
   "outputs": [
    {
     "name": "stdout",
     "output_type": "stream",
     "text": [
      "(637976, 27)\n"
     ]
    },
    {
     "data": {
      "text/html": [
       "<div>\n",
       "<style scoped>\n",
       "    .dataframe tbody tr th:only-of-type {\n",
       "        vertical-align: middle;\n",
       "    }\n",
       "\n",
       "    .dataframe tbody tr th {\n",
       "        vertical-align: top;\n",
       "    }\n",
       "\n",
       "    .dataframe thead th {\n",
       "        text-align: right;\n",
       "    }\n",
       "</style>\n",
       "<table border=\"1\" class=\"dataframe\">\n",
       "  <thead>\n",
       "    <tr style=\"text-align: right;\">\n",
       "      <th></th>\n",
       "      <th>hour</th>\n",
       "      <th>day</th>\n",
       "      <th>month</th>\n",
       "      <th>price</th>\n",
       "      <th>distance</th>\n",
       "      <th>surge_multiplier</th>\n",
       "      <th>cab_type_Lyft</th>\n",
       "      <th>cab_type_Uber</th>\n",
       "      <th>name_Black</th>\n",
       "      <th>name_Black SUV</th>\n",
       "      <th>...</th>\n",
       "      <th>name_UberX</th>\n",
       "      <th>name_UberXL</th>\n",
       "      <th>name_WAV</th>\n",
       "      <th>icon_ clear-day</th>\n",
       "      <th>icon_ clear-night</th>\n",
       "      <th>icon_ cloudy</th>\n",
       "      <th>icon_ fog</th>\n",
       "      <th>icon_ partly-cloudy-day</th>\n",
       "      <th>icon_ partly-cloudy-night</th>\n",
       "      <th>icon_ rain</th>\n",
       "    </tr>\n",
       "  </thead>\n",
       "  <tbody>\n",
       "    <tr>\n",
       "      <th>0</th>\n",
       "      <td>9</td>\n",
       "      <td>16</td>\n",
       "      <td>12</td>\n",
       "      <td>5.0</td>\n",
       "      <td>0.44</td>\n",
       "      <td>1.0</td>\n",
       "      <td>1.0</td>\n",
       "      <td>0.0</td>\n",
       "      <td>0.0</td>\n",
       "      <td>0.0</td>\n",
       "      <td>...</td>\n",
       "      <td>0.0</td>\n",
       "      <td>0.0</td>\n",
       "      <td>0.0</td>\n",
       "      <td>0.0</td>\n",
       "      <td>0.0</td>\n",
       "      <td>0.0</td>\n",
       "      <td>0.0</td>\n",
       "      <td>0.0</td>\n",
       "      <td>1.0</td>\n",
       "      <td>0.0</td>\n",
       "    </tr>\n",
       "    <tr>\n",
       "      <th>1</th>\n",
       "      <td>2</td>\n",
       "      <td>27</td>\n",
       "      <td>11</td>\n",
       "      <td>11.0</td>\n",
       "      <td>0.44</td>\n",
       "      <td>1.0</td>\n",
       "      <td>1.0</td>\n",
       "      <td>0.0</td>\n",
       "      <td>0.0</td>\n",
       "      <td>0.0</td>\n",
       "      <td>...</td>\n",
       "      <td>0.0</td>\n",
       "      <td>0.0</td>\n",
       "      <td>0.0</td>\n",
       "      <td>0.0</td>\n",
       "      <td>0.0</td>\n",
       "      <td>0.0</td>\n",
       "      <td>0.0</td>\n",
       "      <td>0.0</td>\n",
       "      <td>0.0</td>\n",
       "      <td>1.0</td>\n",
       "    </tr>\n",
       "    <tr>\n",
       "      <th>2</th>\n",
       "      <td>1</td>\n",
       "      <td>28</td>\n",
       "      <td>11</td>\n",
       "      <td>7.0</td>\n",
       "      <td>0.44</td>\n",
       "      <td>1.0</td>\n",
       "      <td>1.0</td>\n",
       "      <td>0.0</td>\n",
       "      <td>0.0</td>\n",
       "      <td>0.0</td>\n",
       "      <td>...</td>\n",
       "      <td>0.0</td>\n",
       "      <td>0.0</td>\n",
       "      <td>0.0</td>\n",
       "      <td>0.0</td>\n",
       "      <td>1.0</td>\n",
       "      <td>0.0</td>\n",
       "      <td>0.0</td>\n",
       "      <td>0.0</td>\n",
       "      <td>0.0</td>\n",
       "      <td>0.0</td>\n",
       "    </tr>\n",
       "    <tr>\n",
       "      <th>3</th>\n",
       "      <td>4</td>\n",
       "      <td>30</td>\n",
       "      <td>11</td>\n",
       "      <td>26.0</td>\n",
       "      <td>0.44</td>\n",
       "      <td>1.0</td>\n",
       "      <td>1.0</td>\n",
       "      <td>0.0</td>\n",
       "      <td>0.0</td>\n",
       "      <td>0.0</td>\n",
       "      <td>...</td>\n",
       "      <td>0.0</td>\n",
       "      <td>0.0</td>\n",
       "      <td>0.0</td>\n",
       "      <td>0.0</td>\n",
       "      <td>1.0</td>\n",
       "      <td>0.0</td>\n",
       "      <td>0.0</td>\n",
       "      <td>0.0</td>\n",
       "      <td>0.0</td>\n",
       "      <td>0.0</td>\n",
       "    </tr>\n",
       "    <tr>\n",
       "      <th>4</th>\n",
       "      <td>3</td>\n",
       "      <td>29</td>\n",
       "      <td>11</td>\n",
       "      <td>9.0</td>\n",
       "      <td>0.44</td>\n",
       "      <td>1.0</td>\n",
       "      <td>1.0</td>\n",
       "      <td>0.0</td>\n",
       "      <td>0.0</td>\n",
       "      <td>0.0</td>\n",
       "      <td>...</td>\n",
       "      <td>0.0</td>\n",
       "      <td>0.0</td>\n",
       "      <td>0.0</td>\n",
       "      <td>0.0</td>\n",
       "      <td>0.0</td>\n",
       "      <td>0.0</td>\n",
       "      <td>0.0</td>\n",
       "      <td>0.0</td>\n",
       "      <td>1.0</td>\n",
       "      <td>0.0</td>\n",
       "    </tr>\n",
       "  </tbody>\n",
       "</table>\n",
       "<p>5 rows × 27 columns</p>\n",
       "</div>"
      ],
      "text/plain": [
       "   hour  day  month  price  distance  surge_multiplier  cab_type_Lyft  \\\n",
       "0     9   16     12    5.0      0.44               1.0            1.0   \n",
       "1     2   27     11   11.0      0.44               1.0            1.0   \n",
       "2     1   28     11    7.0      0.44               1.0            1.0   \n",
       "3     4   30     11   26.0      0.44               1.0            1.0   \n",
       "4     3   29     11    9.0      0.44               1.0            1.0   \n",
       "\n",
       "   cab_type_Uber  name_Black  name_Black SUV  ...  name_UberX  name_UberXL  \\\n",
       "0            0.0         0.0             0.0  ...         0.0          0.0   \n",
       "1            0.0         0.0             0.0  ...         0.0          0.0   \n",
       "2            0.0         0.0             0.0  ...         0.0          0.0   \n",
       "3            0.0         0.0             0.0  ...         0.0          0.0   \n",
       "4            0.0         0.0             0.0  ...         0.0          0.0   \n",
       "\n",
       "   name_WAV  icon_ clear-day   icon_ clear-night   icon_ cloudy   icon_ fog   \\\n",
       "0       0.0               0.0                 0.0            0.0         0.0   \n",
       "1       0.0               0.0                 0.0            0.0         0.0   \n",
       "2       0.0               0.0                 1.0            0.0         0.0   \n",
       "3       0.0               0.0                 1.0            0.0         0.0   \n",
       "4       0.0               0.0                 0.0            0.0         0.0   \n",
       "\n",
       "   icon_ partly-cloudy-day   icon_ partly-cloudy-night   icon_ rain   \n",
       "0                       0.0                         1.0          0.0  \n",
       "1                       0.0                         0.0          1.0  \n",
       "2                       0.0                         0.0          0.0  \n",
       "3                       0.0                         0.0          0.0  \n",
       "4                       0.0                         1.0          0.0  \n",
       "\n",
       "[5 rows x 27 columns]"
      ]
     },
     "execution_count": 38,
     "metadata": {},
     "output_type": "execute_result"
    }
   ],
   "source": [
    "rideshare = rideshare.drop(summ_cols[1:],axis=1)\n",
    "print(rideshare.shape)\n",
    "rideshare.head()"
   ]
  },
  {
   "cell_type": "markdown",
   "metadata": {
    "id": "GYqDNRHcWRak"
   },
   "source": [
    "## Analyzing ICON Columns"
   ]
  },
  {
   "cell_type": "code",
   "execution_count": 39,
   "metadata": {
    "ExecuteTime": {
     "end_time": "2023-02-17T20:36:21.265852Z",
     "start_time": "2023-02-17T20:36:21.222456Z"
    },
    "colab": {
     "base_uri": "https://localhost:8080/",
     "height": 206
    },
    "execution": {
     "iopub.execute_input": "2021-07-20T06:47:57.83896Z",
     "iopub.status.busy": "2021-07-20T06:47:57.83865Z",
     "iopub.status.idle": "2021-07-20T06:47:57.874951Z",
     "shell.execute_reply": "2021-07-20T06:47:57.8743Z",
     "shell.execute_reply.started": "2021-07-20T06:47:57.838929Z"
    },
    "id": "NLpaqmQLWRak",
    "outputId": "0edcfc4e-ce24-4f61-c00f-32bb2cb0f0c6"
   },
   "outputs": [
    {
     "data": {
      "text/html": [
       "<div>\n",
       "<style scoped>\n",
       "    .dataframe tbody tr th:only-of-type {\n",
       "        vertical-align: middle;\n",
       "    }\n",
       "\n",
       "    .dataframe tbody tr th {\n",
       "        vertical-align: top;\n",
       "    }\n",
       "\n",
       "    .dataframe thead th {\n",
       "        text-align: right;\n",
       "    }\n",
       "</style>\n",
       "<table border=\"1\" class=\"dataframe\">\n",
       "  <thead>\n",
       "    <tr style=\"text-align: right;\">\n",
       "      <th></th>\n",
       "      <th>price</th>\n",
       "      <th>icon_ clear-day</th>\n",
       "      <th>icon_ clear-night</th>\n",
       "      <th>icon_ cloudy</th>\n",
       "      <th>icon_ fog</th>\n",
       "      <th>icon_ partly-cloudy-day</th>\n",
       "      <th>icon_ partly-cloudy-night</th>\n",
       "      <th>icon_ rain</th>\n",
       "    </tr>\n",
       "  </thead>\n",
       "  <tbody>\n",
       "    <tr>\n",
       "      <th>0</th>\n",
       "      <td>5.0</td>\n",
       "      <td>0.0</td>\n",
       "      <td>0.0</td>\n",
       "      <td>0.0</td>\n",
       "      <td>0.0</td>\n",
       "      <td>0.0</td>\n",
       "      <td>1.0</td>\n",
       "      <td>0.0</td>\n",
       "    </tr>\n",
       "    <tr>\n",
       "      <th>1</th>\n",
       "      <td>11.0</td>\n",
       "      <td>0.0</td>\n",
       "      <td>0.0</td>\n",
       "      <td>0.0</td>\n",
       "      <td>0.0</td>\n",
       "      <td>0.0</td>\n",
       "      <td>0.0</td>\n",
       "      <td>1.0</td>\n",
       "    </tr>\n",
       "    <tr>\n",
       "      <th>2</th>\n",
       "      <td>7.0</td>\n",
       "      <td>0.0</td>\n",
       "      <td>1.0</td>\n",
       "      <td>0.0</td>\n",
       "      <td>0.0</td>\n",
       "      <td>0.0</td>\n",
       "      <td>0.0</td>\n",
       "      <td>0.0</td>\n",
       "    </tr>\n",
       "    <tr>\n",
       "      <th>3</th>\n",
       "      <td>26.0</td>\n",
       "      <td>0.0</td>\n",
       "      <td>1.0</td>\n",
       "      <td>0.0</td>\n",
       "      <td>0.0</td>\n",
       "      <td>0.0</td>\n",
       "      <td>0.0</td>\n",
       "      <td>0.0</td>\n",
       "    </tr>\n",
       "    <tr>\n",
       "      <th>4</th>\n",
       "      <td>9.0</td>\n",
       "      <td>0.0</td>\n",
       "      <td>0.0</td>\n",
       "      <td>0.0</td>\n",
       "      <td>0.0</td>\n",
       "      <td>0.0</td>\n",
       "      <td>1.0</td>\n",
       "      <td>0.0</td>\n",
       "    </tr>\n",
       "  </tbody>\n",
       "</table>\n",
       "</div>"
      ],
      "text/plain": [
       "   price  icon_ clear-day   icon_ clear-night   icon_ cloudy   icon_ fog   \\\n",
       "0    5.0               0.0                 0.0            0.0         0.0   \n",
       "1   11.0               0.0                 0.0            0.0         0.0   \n",
       "2    7.0               0.0                 1.0            0.0         0.0   \n",
       "3   26.0               0.0                 1.0            0.0         0.0   \n",
       "4    9.0               0.0                 0.0            0.0         0.0   \n",
       "\n",
       "   icon_ partly-cloudy-day   icon_ partly-cloudy-night   icon_ rain   \n",
       "0                       0.0                         1.0          0.0  \n",
       "1                       0.0                         0.0          1.0  \n",
       "2                       0.0                         0.0          0.0  \n",
       "3                       0.0                         0.0          0.0  \n",
       "4                       0.0                         1.0          0.0  "
      ]
     },
     "execution_count": 39,
     "metadata": {},
     "output_type": "execute_result"
    }
   ],
   "source": [
    "ico_cols = ['price','icon_ clear-day ', 'icon_ clear-night ', 'icon_ cloudy ', 'icon_ fog ',\n",
    "       'icon_ partly-cloudy-day ', 'icon_ partly-cloudy-night ',\n",
    "       'icon_ rain ']\n",
    "rideshare_new = rideshare[ico_cols]\n",
    "rideshare_new.head()"
   ]
  },
  {
   "cell_type": "code",
   "execution_count": 40,
   "metadata": {
    "ExecuteTime": {
     "end_time": "2023-02-17T20:36:21.516217Z",
     "start_time": "2023-02-17T20:36:21.267848Z"
    },
    "colab": {
     "base_uri": "https://localhost:8080/",
     "height": 399
    },
    "execution": {
     "iopub.execute_input": "2021-07-20T06:47:57.876426Z",
     "iopub.status.busy": "2021-07-20T06:47:57.876102Z",
     "iopub.status.idle": "2021-07-20T06:47:58.802628Z",
     "shell.execute_reply": "2021-07-20T06:47:58.801776Z",
     "shell.execute_reply.started": "2021-07-20T06:47:57.876385Z"
    },
    "id": "INzq8it8WRak",
    "outputId": "02eae109-419f-4ddb-cc8a-66ec301b090c"
   },
   "outputs": [
    {
     "data": {
      "text/plain": [
       "<AxesSubplot:>"
      ]
     },
     "execution_count": 40,
     "metadata": {},
     "output_type": "execute_result"
    },
    {
     "data": {
      "image/png": "[encoded data removed]",
      "text/plain": [
       "<Figure size 432x288 with 1 Axes>"
      ]
     },
     "metadata": {
      "needs_background": "light"
     },
     "output_type": "display_data"
    }
   ],
   "source": [
    "#plotting relation between correlation and rideshare_new dataframe\n",
    "correlation=rideshare_new.corr()[['price']]\n",
    "price_corr=correlation[(correlation['price']>0.0001)|(correlation['price']<-0.0001)] #OR\n",
    "price_corr.plot.bar() "
   ]
  },
  {
   "cell_type": "markdown",
   "metadata": {
    "id": "Qrideshare_PFd7WRak"
   },
   "source": [
    "Deleting all ICON related cols as it does not have any effect with Price"
   ]
  },
  {
   "cell_type": "code",
   "execution_count": 41,
   "metadata": {
    "ExecuteTime": {
     "end_time": "2023-02-17T20:36:21.577566Z",
     "start_time": "2023-02-17T20:36:21.517214Z"
    },
    "colab": {
     "base_uri": "https://localhost:8080/",
     "height": 334
    },
    "id": "Rutp5__wZMzy",
    "outputId": "7fbf1rideshared-bc47-4930-a2dd-cb280d84e1b4"
   },
   "outputs": [
    {
     "name": "stdout",
     "output_type": "stream",
     "text": [
      "(637976, 20)\n"
     ]
    },
    {
     "data": {
      "text/html": [
       "<div>\n",
       "<style scoped>\n",
       "    .dataframe tbody tr th:only-of-type {\n",
       "        vertical-align: middle;\n",
       "    }\n",
       "\n",
       "    .dataframe tbody tr th {\n",
       "        vertical-align: top;\n",
       "    }\n",
       "\n",
       "    .dataframe thead th {\n",
       "        text-align: right;\n",
       "    }\n",
       "</style>\n",
       "<table border=\"1\" class=\"dataframe\">\n",
       "  <thead>\n",
       "    <tr style=\"text-align: right;\">\n",
       "      <th></th>\n",
       "      <th>hour</th>\n",
       "      <th>day</th>\n",
       "      <th>month</th>\n",
       "      <th>price</th>\n",
       "      <th>distance</th>\n",
       "      <th>surge_multiplier</th>\n",
       "      <th>cab_type_Lyft</th>\n",
       "      <th>cab_type_Uber</th>\n",
       "      <th>name_Black</th>\n",
       "      <th>name_Black SUV</th>\n",
       "      <th>name_Lux</th>\n",
       "      <th>name_Lux Black</th>\n",
       "      <th>name_Lux Black XL</th>\n",
       "      <th>name_Lyft</th>\n",
       "      <th>name_Lyft XL</th>\n",
       "      <th>name_Shared</th>\n",
       "      <th>name_UberPool</th>\n",
       "      <th>name_UberX</th>\n",
       "      <th>name_UberXL</th>\n",
       "      <th>name_WAV</th>\n",
       "    </tr>\n",
       "  </thead>\n",
       "  <tbody>\n",
       "    <tr>\n",
       "      <th>0</th>\n",
       "      <td>9</td>\n",
       "      <td>16</td>\n",
       "      <td>12</td>\n",
       "      <td>5.0</td>\n",
       "      <td>0.44</td>\n",
       "      <td>1.0</td>\n",
       "      <td>1.0</td>\n",
       "      <td>0.0</td>\n",
       "      <td>0.0</td>\n",
       "      <td>0.0</td>\n",
       "      <td>0.0</td>\n",
       "      <td>0.0</td>\n",
       "      <td>0.0</td>\n",
       "      <td>0.0</td>\n",
       "      <td>0.0</td>\n",
       "      <td>1.0</td>\n",
       "      <td>0.0</td>\n",
       "      <td>0.0</td>\n",
       "      <td>0.0</td>\n",
       "      <td>0.0</td>\n",
       "    </tr>\n",
       "    <tr>\n",
       "      <th>1</th>\n",
       "      <td>2</td>\n",
       "      <td>27</td>\n",
       "      <td>11</td>\n",
       "      <td>11.0</td>\n",
       "      <td>0.44</td>\n",
       "      <td>1.0</td>\n",
       "      <td>1.0</td>\n",
       "      <td>0.0</td>\n",
       "      <td>0.0</td>\n",
       "      <td>0.0</td>\n",
       "      <td>1.0</td>\n",
       "      <td>0.0</td>\n",
       "      <td>0.0</td>\n",
       "      <td>0.0</td>\n",
       "      <td>0.0</td>\n",
       "      <td>0.0</td>\n",
       "      <td>0.0</td>\n",
       "      <td>0.0</td>\n",
       "      <td>0.0</td>\n",
       "      <td>0.0</td>\n",
       "    </tr>\n",
       "    <tr>\n",
       "      <th>2</th>\n",
       "      <td>1</td>\n",
       "      <td>28</td>\n",
       "      <td>11</td>\n",
       "      <td>7.0</td>\n",
       "      <td>0.44</td>\n",
       "      <td>1.0</td>\n",
       "      <td>1.0</td>\n",
       "      <td>0.0</td>\n",
       "      <td>0.0</td>\n",
       "      <td>0.0</td>\n",
       "      <td>0.0</td>\n",
       "      <td>0.0</td>\n",
       "      <td>0.0</td>\n",
       "      <td>1.0</td>\n",
       "      <td>0.0</td>\n",
       "      <td>0.0</td>\n",
       "      <td>0.0</td>\n",
       "      <td>0.0</td>\n",
       "      <td>0.0</td>\n",
       "      <td>0.0</td>\n",
       "    </tr>\n",
       "    <tr>\n",
       "      <th>3</th>\n",
       "      <td>4</td>\n",
       "      <td>30</td>\n",
       "      <td>11</td>\n",
       "      <td>26.0</td>\n",
       "      <td>0.44</td>\n",
       "      <td>1.0</td>\n",
       "      <td>1.0</td>\n",
       "      <td>0.0</td>\n",
       "      <td>0.0</td>\n",
       "      <td>0.0</td>\n",
       "      <td>0.0</td>\n",
       "      <td>0.0</td>\n",
       "      <td>1.0</td>\n",
       "      <td>0.0</td>\n",
       "      <td>0.0</td>\n",
       "      <td>0.0</td>\n",
       "      <td>0.0</td>\n",
       "      <td>0.0</td>\n",
       "      <td>0.0</td>\n",
       "      <td>0.0</td>\n",
       "    </tr>\n",
       "    <tr>\n",
       "      <th>4</th>\n",
       "      <td>3</td>\n",
       "      <td>29</td>\n",
       "      <td>11</td>\n",
       "      <td>9.0</td>\n",
       "      <td>0.44</td>\n",
       "      <td>1.0</td>\n",
       "      <td>1.0</td>\n",
       "      <td>0.0</td>\n",
       "      <td>0.0</td>\n",
       "      <td>0.0</td>\n",
       "      <td>0.0</td>\n",
       "      <td>0.0</td>\n",
       "      <td>0.0</td>\n",
       "      <td>0.0</td>\n",
       "      <td>1.0</td>\n",
       "      <td>0.0</td>\n",
       "      <td>0.0</td>\n",
       "      <td>0.0</td>\n",
       "      <td>0.0</td>\n",
       "      <td>0.0</td>\n",
       "    </tr>\n",
       "  </tbody>\n",
       "</table>\n",
       "</div>"
      ],
      "text/plain": [
       "   hour  day  month  price  distance  surge_multiplier  cab_type_Lyft  \\\n",
       "0     9   16     12    5.0      0.44               1.0            1.0   \n",
       "1     2   27     11   11.0      0.44               1.0            1.0   \n",
       "2     1   28     11    7.0      0.44               1.0            1.0   \n",
       "3     4   30     11   26.0      0.44               1.0            1.0   \n",
       "4     3   29     11    9.0      0.44               1.0            1.0   \n",
       "\n",
       "   cab_type_Uber  name_Black  name_Black SUV  name_Lux  name_Lux Black  \\\n",
       "0            0.0         0.0             0.0       0.0             0.0   \n",
       "1            0.0         0.0             0.0       1.0             0.0   \n",
       "2            0.0         0.0             0.0       0.0             0.0   \n",
       "3            0.0         0.0             0.0       0.0             0.0   \n",
       "4            0.0         0.0             0.0       0.0             0.0   \n",
       "\n",
       "   name_Lux Black XL  name_Lyft  name_Lyft XL  name_Shared  name_UberPool  \\\n",
       "0                0.0        0.0           0.0          1.0            0.0   \n",
       "1                0.0        0.0           0.0          0.0            0.0   \n",
       "2                0.0        1.0           0.0          0.0            0.0   \n",
       "3                1.0        0.0           0.0          0.0            0.0   \n",
       "4                0.0        0.0           1.0          0.0            0.0   \n",
       "\n",
       "   name_UberX  name_UberXL  name_WAV  \n",
       "0         0.0          0.0       0.0  \n",
       "1         0.0          0.0       0.0  \n",
       "2         0.0          0.0       0.0  \n",
       "3         0.0          0.0       0.0  \n",
       "4         0.0          0.0       0.0  "
      ]
     },
     "execution_count": 41,
     "metadata": {},
     "output_type": "execute_result"
    }
   ],
   "source": [
    "rideshare = rideshare.drop(ico_cols[1:],axis=1)\n",
    "print(rideshare.shape)\n",
    "rideshare.head()"
   ]
  },
  {
   "cell_type": "markdown",
   "metadata": {
    "id": "TOAZpphJZMzz"
   },
   "source": [
    "## Analyzing name cols with price"
   ]
  },
  {
   "cell_type": "code",
   "execution_count": 42,
   "metadata": {
    "ExecuteTime": {
     "end_time": "2023-02-17T20:36:21.623446Z",
     "start_time": "2023-02-17T20:36:21.578571Z"
    },
    "colab": {
     "base_uri": "https://localhost:8080/",
     "height": 268
    },
    "execution": {
     "iopub.execute_input": "2021-07-20T06:47:58.803953Z",
     "iopub.status.busy": "2021-07-20T06:47:58.803702Z",
     "iopub.status.idle": "2021-07-20T06:47:58.892885Z",
     "shell.execute_reply": "2021-07-20T06:47:58.891859Z",
     "shell.execute_reply.started": "2021-07-20T06:47:58.803928Z"
    },
    "id": "yYIezF_VWRak",
    "outputId": "56fc668e-d415-4858-e21c-b7f9f21828d6",
    "scrolled": true
   },
   "outputs": [
    {
     "data": {
      "text/html": [
       "<div>\n",
       "<style scoped>\n",
       "    .dataframe tbody tr th:only-of-type {\n",
       "        vertical-align: middle;\n",
       "    }\n",
       "\n",
       "    .dataframe tbody tr th {\n",
       "        vertical-align: top;\n",
       "    }\n",
       "\n",
       "    .dataframe thead th {\n",
       "        text-align: right;\n",
       "    }\n",
       "</style>\n",
       "<table border=\"1\" class=\"dataframe\">\n",
       "  <thead>\n",
       "    <tr style=\"text-align: right;\">\n",
       "      <th></th>\n",
       "      <th>price</th>\n",
       "      <th>name_Black</th>\n",
       "      <th>name_Black SUV</th>\n",
       "      <th>name_Lux</th>\n",
       "      <th>name_Lux Black</th>\n",
       "      <th>name_Lux Black XL</th>\n",
       "      <th>name_Lyft</th>\n",
       "      <th>name_Lyft XL</th>\n",
       "      <th>name_Shared</th>\n",
       "      <th>name_UberPool</th>\n",
       "      <th>name_UberX</th>\n",
       "      <th>name_UberXL</th>\n",
       "      <th>name_WAV</th>\n",
       "    </tr>\n",
       "  </thead>\n",
       "  <tbody>\n",
       "    <tr>\n",
       "      <th>0</th>\n",
       "      <td>5.0</td>\n",
       "      <td>0.0</td>\n",
       "      <td>0.0</td>\n",
       "      <td>0.0</td>\n",
       "      <td>0.0</td>\n",
       "      <td>0.0</td>\n",
       "      <td>0.0</td>\n",
       "      <td>0.0</td>\n",
       "      <td>1.0</td>\n",
       "      <td>0.0</td>\n",
       "      <td>0.0</td>\n",
       "      <td>0.0</td>\n",
       "      <td>0.0</td>\n",
       "    </tr>\n",
       "    <tr>\n",
       "      <th>1</th>\n",
       "      <td>11.0</td>\n",
       "      <td>0.0</td>\n",
       "      <td>0.0</td>\n",
       "      <td>1.0</td>\n",
       "      <td>0.0</td>\n",
       "      <td>0.0</td>\n",
       "      <td>0.0</td>\n",
       "      <td>0.0</td>\n",
       "      <td>0.0</td>\n",
       "      <td>0.0</td>\n",
       "      <td>0.0</td>\n",
       "      <td>0.0</td>\n",
       "      <td>0.0</td>\n",
       "    </tr>\n",
       "    <tr>\n",
       "      <th>2</th>\n",
       "      <td>7.0</td>\n",
       "      <td>0.0</td>\n",
       "      <td>0.0</td>\n",
       "      <td>0.0</td>\n",
       "      <td>0.0</td>\n",
       "      <td>0.0</td>\n",
       "      <td>1.0</td>\n",
       "      <td>0.0</td>\n",
       "      <td>0.0</td>\n",
       "      <td>0.0</td>\n",
       "      <td>0.0</td>\n",
       "      <td>0.0</td>\n",
       "      <td>0.0</td>\n",
       "    </tr>\n",
       "    <tr>\n",
       "      <th>3</th>\n",
       "      <td>26.0</td>\n",
       "      <td>0.0</td>\n",
       "      <td>0.0</td>\n",
       "      <td>0.0</td>\n",
       "      <td>0.0</td>\n",
       "      <td>1.0</td>\n",
       "      <td>0.0</td>\n",
       "      <td>0.0</td>\n",
       "      <td>0.0</td>\n",
       "      <td>0.0</td>\n",
       "      <td>0.0</td>\n",
       "      <td>0.0</td>\n",
       "      <td>0.0</td>\n",
       "    </tr>\n",
       "    <tr>\n",
       "      <th>4</th>\n",
       "      <td>9.0</td>\n",
       "      <td>0.0</td>\n",
       "      <td>0.0</td>\n",
       "      <td>0.0</td>\n",
       "      <td>0.0</td>\n",
       "      <td>0.0</td>\n",
       "      <td>0.0</td>\n",
       "      <td>1.0</td>\n",
       "      <td>0.0</td>\n",
       "      <td>0.0</td>\n",
       "      <td>0.0</td>\n",
       "      <td>0.0</td>\n",
       "      <td>0.0</td>\n",
       "    </tr>\n",
       "  </tbody>\n",
       "</table>\n",
       "</div>"
      ],
      "text/plain": [
       "   price  name_Black  name_Black SUV  name_Lux  name_Lux Black  \\\n",
       "0    5.0         0.0             0.0       0.0             0.0   \n",
       "1   11.0         0.0             0.0       1.0             0.0   \n",
       "2    7.0         0.0             0.0       0.0             0.0   \n",
       "3   26.0         0.0             0.0       0.0             0.0   \n",
       "4    9.0         0.0             0.0       0.0             0.0   \n",
       "\n",
       "   name_Lux Black XL  name_Lyft  name_Lyft XL  name_Shared  name_UberPool  \\\n",
       "0                0.0        0.0           0.0          1.0            0.0   \n",
       "1                0.0        0.0           0.0          0.0            0.0   \n",
       "2                0.0        1.0           0.0          0.0            0.0   \n",
       "3                1.0        0.0           0.0          0.0            0.0   \n",
       "4                0.0        0.0           1.0          0.0            0.0   \n",
       "\n",
       "   name_UberX  name_UberXL  name_WAV  \n",
       "0         0.0          0.0       0.0  \n",
       "1         0.0          0.0       0.0  \n",
       "2         0.0          0.0       0.0  \n",
       "3         0.0          0.0       0.0  \n",
       "4         0.0          0.0       0.0  "
      ]
     },
     "execution_count": 42,
     "metadata": {},
     "output_type": "execute_result"
    }
   ],
   "source": [
    "nme_cols = ['price','name_Black', 'name_Black SUV',\n",
    "       'name_Lux', 'name_Lux Black', 'name_Lux Black XL', 'name_Lyft',\n",
    "       'name_Lyft XL', 'name_Shared', 'name_UberPool',\n",
    "       'name_UberX', 'name_UberXL', 'name_WAV']\n",
    "rideshare_new = rideshare[nme_cols]\n",
    "rideshare_new.head()"
   ]
  },
  {
   "cell_type": "code",
   "execution_count": 43,
   "metadata": {
    "ExecuteTime": {
     "end_time": "2023-02-17T20:36:22.062077Z",
     "start_time": "2023-02-17T20:36:21.624442Z"
    },
    "colab": {
     "base_uri": "https://localhost:8080/",
     "height": 369
    },
    "execution": {
     "iopub.execute_input": "2021-07-20T06:47:59.298019Z",
     "iopub.status.busy": "2021-07-20T06:47:59.297588Z",
     "iopub.status.idle": "2021-07-20T06:48:01.351715Z",
     "shell.execute_reply": "2021-07-20T06:48:01.350749Z",
     "shell.execute_reply.started": "2021-07-20T06:47:59.297975Z"
    },
    "id": "bSoUzLLsWRal",
    "outputId": "f4b96a84-223b-4c44-af48-3c7f20b5f456",
    "scrolled": false
   },
   "outputs": [
    {
     "data": {
      "text/plain": [
       "<AxesSubplot:>"
      ]
     },
     "execution_count": 43,
     "metadata": {},
     "output_type": "execute_result"
    },
    {
     "data": {
      "image/png": "[encoded data removed]",
      "text/plain": [
       "<Figure size 432x288 with 1 Axes>"
      ]
     },
     "metadata": {
      "needs_background": "light"
     },
     "output_type": "display_data"
    }
   ],
   "source": [
    "#plotting relation between correlation and rideshare_new dataframe\n",
    "correlation=rideshare_new.corr()[['price']]\n",
    "price_corr=correlation[(correlation['price']>0.0001)|(correlation['price']<-0.0001)] #OR\n",
    "price_corr.plot.bar() "
   ]
  },
  {
   "cell_type": "markdown",
   "metadata": {
    "id": "NVwNjP-2WRal"
   },
   "source": [
    "Some values of names do have effect on Price value."
   ]
  },
  {
   "cell_type": "code",
   "execution_count": 44,
   "metadata": {
    "ExecuteTime": {
     "end_time": "2023-02-17T20:36:22.077001Z",
     "start_time": "2023-02-17T20:36:22.063034Z"
    }
   },
   "outputs": [
    {
     "data": {
      "text/plain": [
       "Index(['hour', 'day', 'month', 'price', 'distance', 'surge_multiplier',\n",
       "       'cab_type_Lyft', 'cab_type_Uber', 'name_Black', 'name_Black SUV',\n",
       "       'name_Lux', 'name_Lux Black', 'name_Lux Black XL', 'name_Lyft',\n",
       "       'name_Lyft XL', 'name_Shared', 'name_UberPool', 'name_UberX',\n",
       "       'name_UberXL', 'name_WAV'],\n",
       "      dtype='object')"
      ]
     },
     "execution_count": 44,
     "metadata": {},
     "output_type": "execute_result"
    }
   ],
   "source": [
    "rideshare.columns"
   ]
  },
  {
   "cell_type": "markdown",
   "metadata": {
    "id": "T0qm7VmjWRal"
   },
   "source": [
    "### Analyzing remaining columns with Price"
   ]
  },
  {
   "cell_type": "code",
   "execution_count": 45,
   "metadata": {
    "ExecuteTime": {
     "end_time": "2023-02-17T20:36:36.919628Z",
     "start_time": "2023-02-17T20:36:22.077994Z"
    }
   },
   "outputs": [
    {
     "data": {
      "image/png": "[encoded data removed]",
      "text/plain": [
       "<Figure size 432x288 with 1 Axes>"
      ]
     },
     "metadata": {
      "needs_background": "light"
     },
     "output_type": "display_data"
    }
   ],
   "source": [
    "#plotting relartion between price and distance \n",
    "sb.lineplot( x=rideshare['distance'] , y=rideshare['price'])\n",
    "plt.show()"
   ]
  },
  {
   "cell_type": "code",
   "execution_count": 46,
   "metadata": {
    "ExecuteTime": {
     "end_time": "2023-02-17T20:36:36.949620Z",
     "start_time": "2023-02-17T20:36:36.921622Z"
    },
    "colab": {
     "base_uri": "https://localhost:8080/",
     "height": 206
    },
    "execution": {
     "iopub.execute_input": "2021-07-20T06:48:01.353853Z",
     "iopub.status.busy": "2021-07-20T06:48:01.353337Z",
     "iopub.status.idle": "2021-07-20T06:48:01.393663Z",
     "shell.execute_reply": "2021-07-20T06:48:01.392503Z",
     "shell.execute_reply.started": "2021-07-20T06:48:01.353784Z"
    },
    "id": "tkvyZ2RxWRal",
    "outputId": "8e924336-b599-41fb-a1b2-cbe6b300951e"
   },
   "outputs": [
    {
     "data": {
      "text/html": [
       "<div>\n",
       "<style scoped>\n",
       "    .dataframe tbody tr th:only-of-type {\n",
       "        vertical-align: middle;\n",
       "    }\n",
       "\n",
       "    .dataframe tbody tr th {\n",
       "        vertical-align: top;\n",
       "    }\n",
       "\n",
       "    .dataframe thead th {\n",
       "        text-align: right;\n",
       "    }\n",
       "</style>\n",
       "<table border=\"1\" class=\"dataframe\">\n",
       "  <thead>\n",
       "    <tr style=\"text-align: right;\">\n",
       "      <th></th>\n",
       "      <th>price</th>\n",
       "      <th>hour</th>\n",
       "      <th>day</th>\n",
       "      <th>month</th>\n",
       "      <th>distance</th>\n",
       "      <th>surge_multiplier</th>\n",
       "      <th>cab_type_Lyft</th>\n",
       "      <th>cab_type_Uber</th>\n",
       "    </tr>\n",
       "  </thead>\n",
       "  <tbody>\n",
       "    <tr>\n",
       "      <th>0</th>\n",
       "      <td>5.0</td>\n",
       "      <td>9</td>\n",
       "      <td>16</td>\n",
       "      <td>12</td>\n",
       "      <td>0.44</td>\n",
       "      <td>1.0</td>\n",
       "      <td>1.0</td>\n",
       "      <td>0.0</td>\n",
       "    </tr>\n",
       "    <tr>\n",
       "      <th>1</th>\n",
       "      <td>11.0</td>\n",
       "      <td>2</td>\n",
       "      <td>27</td>\n",
       "      <td>11</td>\n",
       "      <td>0.44</td>\n",
       "      <td>1.0</td>\n",
       "      <td>1.0</td>\n",
       "      <td>0.0</td>\n",
       "    </tr>\n",
       "    <tr>\n",
       "      <th>2</th>\n",
       "      <td>7.0</td>\n",
       "      <td>1</td>\n",
       "      <td>28</td>\n",
       "      <td>11</td>\n",
       "      <td>0.44</td>\n",
       "      <td>1.0</td>\n",
       "      <td>1.0</td>\n",
       "      <td>0.0</td>\n",
       "    </tr>\n",
       "    <tr>\n",
       "      <th>3</th>\n",
       "      <td>26.0</td>\n",
       "      <td>4</td>\n",
       "      <td>30</td>\n",
       "      <td>11</td>\n",
       "      <td>0.44</td>\n",
       "      <td>1.0</td>\n",
       "      <td>1.0</td>\n",
       "      <td>0.0</td>\n",
       "    </tr>\n",
       "    <tr>\n",
       "      <th>4</th>\n",
       "      <td>9.0</td>\n",
       "      <td>3</td>\n",
       "      <td>29</td>\n",
       "      <td>11</td>\n",
       "      <td>0.44</td>\n",
       "      <td>1.0</td>\n",
       "      <td>1.0</td>\n",
       "      <td>0.0</td>\n",
       "    </tr>\n",
       "  </tbody>\n",
       "</table>\n",
       "</div>"
      ],
      "text/plain": [
       "   price  hour  day  month  distance  surge_multiplier  cab_type_Lyft  \\\n",
       "0    5.0     9   16     12      0.44               1.0            1.0   \n",
       "1   11.0     2   27     11      0.44               1.0            1.0   \n",
       "2    7.0     1   28     11      0.44               1.0            1.0   \n",
       "3   26.0     4   30     11      0.44               1.0            1.0   \n",
       "4    9.0     3   29     11      0.44               1.0            1.0   \n",
       "\n",
       "   cab_type_Uber  \n",
       "0            0.0  \n",
       "1            0.0  \n",
       "2            0.0  \n",
       "3            0.0  \n",
       "4            0.0  "
      ]
     },
     "execution_count": 46,
     "metadata": {},
     "output_type": "execute_result"
    }
   ],
   "source": [
    "rem_cols =['price','hour', 'day', 'month', 'distance', 'surge_multiplier','cab_type_Lyft','cab_type_Uber']\n",
    "rideshare_new = rideshare[rem_cols]\n",
    "rideshare_new.head()"
   ]
  },
  {
   "cell_type": "code",
   "execution_count": 47,
   "metadata": {
    "ExecuteTime": {
     "end_time": "2023-02-17T20:36:37.183622Z",
     "start_time": "2023-02-17T20:36:36.950618Z"
    },
    "colab": {
     "base_uri": "https://localhost:8080/",
     "height": 353
    },
    "execution": {
     "iopub.execute_input": "2021-07-20T06:48:01.395282Z",
     "iopub.status.busy": "2021-07-20T06:48:01.394966Z",
     "iopub.status.idle": "2021-07-20T06:48:02.247843Z",
     "shell.execute_reply": "2021-07-20T06:48:02.246848Z",
     "shell.execute_reply.started": "2021-07-20T06:48:01.395246Z"
    },
    "id": "FCkcjDZ-WRal",
    "outputId": "0c452867-b8e3-4127-d454-9a6a3b1119b3",
    "scrolled": true
   },
   "outputs": [
    {
     "data": {
      "text/plain": [
       "<AxesSubplot:>"
      ]
     },
     "execution_count": 47,
     "metadata": {},
     "output_type": "execute_result"
    },
    {
     "data": {
      "image/png": "[encoded data removed]",
      "text/plain": [
       "<Figure size 432x288 with 1 Axes>"
      ]
     },
     "metadata": {
      "needs_background": "light"
     },
     "output_type": "display_data"
    }
   ],
   "source": [
    "#plotting relation between correlation and rideshare_new dataframe\n",
    "correlation=rideshare_new.corr()[['price']]\n",
    "price_corr=correlation[(correlation['price']>0.0001)|(correlation['price']<-0.0001)] #OR\n",
    "price_corr.plot.bar() "
   ]
  },
  {
   "cell_type": "markdown",
   "metadata": {
    "id": "-EinT05XWRal"
   },
   "source": [
    "From above figure, month day, hour, but distance and surge_multiplier has good correlation with Price, So we will drop weakly correlated columns"
   ]
  },
  {
   "cell_type": "code",
   "execution_count": 48,
   "metadata": {
    "ExecuteTime": {
     "end_time": "2023-02-17T20:36:37.231447Z",
     "start_time": "2023-02-17T20:36:37.184604Z"
    },
    "colab": {
     "base_uri": "https://localhost:8080/",
     "height": 334
    },
    "execution": {
     "iopub.execute_input": "2021-07-20T06:48:02.249864Z",
     "iopub.status.busy": "2021-07-20T06:48:02.249471Z",
     "iopub.status.idle": "2021-07-20T06:48:02.385954Z",
     "shell.execute_reply": "2021-07-20T06:48:02.384836Z",
     "shell.execute_reply.started": "2021-07-20T06:48:02.249825Z"
    },
    "id": "HVOBympXWRam",
    "outputId": "ff9cb79e-ae4b-4ab1-edaf-abe5565d0190"
   },
   "outputs": [
    {
     "name": "stdout",
     "output_type": "stream",
     "text": [
      "(637976, 17)\n"
     ]
    },
    {
     "data": {
      "text/html": [
       "<div>\n",
       "<style scoped>\n",
       "    .dataframe tbody tr th:only-of-type {\n",
       "        vertical-align: middle;\n",
       "    }\n",
       "\n",
       "    .dataframe tbody tr th {\n",
       "        vertical-align: top;\n",
       "    }\n",
       "\n",
       "    .dataframe thead th {\n",
       "        text-align: right;\n",
       "    }\n",
       "</style>\n",
       "<table border=\"1\" class=\"dataframe\">\n",
       "  <thead>\n",
       "    <tr style=\"text-align: right;\">\n",
       "      <th></th>\n",
       "      <th>price</th>\n",
       "      <th>distance</th>\n",
       "      <th>surge_multiplier</th>\n",
       "      <th>cab_type_Lyft</th>\n",
       "      <th>cab_type_Uber</th>\n",
       "      <th>name_Black</th>\n",
       "      <th>name_Black SUV</th>\n",
       "      <th>name_Lux</th>\n",
       "      <th>name_Lux Black</th>\n",
       "      <th>name_Lux Black XL</th>\n",
       "      <th>name_Lyft</th>\n",
       "      <th>name_Lyft XL</th>\n",
       "      <th>name_Shared</th>\n",
       "      <th>name_UberPool</th>\n",
       "      <th>name_UberX</th>\n",
       "      <th>name_UberXL</th>\n",
       "      <th>name_WAV</th>\n",
       "    </tr>\n",
       "  </thead>\n",
       "  <tbody>\n",
       "    <tr>\n",
       "      <th>0</th>\n",
       "      <td>5.0</td>\n",
       "      <td>0.44</td>\n",
       "      <td>1.0</td>\n",
       "      <td>1.0</td>\n",
       "      <td>0.0</td>\n",
       "      <td>0.0</td>\n",
       "      <td>0.0</td>\n",
       "      <td>0.0</td>\n",
       "      <td>0.0</td>\n",
       "      <td>0.0</td>\n",
       "      <td>0.0</td>\n",
       "      <td>0.0</td>\n",
       "      <td>1.0</td>\n",
       "      <td>0.0</td>\n",
       "      <td>0.0</td>\n",
       "      <td>0.0</td>\n",
       "      <td>0.0</td>\n",
       "    </tr>\n",
       "    <tr>\n",
       "      <th>1</th>\n",
       "      <td>11.0</td>\n",
       "      <td>0.44</td>\n",
       "      <td>1.0</td>\n",
       "      <td>1.0</td>\n",
       "      <td>0.0</td>\n",
       "      <td>0.0</td>\n",
       "      <td>0.0</td>\n",
       "      <td>1.0</td>\n",
       "      <td>0.0</td>\n",
       "      <td>0.0</td>\n",
       "      <td>0.0</td>\n",
       "      <td>0.0</td>\n",
       "      <td>0.0</td>\n",
       "      <td>0.0</td>\n",
       "      <td>0.0</td>\n",
       "      <td>0.0</td>\n",
       "      <td>0.0</td>\n",
       "    </tr>\n",
       "    <tr>\n",
       "      <th>2</th>\n",
       "      <td>7.0</td>\n",
       "      <td>0.44</td>\n",
       "      <td>1.0</td>\n",
       "      <td>1.0</td>\n",
       "      <td>0.0</td>\n",
       "      <td>0.0</td>\n",
       "      <td>0.0</td>\n",
       "      <td>0.0</td>\n",
       "      <td>0.0</td>\n",
       "      <td>0.0</td>\n",
       "      <td>1.0</td>\n",
       "      <td>0.0</td>\n",
       "      <td>0.0</td>\n",
       "      <td>0.0</td>\n",
       "      <td>0.0</td>\n",
       "      <td>0.0</td>\n",
       "      <td>0.0</td>\n",
       "    </tr>\n",
       "    <tr>\n",
       "      <th>3</th>\n",
       "      <td>26.0</td>\n",
       "      <td>0.44</td>\n",
       "      <td>1.0</td>\n",
       "      <td>1.0</td>\n",
       "      <td>0.0</td>\n",
       "      <td>0.0</td>\n",
       "      <td>0.0</td>\n",
       "      <td>0.0</td>\n",
       "      <td>0.0</td>\n",
       "      <td>1.0</td>\n",
       "      <td>0.0</td>\n",
       "      <td>0.0</td>\n",
       "      <td>0.0</td>\n",
       "      <td>0.0</td>\n",
       "      <td>0.0</td>\n",
       "      <td>0.0</td>\n",
       "      <td>0.0</td>\n",
       "    </tr>\n",
       "    <tr>\n",
       "      <th>4</th>\n",
       "      <td>9.0</td>\n",
       "      <td>0.44</td>\n",
       "      <td>1.0</td>\n",
       "      <td>1.0</td>\n",
       "      <td>0.0</td>\n",
       "      <td>0.0</td>\n",
       "      <td>0.0</td>\n",
       "      <td>0.0</td>\n",
       "      <td>0.0</td>\n",
       "      <td>0.0</td>\n",
       "      <td>0.0</td>\n",
       "      <td>1.0</td>\n",
       "      <td>0.0</td>\n",
       "      <td>0.0</td>\n",
       "      <td>0.0</td>\n",
       "      <td>0.0</td>\n",
       "      <td>0.0</td>\n",
       "    </tr>\n",
       "  </tbody>\n",
       "</table>\n",
       "</div>"
      ],
      "text/plain": [
       "   price  distance  surge_multiplier  cab_type_Lyft  cab_type_Uber  \\\n",
       "0    5.0      0.44               1.0            1.0            0.0   \n",
       "1   11.0      0.44               1.0            1.0            0.0   \n",
       "2    7.0      0.44               1.0            1.0            0.0   \n",
       "3   26.0      0.44               1.0            1.0            0.0   \n",
       "4    9.0      0.44               1.0            1.0            0.0   \n",
       "\n",
       "   name_Black  name_Black SUV  name_Lux  name_Lux Black  name_Lux Black XL  \\\n",
       "0         0.0             0.0       0.0             0.0                0.0   \n",
       "1         0.0             0.0       1.0             0.0                0.0   \n",
       "2         0.0             0.0       0.0             0.0                0.0   \n",
       "3         0.0             0.0       0.0             0.0                1.0   \n",
       "4         0.0             0.0       0.0             0.0                0.0   \n",
       "\n",
       "   name_Lyft  name_Lyft XL  name_Shared  name_UberPool  name_UberX  \\\n",
       "0        0.0           0.0          1.0            0.0         0.0   \n",
       "1        0.0           0.0          0.0            0.0         0.0   \n",
       "2        1.0           0.0          0.0            0.0         0.0   \n",
       "3        0.0           0.0          0.0            0.0         0.0   \n",
       "4        0.0           1.0          0.0            0.0         0.0   \n",
       "\n",
       "   name_UberXL  name_WAV  \n",
       "0          0.0       0.0  \n",
       "1          0.0       0.0  \n",
       "2          0.0       0.0  \n",
       "3          0.0       0.0  \n",
       "4          0.0       0.0  "
      ]
     },
     "execution_count": 48,
     "metadata": {},
     "output_type": "execute_result"
    }
   ],
   "source": [
    "rideshare = rideshare.drop(['month','day','hour'],axis=1)\n",
    "print(rideshare.shape)\n",
    "rideshare.head()"
   ]
  },
  {
   "cell_type": "markdown",
   "metadata": {},
   "source": [
    "#### Eng. Ayman Elkholy"
   ]
  },
  {
   "cell_type": "markdown",
   "metadata": {
    "id": "UqHWhyFGWRan"
   },
   "source": [
    "## Checking for outliers. Checking Min and Max threshold values and Plotting box plot on Price column.."
   ]
  },
  {
   "cell_type": "markdown",
   "metadata": {
    "ExecuteTime": {
     "end_time": "2023-02-16T22:08:33.416857Z",
     "start_time": "2023-02-16T22:08:33.403351Z"
    }
   },
   "source": [
    "<p align=\"center\"><img src='https://i.stack.imgur.com/AXEzg.png' width=\"300\"/>"
   ]
  },
  {
   "cell_type": "code",
   "execution_count": 49,
   "metadata": {
    "ExecuteTime": {
     "end_time": "2023-02-17T20:36:37.247414Z",
     "start_time": "2023-02-17T20:36:37.232447Z"
    },
    "colab": {
     "base_uri": "https://localhost:8080/"
    },
    "execution": {
     "iopub.execute_input": "2021-07-20T06:48:02.731851Z",
     "iopub.status.busy": "2021-07-20T06:48:02.731609Z",
     "iopub.status.idle": "2021-07-20T06:48:02.757411Z",
     "shell.execute_reply": "2021-07-20T06:48:02.756515Z",
     "shell.execute_reply.started": "2021-07-20T06:48:02.731826Z"
    },
    "id": "q06RSMTIWRan",
    "outputId": "ec8dda9c-42f1-4f65-e385-77674f8fa66e"
   },
   "outputs": [
    {
     "data": {
      "text/plain": [
       "42.5"
      ]
     },
     "execution_count": 49,
     "metadata": {},
     "output_type": "execute_result"
    }
   ],
   "source": [
    "max_threshold = rideshare['price'].quantile(0.99)\n",
    "max_threshold"
   ]
  },
  {
   "cell_type": "code",
   "execution_count": 50,
   "metadata": {
    "ExecuteTime": {
     "end_time": "2023-02-17T20:36:37.262421Z",
     "start_time": "2023-02-17T20:36:37.248442Z"
    },
    "colab": {
     "base_uri": "https://localhost:8080/"
    },
    "execution": {
     "iopub.execute_input": "2021-07-20T06:48:02.80339Z",
     "iopub.status.busy": "2021-07-20T06:48:02.803109Z",
     "iopub.status.idle": "2021-07-20T06:48:02.818633Z",
     "shell.execute_reply": "2021-07-20T06:48:02.817791Z",
     "shell.execute_reply.started": "2021-07-20T06:48:02.803363Z"
    },
    "id": "9sqBAVJ7WRao",
    "outputId": "ade0ccd7-2e04-4d70-9d13-cc29eb3bf916"
   },
   "outputs": [
    {
     "data": {
      "text/plain": [
       "3.5"
      ]
     },
     "execution_count": 50,
     "metadata": {},
     "output_type": "execute_result"
    }
   ],
   "source": [
    "min_threshold = rideshare['price'].quantile(0.01)\n",
    "min_threshold"
   ]
  },
  {
   "cell_type": "code",
   "execution_count": 51,
   "metadata": {
    "ExecuteTime": {
     "end_time": "2023-02-17T20:36:37.355772Z",
     "start_time": "2023-02-17T20:36:37.263365Z"
    },
    "colab": {
     "base_uri": "https://localhost:8080/",
     "height": 296
    },
    "execution": {
     "iopub.execute_input": "2021-07-20T06:48:02.86661Z",
     "iopub.status.busy": "2021-07-20T06:48:02.866324Z",
     "iopub.status.idle": "2021-07-20T06:48:03.034956Z",
     "shell.execute_reply": "2021-07-20T06:48:03.033878Z",
     "shell.execute_reply.started": "2021-07-20T06:48:02.866583Z"
    },
    "id": "m6oDiAEYWRao",
    "outputId": "644d8e44-3651-4eea-dc3c-09f4b93bf1a3"
   },
   "outputs": [
    {
     "data": {
      "text/plain": [
       "<AxesSubplot:xlabel='price'>"
      ]
     },
     "execution_count": 51,
     "metadata": {},
     "output_type": "execute_result"
    },
    {
     "data": {
      "image/png": "[encoded data removed]",
      "text/plain": [
       "<Figure size 432x288 with 1 Axes>"
      ]
     },
     "metadata": {
      "needs_background": "light"
     },
     "output_type": "display_data"
    }
   ],
   "source": [
    " # check outliers of cost\n",
    "sb.boxplot(data=rideshare,x='price',palette='rainbow',orient='h')"
   ]
  },
  {
   "cell_type": "markdown",
   "metadata": {
    "id": "OPdOS1oRWRao"
   },
   "source": [
    "Values above 43 are the outliers of our dataset. Checking the indexes and count of those observtions:"
   ]
  },
  {
   "cell_type": "code",
   "execution_count": 52,
   "metadata": {
    "ExecuteTime": {
     "end_time": "2023-02-17T20:36:37.371206Z",
     "start_time": "2023-02-17T20:36:37.357734Z"
    },
    "colab": {
     "base_uri": "https://localhost:8080/"
    },
    "execution": {
     "iopub.execute_input": "2021-07-20T06:48:36.895393Z",
     "iopub.status.busy": "2021-07-20T06:48:36.895Z",
     "iopub.status.idle": "2021-07-20T06:48:36.904893Z",
     "shell.execute_reply": "2021-07-20T06:48:36.903956Z",
     "shell.execute_reply.started": "2021-07-20T06:48:36.89536Z"
    },
    "id": "x7CmojbZWRao",
    "outputId": "f67a6e56-0722-4300-8870-5dad2b02f0b7"
   },
   "outputs": [
    {
     "name": "stdout",
     "output_type": "stream",
     "text": [
      "5357\n",
      "Precentage of rides that above 43$ is 0.000494%\n"
     ]
    }
   ],
   "source": [
    "out = np.where(rideshare['price'] > 43)\n",
    "\n",
    "print(np.count_nonzero(np.where(rideshare['price'] > 43)))\n",
    "\n",
    "print(\"Precentage of rides that above 43$ is {}%\".format(\n",
    "    round(np.count_nonzero(np.where(rideshare['price'] > 43))/rideshare.size, 6)))"
   ]
  },
  {
   "cell_type": "markdown",
   "metadata": {
    "id": "s6yAb00YWRap"
   },
   "source": [
    "Removing all the 5357 rows in that array, as if these outliers are included, error value will increase"
   ]
  },
  {
   "cell_type": "code",
   "execution_count": 53,
   "metadata": {
    "ExecuteTime": {
     "end_time": "2023-02-17T20:36:37.435067Z",
     "start_time": "2023-02-17T20:36:37.372205Z"
    },
    "colab": {
     "base_uri": "https://localhost:8080/"
    },
    "execution": {
     "iopub.execute_input": "2021-07-20T06:48:41.322181Z",
     "iopub.status.busy": "2021-07-20T06:48:41.321838Z",
     "iopub.status.idle": "2021-07-20T06:48:41.441118Z",
     "shell.execute_reply": "2021-07-20T06:48:41.440048Z",
     "shell.execute_reply.started": "2021-07-20T06:48:41.322151Z"
    },
    "id": "-L_wJl-qWRap",
    "outputId": "2760520f-ad68-42c3-c391-f435d7b18be2"
   },
   "outputs": [
    {
     "data": {
      "text/plain": [
       "(632619, 17)"
      ]
     },
     "execution_count": 53,
     "metadata": {},
     "output_type": "execute_result"
    }
   ],
   "source": [
    "rideshare.drop(out[0], inplace = True)\n",
    "rideshare.shape"
   ]
  },
  {
   "cell_type": "code",
   "execution_count": 54,
   "metadata": {
    "ExecuteTime": {
     "end_time": "2023-02-17T20:36:38.064689Z",
     "start_time": "2023-02-17T20:36:37.437031Z"
    },
    "colab": {
     "base_uri": "https://localhost:8080/",
     "height": 430
    },
    "execution": {
     "iopub.execute_input": "2021-07-20T06:48:58.266315Z",
     "iopub.status.busy": "2021-07-20T06:48:58.265792Z",
     "iopub.status.idle": "2021-07-20T06:48:58.588068Z",
     "shell.execute_reply": "2021-07-20T06:48:58.587325Z",
     "shell.execute_reply.started": "2021-07-20T06:48:58.266281Z"
    },
    "id": "nO7AMeWrWRap",
    "outputId": "206cffb3-5d04-426c-a5f0-151ab50223c3"
   },
   "outputs": [
    {
     "data": {
      "text/plain": [
       "<AxesSubplot:>"
      ]
     },
     "execution_count": 54,
     "metadata": {},
     "output_type": "execute_result"
    },
    {
     "data": {
      "image/png": "[encoded data removed]",
      "text/plain": [
       "<Figure size 432x288 with 1 Axes>"
      ]
     },
     "metadata": {
      "needs_background": "light"
     },
     "output_type": "display_data"
    }
   ],
   "source": [
    "#plotting relation between correlation and rideshare_new dataframe\n",
    "correlation=rideshare.corr()[['price']]\n",
    "price_corr=correlation[(correlation['price']>0.0001)|(correlation['price']<-0.0001)] #OR\n",
    "price_corr.plot.bar() "
   ]
  },
  {
   "cell_type": "code",
   "execution_count": 55,
   "metadata": {
    "ExecuteTime": {
     "end_time": "2023-02-17T20:36:38.095119Z",
     "start_time": "2023-02-17T20:36:38.067193Z"
    },
    "colab": {
     "base_uri": "https://localhost:8080/",
     "height": 317
    },
    "id": "3vDidEHnwZSY",
    "outputId": "ef4276ff-6b91-4d5e-e9d9-6e04f7683d23"
   },
   "outputs": [
    {
     "data": {
      "text/html": [
       "<div>\n",
       "<style scoped>\n",
       "    .dataframe tbody tr th:only-of-type {\n",
       "        vertical-align: middle;\n",
       "    }\n",
       "\n",
       "    .dataframe tbody tr th {\n",
       "        vertical-align: top;\n",
       "    }\n",
       "\n",
       "    .dataframe thead th {\n",
       "        text-align: right;\n",
       "    }\n",
       "</style>\n",
       "<table border=\"1\" class=\"dataframe\">\n",
       "  <thead>\n",
       "    <tr style=\"text-align: right;\">\n",
       "      <th></th>\n",
       "      <th>price</th>\n",
       "      <th>distance</th>\n",
       "      <th>surge_multiplier</th>\n",
       "      <th>cab_type_Lyft</th>\n",
       "      <th>cab_type_Uber</th>\n",
       "      <th>name_Black</th>\n",
       "      <th>name_Black SUV</th>\n",
       "      <th>name_Lux</th>\n",
       "      <th>name_Lux Black</th>\n",
       "      <th>name_Lux Black XL</th>\n",
       "      <th>name_Lyft</th>\n",
       "      <th>name_Lyft XL</th>\n",
       "      <th>name_Shared</th>\n",
       "      <th>name_UberPool</th>\n",
       "      <th>name_UberX</th>\n",
       "      <th>name_UberXL</th>\n",
       "      <th>name_WAV</th>\n",
       "    </tr>\n",
       "  </thead>\n",
       "  <tbody>\n",
       "    <tr>\n",
       "      <th>0</th>\n",
       "      <td>5.0</td>\n",
       "      <td>0.44</td>\n",
       "      <td>1.0</td>\n",
       "      <td>1.0</td>\n",
       "      <td>0.0</td>\n",
       "      <td>0.0</td>\n",
       "      <td>0.0</td>\n",
       "      <td>0.0</td>\n",
       "      <td>0.0</td>\n",
       "      <td>0.0</td>\n",
       "      <td>0.0</td>\n",
       "      <td>0.0</td>\n",
       "      <td>1.0</td>\n",
       "      <td>0.0</td>\n",
       "      <td>0.0</td>\n",
       "      <td>0.0</td>\n",
       "      <td>0.0</td>\n",
       "    </tr>\n",
       "    <tr>\n",
       "      <th>1</th>\n",
       "      <td>11.0</td>\n",
       "      <td>0.44</td>\n",
       "      <td>1.0</td>\n",
       "      <td>1.0</td>\n",
       "      <td>0.0</td>\n",
       "      <td>0.0</td>\n",
       "      <td>0.0</td>\n",
       "      <td>1.0</td>\n",
       "      <td>0.0</td>\n",
       "      <td>0.0</td>\n",
       "      <td>0.0</td>\n",
       "      <td>0.0</td>\n",
       "      <td>0.0</td>\n",
       "      <td>0.0</td>\n",
       "      <td>0.0</td>\n",
       "      <td>0.0</td>\n",
       "      <td>0.0</td>\n",
       "    </tr>\n",
       "    <tr>\n",
       "      <th>2</th>\n",
       "      <td>7.0</td>\n",
       "      <td>0.44</td>\n",
       "      <td>1.0</td>\n",
       "      <td>1.0</td>\n",
       "      <td>0.0</td>\n",
       "      <td>0.0</td>\n",
       "      <td>0.0</td>\n",
       "      <td>0.0</td>\n",
       "      <td>0.0</td>\n",
       "      <td>0.0</td>\n",
       "      <td>1.0</td>\n",
       "      <td>0.0</td>\n",
       "      <td>0.0</td>\n",
       "      <td>0.0</td>\n",
       "      <td>0.0</td>\n",
       "      <td>0.0</td>\n",
       "      <td>0.0</td>\n",
       "    </tr>\n",
       "    <tr>\n",
       "      <th>3</th>\n",
       "      <td>26.0</td>\n",
       "      <td>0.44</td>\n",
       "      <td>1.0</td>\n",
       "      <td>1.0</td>\n",
       "      <td>0.0</td>\n",
       "      <td>0.0</td>\n",
       "      <td>0.0</td>\n",
       "      <td>0.0</td>\n",
       "      <td>0.0</td>\n",
       "      <td>1.0</td>\n",
       "      <td>0.0</td>\n",
       "      <td>0.0</td>\n",
       "      <td>0.0</td>\n",
       "      <td>0.0</td>\n",
       "      <td>0.0</td>\n",
       "      <td>0.0</td>\n",
       "      <td>0.0</td>\n",
       "    </tr>\n",
       "    <tr>\n",
       "      <th>4</th>\n",
       "      <td>9.0</td>\n",
       "      <td>0.44</td>\n",
       "      <td>1.0</td>\n",
       "      <td>1.0</td>\n",
       "      <td>0.0</td>\n",
       "      <td>0.0</td>\n",
       "      <td>0.0</td>\n",
       "      <td>0.0</td>\n",
       "      <td>0.0</td>\n",
       "      <td>0.0</td>\n",
       "      <td>0.0</td>\n",
       "      <td>1.0</td>\n",
       "      <td>0.0</td>\n",
       "      <td>0.0</td>\n",
       "      <td>0.0</td>\n",
       "      <td>0.0</td>\n",
       "      <td>0.0</td>\n",
       "    </tr>\n",
       "  </tbody>\n",
       "</table>\n",
       "</div>"
      ],
      "text/plain": [
       "   price  distance  surge_multiplier  cab_type_Lyft  cab_type_Uber  \\\n",
       "0    5.0      0.44               1.0            1.0            0.0   \n",
       "1   11.0      0.44               1.0            1.0            0.0   \n",
       "2    7.0      0.44               1.0            1.0            0.0   \n",
       "3   26.0      0.44               1.0            1.0            0.0   \n",
       "4    9.0      0.44               1.0            1.0            0.0   \n",
       "\n",
       "   name_Black  name_Black SUV  name_Lux  name_Lux Black  name_Lux Black XL  \\\n",
       "0         0.0             0.0       0.0             0.0                0.0   \n",
       "1         0.0             0.0       1.0             0.0                0.0   \n",
       "2         0.0             0.0       0.0             0.0                0.0   \n",
       "3         0.0             0.0       0.0             0.0                1.0   \n",
       "4         0.0             0.0       0.0             0.0                0.0   \n",
       "\n",
       "   name_Lyft  name_Lyft XL  name_Shared  name_UberPool  name_UberX  \\\n",
       "0        0.0           0.0          1.0            0.0         0.0   \n",
       "1        0.0           0.0          0.0            0.0         0.0   \n",
       "2        1.0           0.0          0.0            0.0         0.0   \n",
       "3        0.0           0.0          0.0            0.0         0.0   \n",
       "4        0.0           1.0          0.0            0.0         0.0   \n",
       "\n",
       "   name_UberXL  name_WAV  \n",
       "0          0.0       0.0  \n",
       "1          0.0       0.0  \n",
       "2          0.0       0.0  \n",
       "3          0.0       0.0  \n",
       "4          0.0       0.0  "
      ]
     },
     "execution_count": 55,
     "metadata": {},
     "output_type": "execute_result"
    }
   ],
   "source": [
    "rideshare.head()"
   ]
  },
  {
   "cell_type": "code",
   "execution_count": 56,
   "metadata": {
    "ExecuteTime": {
     "end_time": "2023-02-17T20:36:41.969140Z",
     "start_time": "2023-02-17T20:36:38.097114Z"
    }
   },
   "outputs": [],
   "source": [
    "rideshare.to_csv('./Final_rideshare.csv', index=False)"
   ]
  }
 ],
 "metadata": {
  "colab": {
   "provenance": []
  },
  "kernelspec": {
   "display_name": "Python 3",
   "language": "python",
   "name": "python3"
  },
  "language_info": {
   "codemirror_mode": {
    "name": "ipython",
    "version": 3
   },
   "file_extension": ".py",
   "mimetype": "text/x-python",
   "name": "python",
   "nbconvert_exporter": "python",
   "pygments_lexer": "ipython3",
   "version": "3.9.12"
  }
 },
 "nbformat": 4,
 "nbformat_minor": 1
}
